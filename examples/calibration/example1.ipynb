{
 "cells": [
  {
   "cell_type": "code",
   "execution_count": 1,
   "id": "b6a347cb",
   "metadata": {},
   "outputs": [],
   "source": [
    "import numpy as np\n",
    "import pandas as pd\n",
    "from pathlib import Path\n",
    "import sys\n",
    "\n",
    "sys.path.append(str(Path.cwd().parent.parent))\n",
    "# Import optswmm modules\n",
    "\n",
    "from optswmm.utils.calparams import CalParam, CalParams\n",
    "from optswmm.utils.calibutils import calibrate\n",
    "from optswmm.utils.optconfig import OptConfig\n",
    "from optswmm.utils.runutils import OptRun\n",
    "from swmmio import Model"
   ]
  },
  {
   "cell_type": "code",
   "execution_count": 2,
   "id": "479acde0",
   "metadata": {},
   "outputs": [],
   "source": [
    "from optswmm.utils.runutils import OptRuns, OptRun\n",
    "ors = OptRuns(Path(\"runs\"))"
   ]
  },
  {
   "cell_type": "code",
   "execution_count": 3,
   "id": "488aac71",
   "metadata": {},
   "outputs": [
    {
     "data": {
      "application/vnd.microsoft.datawrangler.viewer.v0+json": {
       "columns": [
        {
         "name": "index",
         "rawType": "int64",
         "type": "integer"
        },
        {
         "name": "name",
         "rawType": "object",
         "type": "string"
        },
        {
         "name": "date",
         "rawType": "datetime64[ns]",
         "type": "datetime"
        },
        {
         "name": "model_file",
         "rawType": "object",
         "type": "unknown"
        },
        {
         "name": "algorithm",
         "rawType": "object",
         "type": "string"
        },
        {
         "name": "hierarchical",
         "rawType": "object",
         "type": "string"
        },
        {
         "name": "normalize",
         "rawType": "object",
         "type": "string"
        },
        {
         "name": "target_variables",
         "rawType": "object",
         "type": "string"
        },
        {
         "name": "score_function",
         "rawType": "object",
         "type": "string"
        },
        {
         "name": "max_iter",
         "rawType": "object",
         "type": "string"
        }
       ],
       "ref": "4ac0ea7d-8378-42e4-8dfd-c49d7c656a9e",
       "rows": [
        [
         "0",
         "run-_16-09-25-161650",
         "2025-09-16 16:16:50",
         "C:\\Users\\everett\\Documents\\GitHub\\optswmm\\tests\\fixtures\\sample_models\\Example1_uncal.inp",
         "Powell",
         "false",
         "false",
         "flow(cms)",
         "kge",
         "1000"
        ],
        [
         "1",
         "run-_16-09-25-170352",
         "2025-09-16 17:03:52",
         "C:\\Users\\everett\\Documents\\GitHub\\optswmm\\tests\\fixtures\\sample_models\\Example1_uncal.inp",
         "Powell",
         "false",
         "false",
         "flow(cms)",
         "kge",
         "1000"
        ],
        [
         "2",
         "run-_16-09-25-170741",
         "2025-09-16 17:07:41",
         "C:\\Users\\everett\\Documents\\GitHub\\optswmm\\tests\\fixtures\\sample_models\\Example1_uncal.inp",
         "Powell",
         "false",
         "false",
         "flow(cms)",
         "kge",
         "1000"
        ],
        [
         "3",
         "run-_16-09-25-171625",
         "2025-09-16 17:16:25",
         "C:\\Users\\everett\\Documents\\GitHub\\optswmm\\tests\\fixtures\\sample_models\\Example1_uncal.inp",
         "Powell",
         "false",
         "false",
         "flow(cms)",
         "kge",
         "1000"
        ],
        [
         "4",
         "run-_16-09-25-171644",
         "2025-09-16 17:16:44",
         "C:\\Users\\everett\\Documents\\GitHub\\optswmm\\tests\\fixtures\\sample_models\\Example1_uncal.inp",
         "Powell",
         "false",
         "false",
         "flow(cms)",
         "kge",
         "1000"
        ],
        [
         "5",
         "run-_16-09-25-172113",
         "2025-09-16 17:21:13",
         "C:\\Users\\everett\\Documents\\GitHub\\optswmm\\tests\\fixtures\\sample_models\\Example1_uncal.inp",
         "Powell",
         "false",
         "false",
         "flow(cms)",
         "kge",
         "1000"
        ],
        [
         "6",
         "run-_16-09-25-172240",
         "2025-09-16 17:22:40",
         "C:\\Users\\everett\\Documents\\GitHub\\optswmm\\tests\\fixtures\\sample_models\\Example1_uncal.inp",
         "Powell",
         "false",
         "false",
         "flow(cms)",
         "kge",
         "1000"
        ],
        [
         "7",
         "run-_16-09-25-172422",
         "2025-09-16 17:24:22",
         "C:\\Users\\everett\\Documents\\GitHub\\optswmm\\tests\\fixtures\\sample_models\\Example1_uncal.inp",
         "Powell",
         "false",
         "false",
         "flow(cms)",
         "kge",
         "1000"
        ],
        [
         "8",
         "run-_16-09-25-173312",
         "2025-09-16 17:33:12",
         "C:\\Users\\everett\\Documents\\GitHub\\optswmm\\tests\\fixtures\\sample_models\\Example1_uncal.inp",
         "Powell",
         "false",
         "false",
         "flow(cms)",
         "kge",
         "1000"
        ],
        [
         "9",
         "run-_16-09-25-173426",
         "2025-09-16 17:34:26",
         "C:\\Users\\everett\\Documents\\GitHub\\optswmm\\tests\\fixtures\\sample_models\\Example1_uncal.inp",
         "Powell",
         "false",
         "false",
         "flow(cms)",
         "kge",
         "1000"
        ],
        [
         "10",
         "run-_16-09-25-173901",
         "2025-09-16 17:39:01",
         "C:\\Users\\everett\\Documents\\GitHub\\optswmm\\tests\\fixtures\\sample_models\\Example1_uncal.inp",
         "Powell",
         "false",
         "false",
         "flow(cms)",
         "kge",
         "1000"
        ],
        [
         "11",
         "run-_16-09-25-185134",
         "2025-09-16 18:51:34",
         "C:\\Users\\everett\\Documents\\GitHub\\optswmm\\tests\\fixtures\\sample_models\\Example1_uncal.inp",
         "differential-evolution",
         "false",
         "false",
         "flow(cms)",
         "kge",
         "1000"
        ],
        [
         "12",
         "run-_16-09-25-190305",
         "2025-09-16 19:03:05",
         "C:\\Users\\everett\\Documents\\GitHub\\optswmm\\tests\\fixtures\\sample_models\\Example1_uncal.inp",
         "differential-evolution",
         "false",
         "false",
         "flow(cms)",
         "kge",
         "1000"
        ],
        [
         "13",
         "run-_16-09-25-190830",
         "2025-09-16 19:08:30",
         "C:\\Users\\everett\\Documents\\GitHub\\optswmm\\tests\\fixtures\\sample_models\\Example1_uncal.inp",
         "differential-evolution",
         "false",
         "false",
         "flow(cms)",
         "kge",
         "1000"
        ],
        [
         "14",
         "run-_16-09-25-191129",
         "2025-09-16 19:11:29",
         "C:\\Users\\everett\\Documents\\GitHub\\optswmm\\tests\\fixtures\\sample_models\\Example1_uncal.inp",
         "Powell",
         "false",
         "false",
         "flow(cms)",
         "kge",
         "1000"
        ],
        [
         "15",
         "run-_16-09-25-191333",
         "2025-09-16 19:13:33",
         "C:\\Users\\everett\\Documents\\GitHub\\optswmm\\tests\\fixtures\\sample_models\\Example1_uncal.inp",
         "Powell",
         "false",
         "false",
         "flow(cms)",
         "kge",
         "1000"
        ],
        [
         "16",
         "run-_16-09-25-192803",
         "2025-09-16 19:28:03",
         "C:\\Users\\everett\\Documents\\GitHub\\optswmm\\tests\\fixtures\\sample_models\\Example1_uncal.inp",
         "Powell",
         "false",
         "false",
         "flow(cms)",
         "kge",
         "1000"
        ],
        [
         "17",
         "run-_16-09-25-193225",
         "2025-09-16 19:32:25",
         "C:\\Users\\everett\\Documents\\GitHub\\optswmm\\tests\\fixtures\\sample_models\\Example1_uncal.inp",
         "Powell",
         "false",
         "false",
         "flow(cms)",
         "kge",
         "1000"
        ],
        [
         "18",
         "run-_16-09-25-193319",
         "2025-09-16 19:33:19",
         "C:\\Users\\everett\\Documents\\GitHub\\optswmm\\tests\\fixtures\\sample_models\\Example1_uncal.inp",
         "Powell",
         "false",
         "false",
         "flow(cms)",
         "kge",
         "1000"
        ],
        [
         "19",
         "run-_16-09-25-193505",
         "2025-09-16 19:35:05",
         "C:\\Users\\everett\\Documents\\GitHub\\optswmm\\tests\\fixtures\\sample_models\\Example1_uncal.inp",
         "Powell",
         "false",
         "false",
         "flow(cms)",
         "kge",
         "1000"
        ],
        [
         "20",
         "run-_16-09-25-193645",
         "2025-09-16 19:36:45",
         "C:\\Users\\everett\\Documents\\GitHub\\optswmm\\tests\\fixtures\\sample_models\\Example1_uncal.inp",
         "Powell",
         "false",
         "false",
         "flow(cms)",
         "kge",
         "1000"
        ],
        [
         "21",
         "run-_16-09-25-195149",
         "2025-09-16 19:51:49",
         "C:\\Users\\everett\\Documents\\GitHub\\optswmm\\tests\\fixtures\\sample_models\\Example1_uncal.inp",
         "Powell",
         "false",
         "false",
         "flow(cms)",
         "kge",
         "1000"
        ],
        [
         "22",
         "run-_16-09-25-202043",
         "2025-09-16 20:20:43",
         "C:\\Users\\everett\\Documents\\GitHub\\optswmm\\tests\\fixtures\\sample_models\\Example1_uncal.inp",
         "differential-evolution",
         "false",
         "false",
         "flow(cms)",
         "kge",
         "1000"
        ],
        [
         "23",
         "run-_16-09-25-210752",
         "2025-09-16 21:07:52",
         "C:\\Users\\everett\\Documents\\GitHub\\optswmm\\tests\\fixtures\\sample_models\\Example1_uncal.inp",
         "differential-evolution",
         "false",
         "false",
         "flow(cms)",
         "kge",
         "1000"
        ],
        [
         "24",
         "run-_17-09-25-001502",
         "2025-09-17 00:15:02",
         "C:\\Users\\everett\\Documents\\GitHub\\optswmm\\tests\\fixtures\\sample_models\\Example1_uncal.inp",
         "differential-evolution",
         "false",
         "false",
         "flow(cms)",
         "kge",
         "1000"
        ],
        [
         "25",
         "run-_17-09-25-002843",
         "2025-09-17 00:28:43",
         "C:\\Users\\everett\\Documents\\GitHub\\optswmm\\tests\\fixtures\\sample_models\\Example1_uncal.inp",
         "differential-evolution",
         "false",
         "false",
         "flow(cms)",
         "kge",
         "1000"
        ],
        [
         "26",
         "run-_17-09-25-003358",
         "2025-09-17 00:33:58",
         "C:\\Users\\everett\\Documents\\GitHub\\optswmm\\tests\\fixtures\\sample_models\\Example1_uncal.inp",
         "differential-evolution",
         "false",
         "false",
         "flow(cms)",
         "kge",
         "1000"
        ],
        [
         "27",
         "run-_17-09-25-003759",
         "2025-09-17 00:37:59",
         "C:\\Users\\everett\\Documents\\GitHub\\optswmm\\tests\\fixtures\\sample_models\\Example1_uncal.inp",
         "differential-evolution",
         "false",
         "false",
         "flow(cms)",
         "kge",
         "1000"
        ],
        [
         "28",
         "run-_17-09-25-004925",
         "2025-09-17 00:49:25",
         "C:\\Users\\everett\\Documents\\GitHub\\optswmm\\tests\\fixtures\\sample_models\\Example1_uncal.inp",
         "differential-evolution",
         "false",
         "false",
         "flow(cms)",
         "kge",
         "1000"
        ],
        [
         "29",
         "run-_17-09-25-013557",
         "2025-09-17 01:35:57",
         "C:\\Users\\everett\\Documents\\GitHub\\optswmm\\tests\\fixtures\\sample_models\\Example1_uncal.inp",
         "differential-evolution",
         "false",
         "false",
         "flow(cms)",
         "kge",
         "1000"
        ],
        [
         "30",
         "run-_17-09-25-013917",
         "2025-09-17 01:39:17",
         "C:\\Users\\everett\\Documents\\GitHub\\optswmm\\tests\\fixtures\\sample_models\\Example1_uncal.inp",
         "differential-evolution",
         "false",
         "false",
         "flow(cms)",
         "kge",
         "1000"
        ],
        [
         "31",
         "run-_17-09-25-014000",
         "2025-09-17 01:40:00",
         "C:\\Users\\everett\\Documents\\GitHub\\optswmm\\tests\\fixtures\\sample_models\\Example1_uncal.inp",
         "differential-evolution",
         "false",
         "false",
         "flow(cms)",
         "kge",
         "1000"
        ],
        [
         "32",
         "run-_17-09-25-014325",
         "2025-09-17 01:43:25",
         "C:\\Users\\everett\\Documents\\GitHub\\optswmm\\tests\\fixtures\\sample_models\\Example1_uncal.inp",
         "differential-evolution",
         "false",
         "false",
         "flow(cms)",
         "kge",
         "1000"
        ],
        [
         "33",
         "run-_17-09-25-015518",
         "2025-09-17 01:55:18",
         "C:\\Users\\everett\\Documents\\GitHub\\optswmm\\tests\\fixtures\\sample_models\\Example1_uncal.inp",
         "differential-evolution",
         "false",
         "false",
         "flow(cms)",
         "kge",
         "1000"
        ],
        [
         "34",
         "run-_17-09-25-015611",
         "2025-09-17 01:56:11",
         "C:\\Users\\everett\\Documents\\GitHub\\optswmm\\tests\\fixtures\\sample_models\\Example1_uncal.inp",
         "differential-evolution",
         "false",
         "false",
         "flow(cms)",
         "kge",
         "1000"
        ],
        [
         "35",
         "run-_17-09-25-015738",
         "2025-09-17 01:57:38",
         "C:\\Users\\everett\\Documents\\GitHub\\optswmm\\tests\\fixtures\\sample_models\\Example1_uncal.inp",
         "differential-evolution",
         "false",
         "false",
         "flow(cms)",
         "kge",
         "1000"
        ],
        [
         "36",
         "run-_17-09-25-022131",
         "2025-09-17 02:21:31",
         "C:\\Users\\everett\\Documents\\GitHub\\optswmm\\tests\\fixtures\\sample_models\\Example1_uncal.inp",
         "Powell",
         "false",
         "false",
         "flow(cms)",
         "kge",
         "1000"
        ],
        [
         "37",
         "run-_17-09-25-024036",
         "2025-09-17 02:40:36",
         "C:\\Users\\everett\\Documents\\GitHub\\optswmm\\tests\\fixtures\\sample_models\\Example1_uncal.inp",
         "Powell",
         "false",
         "false",
         "flow(cms)",
         "kge",
         "1000"
        ],
        [
         "38",
         "run-_17-09-25-024403",
         "2025-09-17 02:44:03",
         "C:\\Users\\everett\\Documents\\GitHub\\optswmm\\tests\\fixtures\\sample_models\\Example1_uncal.inp",
         "Powell",
         "false",
         "false",
         "flow(cms)",
         "kge",
         "1000"
        ],
        [
         "39",
         "run-_17-09-25-105131",
         "2025-09-17 10:51:31",
         "C:\\Users\\everett\\Documents\\GitHub\\optswmm\\tests\\fixtures\\sample_models\\Example1_uncal.inp",
         "Powell",
         "false",
         "false",
         "flow(cms)",
         "kge",
         "1000"
        ],
        [
         "40",
         "run-_17-09-25-111746",
         "2025-09-17 11:17:46",
         "C:\\Users\\everett\\Documents\\GitHub\\optswmm\\tests\\fixtures\\sample_models\\Example1_uncal.inp",
         "differential-evolution",
         "false",
         "false",
         "flow(cms)",
         "kge",
         "1000"
        ],
        [
         "41",
         "run-_17-09-25-120019",
         "2025-09-17 12:00:19",
         "C:\\Users\\everett\\Documents\\GitHub\\optswmm\\tests\\fixtures\\sample_models\\Example1_uncal.inp",
         "differential-evolution",
         "false",
         "false",
         "flow(cms)",
         "kge",
         "1000"
        ],
        [
         "42",
         "run-_17-09-25-124313",
         "2025-09-17 12:43:13",
         "C:\\Users\\everett\\Documents\\GitHub\\optswmm\\tests\\fixtures\\sample_models\\Example1_uncal.inp",
         "differential-evolution",
         "false",
         "false",
         "flow(cms)",
         "kge",
         "1000"
        ],
        [
         "43",
         "run-_17-09-25-130528",
         "2025-09-17 13:05:28",
         "C:\\Users\\everett\\Documents\\GitHub\\optswmm\\tests\\fixtures\\sample_models\\Example1_uncal.inp",
         "differential-evolution",
         "false",
         "false",
         "flow(cms)",
         "kge",
         "1000"
        ],
        [
         "44",
         "run-_17-09-25-142921",
         "2025-09-17 14:29:21",
         "C:\\Users\\everett\\Documents\\GitHub\\optswmm\\tests\\fixtures\\sample_models\\Example1_uncal.inp",
         "differential-evolution",
         "false",
         "false",
         "flow(cms)",
         "kge",
         "1000"
        ],
        [
         "45",
         "run-_17-09-25-203757",
         "2025-09-17 20:37:57",
         "C:\\Users\\everett\\Documents\\GitHub\\optswmm\\tests\\fixtures\\sample_models\\Example1_uncal.inp",
         "differential-evolution",
         "false",
         "false",
         "flow(cms)",
         "kge",
         "1000"
        ]
       ],
       "shape": {
        "columns": 9,
        "rows": 46
       }
      },
      "text/html": [
       "<div>\n",
       "<style scoped>\n",
       "    .dataframe tbody tr th:only-of-type {\n",
       "        vertical-align: middle;\n",
       "    }\n",
       "\n",
       "    .dataframe tbody tr th {\n",
       "        vertical-align: top;\n",
       "    }\n",
       "\n",
       "    .dataframe thead th {\n",
       "        text-align: right;\n",
       "    }\n",
       "</style>\n",
       "<table border=\"1\" class=\"dataframe\">\n",
       "  <thead>\n",
       "    <tr style=\"text-align: right;\">\n",
       "      <th></th>\n",
       "      <th>name</th>\n",
       "      <th>date</th>\n",
       "      <th>...</th>\n",
       "      <th>score_function</th>\n",
       "      <th>max_iter</th>\n",
       "    </tr>\n",
       "  </thead>\n",
       "  <tbody>\n",
       "    <tr>\n",
       "      <th>0</th>\n",
       "      <td>run-_16-09-25-161650</td>\n",
       "      <td>2025-09-16 16:16:50</td>\n",
       "      <td>...</td>\n",
       "      <td>kge</td>\n",
       "      <td>1000</td>\n",
       "    </tr>\n",
       "    <tr>\n",
       "      <th>1</th>\n",
       "      <td>run-_16-09-25-170352</td>\n",
       "      <td>2025-09-16 17:03:52</td>\n",
       "      <td>...</td>\n",
       "      <td>kge</td>\n",
       "      <td>1000</td>\n",
       "    </tr>\n",
       "    <tr>\n",
       "      <th>2</th>\n",
       "      <td>run-_16-09-25-170741</td>\n",
       "      <td>2025-09-16 17:07:41</td>\n",
       "      <td>...</td>\n",
       "      <td>kge</td>\n",
       "      <td>1000</td>\n",
       "    </tr>\n",
       "    <tr>\n",
       "      <th>3</th>\n",
       "      <td>run-_16-09-25-171625</td>\n",
       "      <td>2025-09-16 17:16:25</td>\n",
       "      <td>...</td>\n",
       "      <td>kge</td>\n",
       "      <td>1000</td>\n",
       "    </tr>\n",
       "    <tr>\n",
       "      <th>4</th>\n",
       "      <td>run-_16-09-25-171644</td>\n",
       "      <td>2025-09-16 17:16:44</td>\n",
       "      <td>...</td>\n",
       "      <td>kge</td>\n",
       "      <td>1000</td>\n",
       "    </tr>\n",
       "    <tr>\n",
       "      <th>5</th>\n",
       "      <td>run-_16-09-25-172113</td>\n",
       "      <td>2025-09-16 17:21:13</td>\n",
       "      <td>...</td>\n",
       "      <td>kge</td>\n",
       "      <td>1000</td>\n",
       "    </tr>\n",
       "    <tr>\n",
       "      <th>6</th>\n",
       "      <td>run-_16-09-25-172240</td>\n",
       "      <td>2025-09-16 17:22:40</td>\n",
       "      <td>...</td>\n",
       "      <td>kge</td>\n",
       "      <td>1000</td>\n",
       "    </tr>\n",
       "    <tr>\n",
       "      <th>7</th>\n",
       "      <td>run-_16-09-25-172422</td>\n",
       "      <td>2025-09-16 17:24:22</td>\n",
       "      <td>...</td>\n",
       "      <td>kge</td>\n",
       "      <td>1000</td>\n",
       "    </tr>\n",
       "    <tr>\n",
       "      <th>8</th>\n",
       "      <td>run-_16-09-25-173312</td>\n",
       "      <td>2025-09-16 17:33:12</td>\n",
       "      <td>...</td>\n",
       "      <td>kge</td>\n",
       "      <td>1000</td>\n",
       "    </tr>\n",
       "    <tr>\n",
       "      <th>9</th>\n",
       "      <td>run-_16-09-25-173426</td>\n",
       "      <td>2025-09-16 17:34:26</td>\n",
       "      <td>...</td>\n",
       "      <td>kge</td>\n",
       "      <td>1000</td>\n",
       "    </tr>\n",
       "    <tr>\n",
       "      <th>10</th>\n",
       "      <td>run-_16-09-25-173901</td>\n",
       "      <td>2025-09-16 17:39:01</td>\n",
       "      <td>...</td>\n",
       "      <td>kge</td>\n",
       "      <td>1000</td>\n",
       "    </tr>\n",
       "    <tr>\n",
       "      <th>11</th>\n",
       "      <td>run-_16-09-25-185134</td>\n",
       "      <td>2025-09-16 18:51:34</td>\n",
       "      <td>...</td>\n",
       "      <td>kge</td>\n",
       "      <td>1000</td>\n",
       "    </tr>\n",
       "    <tr>\n",
       "      <th>12</th>\n",
       "      <td>run-_16-09-25-190305</td>\n",
       "      <td>2025-09-16 19:03:05</td>\n",
       "      <td>...</td>\n",
       "      <td>kge</td>\n",
       "      <td>1000</td>\n",
       "    </tr>\n",
       "    <tr>\n",
       "      <th>13</th>\n",
       "      <td>run-_16-09-25-190830</td>\n",
       "      <td>2025-09-16 19:08:30</td>\n",
       "      <td>...</td>\n",
       "      <td>kge</td>\n",
       "      <td>1000</td>\n",
       "    </tr>\n",
       "    <tr>\n",
       "      <th>14</th>\n",
       "      <td>run-_16-09-25-191129</td>\n",
       "      <td>2025-09-16 19:11:29</td>\n",
       "      <td>...</td>\n",
       "      <td>kge</td>\n",
       "      <td>1000</td>\n",
       "    </tr>\n",
       "    <tr>\n",
       "      <th>15</th>\n",
       "      <td>run-_16-09-25-191333</td>\n",
       "      <td>2025-09-16 19:13:33</td>\n",
       "      <td>...</td>\n",
       "      <td>kge</td>\n",
       "      <td>1000</td>\n",
       "    </tr>\n",
       "    <tr>\n",
       "      <th>16</th>\n",
       "      <td>run-_16-09-25-192803</td>\n",
       "      <td>2025-09-16 19:28:03</td>\n",
       "      <td>...</td>\n",
       "      <td>kge</td>\n",
       "      <td>1000</td>\n",
       "    </tr>\n",
       "    <tr>\n",
       "      <th>17</th>\n",
       "      <td>run-_16-09-25-193225</td>\n",
       "      <td>2025-09-16 19:32:25</td>\n",
       "      <td>...</td>\n",
       "      <td>kge</td>\n",
       "      <td>1000</td>\n",
       "    </tr>\n",
       "    <tr>\n",
       "      <th>18</th>\n",
       "      <td>run-_16-09-25-193319</td>\n",
       "      <td>2025-09-16 19:33:19</td>\n",
       "      <td>...</td>\n",
       "      <td>kge</td>\n",
       "      <td>1000</td>\n",
       "    </tr>\n",
       "    <tr>\n",
       "      <th>19</th>\n",
       "      <td>run-_16-09-25-193505</td>\n",
       "      <td>2025-09-16 19:35:05</td>\n",
       "      <td>...</td>\n",
       "      <td>kge</td>\n",
       "      <td>1000</td>\n",
       "    </tr>\n",
       "    <tr>\n",
       "      <th>20</th>\n",
       "      <td>run-_16-09-25-193645</td>\n",
       "      <td>2025-09-16 19:36:45</td>\n",
       "      <td>...</td>\n",
       "      <td>kge</td>\n",
       "      <td>1000</td>\n",
       "    </tr>\n",
       "    <tr>\n",
       "      <th>21</th>\n",
       "      <td>run-_16-09-25-195149</td>\n",
       "      <td>2025-09-16 19:51:49</td>\n",
       "      <td>...</td>\n",
       "      <td>kge</td>\n",
       "      <td>1000</td>\n",
       "    </tr>\n",
       "    <tr>\n",
       "      <th>22</th>\n",
       "      <td>run-_16-09-25-202043</td>\n",
       "      <td>2025-09-16 20:20:43</td>\n",
       "      <td>...</td>\n",
       "      <td>kge</td>\n",
       "      <td>1000</td>\n",
       "    </tr>\n",
       "    <tr>\n",
       "      <th>23</th>\n",
       "      <td>run-_16-09-25-210752</td>\n",
       "      <td>2025-09-16 21:07:52</td>\n",
       "      <td>...</td>\n",
       "      <td>kge</td>\n",
       "      <td>1000</td>\n",
       "    </tr>\n",
       "    <tr>\n",
       "      <th>24</th>\n",
       "      <td>run-_17-09-25-001502</td>\n",
       "      <td>2025-09-17 00:15:02</td>\n",
       "      <td>...</td>\n",
       "      <td>kge</td>\n",
       "      <td>1000</td>\n",
       "    </tr>\n",
       "    <tr>\n",
       "      <th>25</th>\n",
       "      <td>run-_17-09-25-002843</td>\n",
       "      <td>2025-09-17 00:28:43</td>\n",
       "      <td>...</td>\n",
       "      <td>kge</td>\n",
       "      <td>1000</td>\n",
       "    </tr>\n",
       "    <tr>\n",
       "      <th>26</th>\n",
       "      <td>run-_17-09-25-003358</td>\n",
       "      <td>2025-09-17 00:33:58</td>\n",
       "      <td>...</td>\n",
       "      <td>kge</td>\n",
       "      <td>1000</td>\n",
       "    </tr>\n",
       "    <tr>\n",
       "      <th>27</th>\n",
       "      <td>run-_17-09-25-003759</td>\n",
       "      <td>2025-09-17 00:37:59</td>\n",
       "      <td>...</td>\n",
       "      <td>kge</td>\n",
       "      <td>1000</td>\n",
       "    </tr>\n",
       "    <tr>\n",
       "      <th>28</th>\n",
       "      <td>run-_17-09-25-004925</td>\n",
       "      <td>2025-09-17 00:49:25</td>\n",
       "      <td>...</td>\n",
       "      <td>kge</td>\n",
       "      <td>1000</td>\n",
       "    </tr>\n",
       "    <tr>\n",
       "      <th>29</th>\n",
       "      <td>run-_17-09-25-013557</td>\n",
       "      <td>2025-09-17 01:35:57</td>\n",
       "      <td>...</td>\n",
       "      <td>kge</td>\n",
       "      <td>1000</td>\n",
       "    </tr>\n",
       "    <tr>\n",
       "      <th>30</th>\n",
       "      <td>run-_17-09-25-013917</td>\n",
       "      <td>2025-09-17 01:39:17</td>\n",
       "      <td>...</td>\n",
       "      <td>kge</td>\n",
       "      <td>1000</td>\n",
       "    </tr>\n",
       "    <tr>\n",
       "      <th>31</th>\n",
       "      <td>run-_17-09-25-014000</td>\n",
       "      <td>2025-09-17 01:40:00</td>\n",
       "      <td>...</td>\n",
       "      <td>kge</td>\n",
       "      <td>1000</td>\n",
       "    </tr>\n",
       "    <tr>\n",
       "      <th>32</th>\n",
       "      <td>run-_17-09-25-014325</td>\n",
       "      <td>2025-09-17 01:43:25</td>\n",
       "      <td>...</td>\n",
       "      <td>kge</td>\n",
       "      <td>1000</td>\n",
       "    </tr>\n",
       "    <tr>\n",
       "      <th>33</th>\n",
       "      <td>run-_17-09-25-015518</td>\n",
       "      <td>2025-09-17 01:55:18</td>\n",
       "      <td>...</td>\n",
       "      <td>kge</td>\n",
       "      <td>1000</td>\n",
       "    </tr>\n",
       "    <tr>\n",
       "      <th>34</th>\n",
       "      <td>run-_17-09-25-015611</td>\n",
       "      <td>2025-09-17 01:56:11</td>\n",
       "      <td>...</td>\n",
       "      <td>kge</td>\n",
       "      <td>1000</td>\n",
       "    </tr>\n",
       "    <tr>\n",
       "      <th>35</th>\n",
       "      <td>run-_17-09-25-015738</td>\n",
       "      <td>2025-09-17 01:57:38</td>\n",
       "      <td>...</td>\n",
       "      <td>kge</td>\n",
       "      <td>1000</td>\n",
       "    </tr>\n",
       "    <tr>\n",
       "      <th>36</th>\n",
       "      <td>run-_17-09-25-022131</td>\n",
       "      <td>2025-09-17 02:21:31</td>\n",
       "      <td>...</td>\n",
       "      <td>kge</td>\n",
       "      <td>1000</td>\n",
       "    </tr>\n",
       "    <tr>\n",
       "      <th>37</th>\n",
       "      <td>run-_17-09-25-024036</td>\n",
       "      <td>2025-09-17 02:40:36</td>\n",
       "      <td>...</td>\n",
       "      <td>kge</td>\n",
       "      <td>1000</td>\n",
       "    </tr>\n",
       "    <tr>\n",
       "      <th>38</th>\n",
       "      <td>run-_17-09-25-024403</td>\n",
       "      <td>2025-09-17 02:44:03</td>\n",
       "      <td>...</td>\n",
       "      <td>kge</td>\n",
       "      <td>1000</td>\n",
       "    </tr>\n",
       "    <tr>\n",
       "      <th>39</th>\n",
       "      <td>run-_17-09-25-105131</td>\n",
       "      <td>2025-09-17 10:51:31</td>\n",
       "      <td>...</td>\n",
       "      <td>kge</td>\n",
       "      <td>1000</td>\n",
       "    </tr>\n",
       "    <tr>\n",
       "      <th>40</th>\n",
       "      <td>run-_17-09-25-111746</td>\n",
       "      <td>2025-09-17 11:17:46</td>\n",
       "      <td>...</td>\n",
       "      <td>kge</td>\n",
       "      <td>1000</td>\n",
       "    </tr>\n",
       "    <tr>\n",
       "      <th>41</th>\n",
       "      <td>run-_17-09-25-120019</td>\n",
       "      <td>2025-09-17 12:00:19</td>\n",
       "      <td>...</td>\n",
       "      <td>kge</td>\n",
       "      <td>1000</td>\n",
       "    </tr>\n",
       "    <tr>\n",
       "      <th>42</th>\n",
       "      <td>run-_17-09-25-124313</td>\n",
       "      <td>2025-09-17 12:43:13</td>\n",
       "      <td>...</td>\n",
       "      <td>kge</td>\n",
       "      <td>1000</td>\n",
       "    </tr>\n",
       "    <tr>\n",
       "      <th>43</th>\n",
       "      <td>run-_17-09-25-130528</td>\n",
       "      <td>2025-09-17 13:05:28</td>\n",
       "      <td>...</td>\n",
       "      <td>kge</td>\n",
       "      <td>1000</td>\n",
       "    </tr>\n",
       "    <tr>\n",
       "      <th>44</th>\n",
       "      <td>run-_17-09-25-142921</td>\n",
       "      <td>2025-09-17 14:29:21</td>\n",
       "      <td>...</td>\n",
       "      <td>kge</td>\n",
       "      <td>1000</td>\n",
       "    </tr>\n",
       "    <tr>\n",
       "      <th>45</th>\n",
       "      <td>run-_17-09-25-203757</td>\n",
       "      <td>2025-09-17 20:37:57</td>\n",
       "      <td>...</td>\n",
       "      <td>kge</td>\n",
       "      <td>1000</td>\n",
       "    </tr>\n",
       "  </tbody>\n",
       "</table>\n",
       "<p>46 rows × 9 columns</p>\n",
       "</div>"
      ],
      "text/plain": [
       "                    name                date  ... score_function max_iter\n",
       "0   run-_16-09-25-161650 2025-09-16 16:16:50  ...            kge     1000\n",
       "1   run-_16-09-25-170352 2025-09-16 17:03:52  ...            kge     1000\n",
       "2   run-_16-09-25-170741 2025-09-16 17:07:41  ...            kge     1000\n",
       "3   run-_16-09-25-171625 2025-09-16 17:16:25  ...            kge     1000\n",
       "4   run-_16-09-25-171644 2025-09-16 17:16:44  ...            kge     1000\n",
       "5   run-_16-09-25-172113 2025-09-16 17:21:13  ...            kge     1000\n",
       "6   run-_16-09-25-172240 2025-09-16 17:22:40  ...            kge     1000\n",
       "7   run-_16-09-25-172422 2025-09-16 17:24:22  ...            kge     1000\n",
       "8   run-_16-09-25-173312 2025-09-16 17:33:12  ...            kge     1000\n",
       "9   run-_16-09-25-173426 2025-09-16 17:34:26  ...            kge     1000\n",
       "10  run-_16-09-25-173901 2025-09-16 17:39:01  ...            kge     1000\n",
       "11  run-_16-09-25-185134 2025-09-16 18:51:34  ...            kge     1000\n",
       "12  run-_16-09-25-190305 2025-09-16 19:03:05  ...            kge     1000\n",
       "13  run-_16-09-25-190830 2025-09-16 19:08:30  ...            kge     1000\n",
       "14  run-_16-09-25-191129 2025-09-16 19:11:29  ...            kge     1000\n",
       "15  run-_16-09-25-191333 2025-09-16 19:13:33  ...            kge     1000\n",
       "16  run-_16-09-25-192803 2025-09-16 19:28:03  ...            kge     1000\n",
       "17  run-_16-09-25-193225 2025-09-16 19:32:25  ...            kge     1000\n",
       "18  run-_16-09-25-193319 2025-09-16 19:33:19  ...            kge     1000\n",
       "19  run-_16-09-25-193505 2025-09-16 19:35:05  ...            kge     1000\n",
       "20  run-_16-09-25-193645 2025-09-16 19:36:45  ...            kge     1000\n",
       "21  run-_16-09-25-195149 2025-09-16 19:51:49  ...            kge     1000\n",
       "22  run-_16-09-25-202043 2025-09-16 20:20:43  ...            kge     1000\n",
       "23  run-_16-09-25-210752 2025-09-16 21:07:52  ...            kge     1000\n",
       "24  run-_17-09-25-001502 2025-09-17 00:15:02  ...            kge     1000\n",
       "25  run-_17-09-25-002843 2025-09-17 00:28:43  ...            kge     1000\n",
       "26  run-_17-09-25-003358 2025-09-17 00:33:58  ...            kge     1000\n",
       "27  run-_17-09-25-003759 2025-09-17 00:37:59  ...            kge     1000\n",
       "28  run-_17-09-25-004925 2025-09-17 00:49:25  ...            kge     1000\n",
       "29  run-_17-09-25-013557 2025-09-17 01:35:57  ...            kge     1000\n",
       "30  run-_17-09-25-013917 2025-09-17 01:39:17  ...            kge     1000\n",
       "31  run-_17-09-25-014000 2025-09-17 01:40:00  ...            kge     1000\n",
       "32  run-_17-09-25-014325 2025-09-17 01:43:25  ...            kge     1000\n",
       "33  run-_17-09-25-015518 2025-09-17 01:55:18  ...            kge     1000\n",
       "34  run-_17-09-25-015611 2025-09-17 01:56:11  ...            kge     1000\n",
       "35  run-_17-09-25-015738 2025-09-17 01:57:38  ...            kge     1000\n",
       "36  run-_17-09-25-022131 2025-09-17 02:21:31  ...            kge     1000\n",
       "37  run-_17-09-25-024036 2025-09-17 02:40:36  ...            kge     1000\n",
       "38  run-_17-09-25-024403 2025-09-17 02:44:03  ...            kge     1000\n",
       "39  run-_17-09-25-105131 2025-09-17 10:51:31  ...            kge     1000\n",
       "40  run-_17-09-25-111746 2025-09-17 11:17:46  ...            kge     1000\n",
       "41  run-_17-09-25-120019 2025-09-17 12:00:19  ...            kge     1000\n",
       "42  run-_17-09-25-124313 2025-09-17 12:43:13  ...            kge     1000\n",
       "43  run-_17-09-25-130528 2025-09-17 13:05:28  ...            kge     1000\n",
       "44  run-_17-09-25-142921 2025-09-17 14:29:21  ...            kge     1000\n",
       "45  run-_17-09-25-203757 2025-09-17 20:37:57  ...            kge     1000\n",
       "\n",
       "[46 rows x 9 columns]"
      ]
     },
     "execution_count": 3,
     "metadata": {},
     "output_type": "execute_result"
    }
   ],
   "source": [
    "ors.get_df()"
   ]
  },
  {
   "cell_type": "code",
   "execution_count": 4,
   "id": "1698a486",
   "metadata": {},
   "outputs": [
    {
     "data": {
      "application/vnd.plotly.v1+json": {
       "config": {
        "plotlyServerURL": "https://plot.ly"
       },
       "data": [
        {
         "mode": "lines",
         "name": "Node: 9",
         "type": "scatter",
         "x": {
          "bdata": "AAABAAIAAwAEAAUABgAHAAgACQAKAAsADAANAA4ADwAQABEAEgATABQAFQAWABcAGAAZABoAGwAcAB0AHgAfACAAIQAiACMAJAAlACYAJwAoACkAKgArACwALQAuAC8AMAAxADIAMwA0ADUANgA3ADgAOQA6ADsAPAA9AD4APwBAAEEAQgBDAEQARQBGAEcASABJAEoASwBMAE0ATgBPAFAAUQBSAFMAVABVAFYAVwBYAFkAWgBbAFwAXQBeAF8AYABhAGIAYwBkAGUAZgBnAGgAaQBqAGsAbABtAG4AbwBwAHEAcgBzAHQAdQB2AHcAeAB5AHoAewB8AH0AfgB/AIAAgQCCAIMAhACFAIYAhwCIAIkAigCLAIwAjQCOAI8AkACRAJIAkwCUAJUAlgCXAJgAmQCaAJsAnACdAJ4AnwCgAKEAogCjAKQApQCmAKcAqACpAKoAqwCsAK0ArgCvALAAsQCyALMAtAC1ALYAtwC4ALkAugC7ALwAvQC+AL8AwADBAMIAwwDEAMUAxgDHAMgAyQDKAMsAzADNAM4AzwDQANEA0gDTANQA1QDWANcA2ADZANoA2wDcAN0A3gDfAOAA4QDiAOMA5ADlAOYA5wDoAOkA6gDrAOwA7QDuAO8A8ADxAPIA8wD0APUA9gD3APgA+QD6APsA/AD9AP4A/wAAAQEBAgEDAQQBBQEGAQcBCAEJAQoBCwEMAQ0BDgEPARABEQESARMBFAEVARYBFwEYARkBGgEbARwBHQEeAR8BIAEhASIBIwEkASUBJgEnASgBKQEqASsBLAEtAS4BLwEwATEBMgEzATQBNQE2ATcBOAE5AToBOwE8AT0BPgE/AUABQQFCAUMBRAFFAUYBRwFIAUkBSgFLAUwBTQFOAU8BUAFRAVIBUwFUAVUBVgFXAVgBWQFaAVsBXAFdAV4BXwFgAWEBYgFjAWQBZQFmAWcBaAFpAWoBawFsAW0BbgFvAXABcQFyAXMBdAF1AXYBdwF4AXkBegF7AXwBfQF+AX8BgAGBAYIBgwGEAYUBhgGHAYgBiQGKAYsBjAGNAY4BjwGQAZEBkgGTAZQBlQGWAZcBmAGZAZoBmwGcAZ0BngGfAaABoQGiAaMBpAGlAaYBpwGoAakBqgGrAawBrQGuAa8BsAGxAbIBswG0AbUBtgG3AbgBuQG6AbsBvAG9Ab4BvwHAAcEBwgHDAcQBxQHGAccByAHJAcoBywHMAc0BzgHPAdAB0QHSAdMB1AHVAdYB1wHYAdkB2gHbAdwB3QHeAd8B4AHhAeIB4wHkAeUB5gHnAegB6QHqAesB7AHtAe4B7wHwAfEB8gHzAfQB9QH2AfcB+AH5AfoB+wH8Af0B/gH/AQAC",
          "dtype": "i2"
         },
         "y": {
          "bdata": "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",
          "dtype": "f8"
         }
        },
        {
         "mode": "lines",
         "name": "Node: 10",
         "type": "scatter",
         "x": {
          "bdata": "AAABAAIAAwAEAAUABgAHAAgACQAKAAsADAANAA4ADwAQABEAEgATABQAFQAWABcAGAAZABoAGwAcAB0AHgAfACAAIQAiACMAJAAlACYAJwAoACkAKgArACwALQAuAC8AMAAxADIAMwA0ADUANgA3ADgAOQA6ADsAPAA9AD4APwBAAEEAQgBDAEQARQBGAEcASABJAEoASwBMAE0ATgBPAFAAUQBSAFMAVABVAFYAVwBYAFkAWgBbAFwAXQBeAF8AYABhAGIAYwBkAGUAZgBnAGgAaQBqAGsAbABtAG4AbwBwAHEAcgBzAHQAdQB2AHcAeAB5AHoAewB8AH0AfgB/AIAAgQCCAIMAhACFAIYAhwCIAIkAigCLAIwAjQCOAI8AkACRAJIAkwCUAJUAlgCXAJgAmQCaAJsAnACdAJ4AnwCgAKEAogCjAKQApQCmAKcAqACpAKoAqwCsAK0ArgCvALAAsQCyALMAtAC1ALYAtwC4ALkAugC7ALwAvQC+AL8AwADBAMIAwwDEAMUAxgDHAMgAyQDKAMsAzADNAM4AzwDQANEA0gDTANQA1QDWANcA2ADZANoA2wDcAN0A3gDfAOAA4QDiAOMA5ADlAOYA5wDoAOkA6gDrAOwA7QDuAO8A8ADxAPIA8wD0APUA9gD3APgA+QD6APsA/AD9AP4A/wAAAQEBAgEDAQQBBQEGAQcBCAEJAQoBCwEMAQ0BDgEPARABEQESARMBFAEVARYBFwEYARkBGgEbARwBHQEeAR8BIAEhASIBIwEkASUBJgEnASgBKQEqASsBLAEtAS4BLwEwATEBMgEzATQBNQE2ATcBOAE5AToBOwE8AT0BPgE/AUABQQFCAUMBRAFFAUYBRwFIAUkBSgFLAUwBTQFOAU8BUAFRAVIBUwFUAVUBVgFXAVgBWQFaAVsBXAFdAV4BXwFgAWEBYgFjAWQBZQFmAWcBaAFpAWoBawFsAW0BbgFvAXABcQFyAXMBdAF1AXYBdwF4AXkBegF7AXwBfQF+AX8BgAGBAYIBgwGEAYUBhgGHAYgBiQGKAYsBjAGNAY4BjwGQAZEBkgGTAZQBlQGWAZcBmAGZAZoBmwGcAZ0BngGfAaABoQGiAaMBpAGlAaYBpwGoAakBqgGrAawBrQGuAa8BsAGxAbIBswG0AbUBtgG3AbgBuQG6AbsBvAG9Ab4BvwHAAcEBwgHDAcQBxQHGAccByAHJAcoBywHMAc0BzgHPAdAB0QHSAdMB1AHVAdYB1wHYAdkB2gHbAdwB3QHeAd8B4AHhAeIB4wHkAeUB5gHnAegB6QHqAesB7AHtAe4B7wHwAfEB8gHzAfQB9QH2AfcB+AH5AfoB+wH8Af0B/gH/AQAC",
          "dtype": "i2"
         },
         "y": {
          "bdata": "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",
          "dtype": "f8"
         }
        },
        {
         "mode": "lines",
         "name": "Node: 13",
         "type": "scatter",
         "x": {
          "bdata": "AAABAAIAAwAEAAUABgAHAAgACQAKAAsADAANAA4ADwAQABEAEgATABQAFQAWABcAGAAZABoAGwAcAB0AHgAfACAAIQAiACMAJAAlACYAJwAoACkAKgArACwALQAuAC8AMAAxADIAMwA0ADUANgA3ADgAOQA6ADsAPAA9AD4APwBAAEEAQgBDAEQARQBGAEcASABJAEoASwBMAE0ATgBPAFAAUQBSAFMAVABVAFYAVwBYAFkAWgBbAFwAXQBeAF8AYABhAGIAYwBkAGUAZgBnAGgAaQBqAGsAbABtAG4AbwBwAHEAcgBzAHQAdQB2AHcAeAB5AHoAewB8AH0AfgB/AIAAgQCCAIMAhACFAIYAhwCIAIkAigCLAIwAjQCOAI8AkACRAJIAkwCUAJUAlgCXAJgAmQCaAJsAnACdAJ4AnwCgAKEAogCjAKQApQCmAKcAqACpAKoAqwCsAK0ArgCvALAAsQCyALMAtAC1ALYAtwC4ALkAugC7ALwAvQC+AL8AwADBAMIAwwDEAMUAxgDHAMgAyQDKAMsAzADNAM4AzwDQANEA0gDTANQA1QDWANcA2ADZANoA2wDcAN0A3gDfAOAA4QDiAOMA5ADlAOYA5wDoAOkA6gDrAOwA7QDuAO8A8ADxAPIA8wD0APUA9gD3APgA+QD6APsA/AD9AP4A/wAAAQEBAgEDAQQBBQEGAQcBCAEJAQoBCwEMAQ0BDgEPARABEQESARMBFAEVARYBFwEYARkBGgEbARwBHQEeAR8BIAEhASIBIwEkASUBJgEnASgBKQEqASsBLAEtAS4BLwEwATEBMgEzATQBNQE2ATcBOAE5AToBOwE8AT0BPgE/AUABQQFCAUMBRAFFAUYBRwFIAUkBSgFLAUwBTQFOAU8BUAFRAVIBUwFUAVUBVgFXAVgBWQFaAVsBXAFdAV4BXwFgAWEBYgFjAWQBZQFmAWcBaAFpAWoBawFsAW0BbgFvAXABcQFyAXMBdAF1AXYBdwF4AXkBegF7AXwBfQF+AX8BgAGBAYIBgwGEAYUBhgGHAYgBiQGKAYsBjAGNAY4BjwGQAZEBkgGTAZQBlQGWAZcBmAGZAZoBmwGcAZ0BngGfAaABoQGiAaMBpAGlAaYBpwGoAakBqgGrAawBrQGuAa8BsAGxAbIBswG0AbUBtgG3AbgBuQG6AbsBvAG9Ab4BvwHAAcEBwgHDAcQBxQHGAccByAHJAcoBywHMAc0BzgHPAdAB0QHSAdMB1AHVAdYB1wHYAdkB2gHbAdwB3QHeAd8B4AHhAeIB4wHkAeUB5gHnAegB6QHqAesB7AHtAe4B7wHwAfEB8gHzAfQB9QH2AfcB+AH5AfoB+wH8Af0B/gH/AQAC",
          "dtype": "i2"
         },
         "y": {
          "bdata": "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",
          "dtype": "f8"
         }
        },
        {
         "mode": "lines",
         "name": "Node: 14",
         "type": "scatter",
         "x": {
          "bdata": "AAABAAIAAwAEAAUABgAHAAgACQAKAAsADAANAA4ADwAQABEAEgATABQAFQAWABcAGAAZABoAGwAcAB0AHgAfACAAIQAiACMAJAAlACYAJwAoACkAKgArACwALQAuAC8AMAAxADIAMwA0ADUANgA3ADgAOQA6ADsAPAA9AD4APwBAAEEAQgBDAEQARQBGAEcASABJAEoASwBMAE0ATgBPAFAAUQBSAFMAVABVAFYAVwBYAFkAWgBbAFwAXQBeAF8AYABhAGIAYwBkAGUAZgBnAGgAaQBqAGsAbABtAG4AbwBwAHEAcgBzAHQAdQB2AHcAeAB5AHoAewB8AH0AfgB/AIAAgQCCAIMAhACFAIYAhwCIAIkAigCLAIwAjQCOAI8AkACRAJIAkwCUAJUAlgCXAJgAmQCaAJsAnACdAJ4AnwCgAKEAogCjAKQApQCmAKcAqACpAKoAqwCsAK0ArgCvALAAsQCyALMAtAC1ALYAtwC4ALkAugC7ALwAvQC+AL8AwADBAMIAwwDEAMUAxgDHAMgAyQDKAMsAzADNAM4AzwDQANEA0gDTANQA1QDWANcA2ADZANoA2wDcAN0A3gDfAOAA4QDiAOMA5ADlAOYA5wDoAOkA6gDrAOwA7QDuAO8A8ADxAPIA8wD0APUA9gD3APgA+QD6APsA/AD9AP4A/wAAAQEBAgEDAQQBBQEGAQcBCAEJAQoBCwEMAQ0BDgEPARABEQESARMBFAEVARYBFwEYARkBGgEbARwBHQEeAR8BIAEhASIBIwEkASUBJgEnASgBKQEqASsBLAEtAS4BLwEwATEBMgEzATQBNQE2ATcBOAE5AToBOwE8AT0BPgE/AUABQQFCAUMBRAFFAUYBRwFIAUkBSgFLAUwBTQFOAU8BUAFRAVIBUwFUAVUBVgFXAVgBWQFaAVsBXAFdAV4BXwFgAWEBYgFjAWQBZQFmAWcBaAFpAWoBawFsAW0BbgFvAXABcQFyAXMBdAF1AXYBdwF4AXkBegF7AXwBfQF+AX8BgAGBAYIBgwGEAYUBhgGHAYgBiQGKAYsBjAGNAY4BjwGQAZEBkgGTAZQBlQGWAZcBmAGZAZoBmwGcAZ0BngGfAaABoQGiAaMBpAGlAaYBpwGoAakBqgGrAawBrQGuAa8BsAGxAbIBswG0AbUBtgG3AbgBuQG6AbsBvAG9Ab4BvwHAAcEBwgHDAcQBxQHGAccByAHJAcoBywHMAc0BzgHPAdAB0QHSAdMB1AHVAdYB1wHYAdkB2gHbAdwB3QHeAd8B4AHhAeIB4wHkAeUB5gHnAegB6QHqAesB7AHtAe4B7wHwAfEB8gHzAfQB9QH2AfcB+AH5AfoB+wH8Af0B/gH/AQAC",
          "dtype": "i2"
         },
         "y": {
          "bdata": "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",
          "dtype": "f8"
         }
        },
        {
         "mode": "lines",
         "name": "Node: 15",
         "type": "scatter",
         "x": {
          "bdata": "AAABAAIAAwAEAAUABgAHAAgACQAKAAsADAANAA4ADwAQABEAEgATABQAFQAWABcAGAAZABoAGwAcAB0AHgAfACAAIQAiACMAJAAlACYAJwAoACkAKgArACwALQAuAC8AMAAxADIAMwA0ADUANgA3ADgAOQA6ADsAPAA9AD4APwBAAEEAQgBDAEQARQBGAEcASABJAEoASwBMAE0ATgBPAFAAUQBSAFMAVABVAFYAVwBYAFkAWgBbAFwAXQBeAF8AYABhAGIAYwBkAGUAZgBnAGgAaQBqAGsAbABtAG4AbwBwAHEAcgBzAHQAdQB2AHcAeAB5AHoAewB8AH0AfgB/AIAAgQCCAIMAhACFAIYAhwCIAIkAigCLAIwAjQCOAI8AkACRAJIAkwCUAJUAlgCXAJgAmQCaAJsAnACdAJ4AnwCgAKEAogCjAKQApQCmAKcAqACpAKoAqwCsAK0ArgCvALAAsQCyALMAtAC1ALYAtwC4ALkAugC7ALwAvQC+AL8AwADBAMIAwwDEAMUAxgDHAMgAyQDKAMsAzADNAM4AzwDQANEA0gDTANQA1QDWANcA2ADZANoA2wDcAN0A3gDfAOAA4QDiAOMA5ADlAOYA5wDoAOkA6gDrAOwA7QDuAO8A8ADxAPIA8wD0APUA9gD3APgA+QD6APsA/AD9AP4A/wAAAQEBAgEDAQQBBQEGAQcBCAEJAQoBCwEMAQ0BDgEPARABEQESARMBFAEVARYBFwEYARkBGgEbARwBHQEeAR8BIAEhASIBIwEkASUBJgEnASgBKQEqASsBLAEtAS4BLwEwATEBMgEzATQBNQE2ATcBOAE5AToBOwE8AT0BPgE/AUABQQFCAUMBRAFFAUYBRwFIAUkBSgFLAUwBTQFOAU8BUAFRAVIBUwFUAVUBVgFXAVgBWQFaAVsBXAFdAV4BXwFgAWEBYgFjAWQBZQFmAWcBaAFpAWoBawFsAW0BbgFvAXABcQFyAXMBdAF1AXYBdwF4AXkBegF7AXwBfQF+AX8BgAGBAYIBgwGEAYUBhgGHAYgBiQGKAYsBjAGNAY4BjwGQAZEBkgGTAZQBlQGWAZcBmAGZAZoBmwGcAZ0BngGfAaABoQGiAaMBpAGlAaYBpwGoAakBqgGrAawBrQGuAa8BsAGxAbIBswG0AbUBtgG3AbgBuQG6AbsBvAG9Ab4BvwHAAcEBwgHDAcQBxQHGAccByAHJAcoBywHMAc0BzgHPAdAB0QHSAdMB1AHVAdYB1wHYAdkB2gHbAdwB3QHeAd8B4AHhAeIB4wHkAeUB5gHnAegB6QHqAesB7AHtAe4B7wHwAfEB8gHzAfQB9QH2AfcB+AH5AfoB+wH8Af0B/gH/AQAC",
          "dtype": "i2"
         },
         "y": {
          "bdata": "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",
          "dtype": "f8"
         }
        },
        {
         "mode": "lines",
         "name": "Node: 16",
         "type": "scatter",
         "x": {
          "bdata": "AAABAAIAAwAEAAUABgAHAAgACQAKAAsADAANAA4ADwAQABEAEgATABQAFQAWABcAGAAZABoAGwAcAB0AHgAfACAAIQAiACMAJAAlACYAJwAoACkAKgArACwALQAuAC8AMAAxADIAMwA0ADUANgA3ADgAOQA6ADsAPAA9AD4APwBAAEEAQgBDAEQARQBGAEcASABJAEoASwBMAE0ATgBPAFAAUQBSAFMAVABVAFYAVwBYAFkAWgBbAFwAXQBeAF8AYABhAGIAYwBkAGUAZgBnAGgAaQBqAGsAbABtAG4AbwBwAHEAcgBzAHQAdQB2AHcAeAB5AHoAewB8AH0AfgB/AIAAgQCCAIMAhACFAIYAhwCIAIkAigCLAIwAjQCOAI8AkACRAJIAkwCUAJUAlgCXAJgAmQCaAJsAnACdAJ4AnwCgAKEAogCjAKQApQCmAKcAqACpAKoAqwCsAK0ArgCvALAAsQCyALMAtAC1ALYAtwC4ALkAugC7ALwAvQC+AL8AwADBAMIAwwDEAMUAxgDHAMgAyQDKAMsAzADNAM4AzwDQANEA0gDTANQA1QDWANcA2ADZANoA2wDcAN0A3gDfAOAA4QDiAOMA5ADlAOYA5wDoAOkA6gDrAOwA7QDuAO8A8ADxAPIA8wD0APUA9gD3APgA+QD6APsA/AD9AP4A/wAAAQEBAgEDAQQBBQEGAQcBCAEJAQoBCwEMAQ0BDgEPARABEQESARMBFAEVARYBFwEYARkBGgEbARwBHQEeAR8BIAEhASIBIwEkASUBJgEnASgBKQEqASsBLAEtAS4BLwEwATEBMgEzATQBNQE2ATcBOAE5AToBOwE8AT0BPgE/AUABQQFCAUMBRAFFAUYBRwFIAUkBSgFLAUwBTQFOAU8BUAFRAVIBUwFUAVUBVgFXAVgBWQFaAVsBXAFdAV4BXwFgAWEBYgFjAWQBZQFmAWcBaAFpAWoBawFsAW0BbgFvAXABcQFyAXMBdAF1AXYBdwF4AXkBegF7AXwBfQF+AX8BgAGBAYIBgwGEAYUBhgGHAYgBiQGKAYsBjAGNAY4BjwGQAZEBkgGTAZQBlQGWAZcBmAGZAZoBmwGcAZ0BngGfAaABoQGiAaMBpAGlAaYBpwGoAakBqgGrAawBrQGuAa8BsAGxAbIBswG0AbUBtgG3AbgBuQG6AbsBvAG9Ab4BvwHAAcEBwgHDAcQBxQHGAccByAHJAcoBywHMAc0BzgHPAdAB0QHSAdMB1AHVAdYB1wHYAdkB2gHbAdwB3QHeAd8B4AHhAeIB4wHkAeUB5gHnAegB6QHqAesB7AHtAe4B7wHwAfEB8gHzAfQB9QH2AfcB+AH5AfoB+wH8Af0B/gH/AQAC",
          "dtype": "i2"
         },
         "y": {
          "bdata": "DrMqSEbH6j8+NI/m79vrPw6zKkhGx+o/DrMqSEbH6j/X9YXKbJjYP/zf95S+tuO/DrMqSEbH6j9TUQl3AtHqPw6zKkhGx+o/lvFsnYct7D8OsypIRsfqPw6zKkhGx+o/DrMqSEbH6j8o4YmtYCDrPw6zKkhGx+o/DrMqSEbH6j+EIwtdWqzrPw6zKkhGx+o/pxZcQEAPIcA+DNCavMbrP1vHcpiQYOw/Kt7BJfl27T9+BtkgeG3rP4g1/2gtH+s/DrMqSEbH6j8OsypIRsfqPw6zKkhGx+o/DrMqSEbH6j9YBwP5BlrmP31/rI+1Ke0/DrMqSEbH6j/dOxCVjUjsPxDkbKHDbug/DrMqSEbH6j8PRCW22XvsP7LDSBSE5eo/kJgcwvzG6j9geNIPEqzrPw6zKkhGx+o/Mt4fwWMh4j9wYFTyJKfDvw6zKkhGx+o/DrMqSEbH6j8OsypIRsfqP1WlkJtNues/DrMqSEbH6j/lsJ+cxj/rP3W/VcSIlOs/r77vDYA/6z8OsypIRsfqP0YUDS6jAOs/35qIyCbQBcAOsypIRsfqPw6zKkhGx+o/DrMqSEbH6j948xFV7QrrP6YmyH2m2us/NDYaA1mh7j9O+MMY9ZvrPw6zKkhGx+o/RXPm/14qF8AOsypIRsfqP9henG976eo/DrMqSEbH6j+zP3Rw/GjTvw6zKkhGx+o/DrMqSEbH6j+R6TDKkX/rPw6zKkhGx+o/DrMqSEbH6j8OsypIRsfqP9KQXKJbp+0/DrMqSEbH6j8OsypIRsfqPw6zKkhGx+o/obYeOZDu6j9LMWBqEuPXv3ugAnwW/uM/DrMqSEbH6j8OsypIRsfqP9wo+TBiies/3uYFLQW77j8OsypIRsfqPw6zKkhGx+o/kRLtTNOT7j+tWj30E8+6P4Je2MPxxes/SDGDr0BC6j/meE+v+8PrPz7gaqh6TOs/DrMqSEbH6j8OsypIRsfqPw6zKkhGx+o/DrMqSEbH6j9GYzniIA7sP2c27pGyZOs/ybdTh5QO7T99sLLh53itvw6zKkhGx+o/aVFNkk0s7D+axd7dazvpPw7REV8QEh/ADrMqSEbH6j8OsypIRsfqPw6zKkhGx+o/bv2kvS7P7D8OsypIRsfqPxZPLNuEOuw/Y9AIBhyV1j8OsypIRsfqP1+GhDm8Uew/DrMqSEbH6j9JMCCTI8jqPw6zKkhGx+o/1OoMCJFt6z8BRncNJDzpPxnKkEc/0+o/DrMqSEbH6j++XqDdC8vqPw6zKkhGx+o/3eFhyihg6z8OsypIRsfqPyiAiIOOh+o/isEInxgI6z8OsypIRsfqPw6zKkhGx+o/aKvTFxpjyD9L+gqsrJLrP/c/a0J6WOs/DrMqSEbH6j8T6h1EWvHcP3QHrDnqpu0/z//pbPlK6j8/qOjo8dDuP+MMhoF++O4/+PyK0AKC6z8x9FXntmHsPw6zKkhGx+o/DrMqSEbH6j8OsypIRsfqP+rebPH6B9g/A7aaDRVd6z8Q831ymOLqPw6zKkhGx+o/Tu6atP6f6z9e6AZMPw7sP/+Pgz2mjuo/h5UcGhKK6z8QchCT3VnrP0ZjIRwzeew/9ow9saj66z8OsypIRsfqP4DOiWjSsOs/DrMqSEbH6j9cZhpHRQLrP6DFA0wJxOs/DrMqSEbH6j9jvxrpmYDrP5CzHCtH4Os/WMW0eB8o7T+lN4fjP93rP6BOWq+IL+k/DrMqSEbH6j8OtX7hNqzrP+WIw8je7us/DVKFwVTw6z/FOuFu7CXoPw6zKkhGx+o/iIFey5NO6z/zqZ0x7NzrP29aoLiw/uo/Kf6Z3+qB7j/f2aIJ0PrsPwCAmF/Vn+8/SdGHgCl9rj8AuEHIK6DrP8SnMNgJI+s/IZn8XQFl7T9CnkLLINvrP+bFynn/Ves/DrMqSEbH6j9W1GOZ0czrP2fQ7UbH0e8/YxCI2sqC6z8OsypIRsfqPw6zKkhGx+o/LPCiwTV28L9b8OzPL2frP1N2uZam6u4/DrMqSEbH6j8OsypIRsfqP6QtMDJDGOw/DrMqSEbH6j/mPGXZYB/cP4B9WKfhKOs/DrMqSEbH6j9RNTkHkb7sP2JiDxth/Oo/DrMqSEbH6j/ihJ3fy1/rP70RpsFFdOs/+POSrlEh6z8OsypIRsfqPw6zKkhGx+o/sJqscwvcAsDozeeuO0HuP4/AWXcFKus/CfcrZBnl6j9RTa7QOszrP3HatzJ6wO0/bI2h2J4h6z8OsypIRsfqP5xI2sCeuO8/NfA3hty57j/Rl6XDVc3lPw6zKkhGx+o/mAWQXMew7j924hNdB63sPw6zKkhGx+o/4O2kxAUp6z88RQjwU5HrP412WMLod+s/DrMqSEbH6j8OsypIRsfqPxj7taZuces/xWY9WY677T/nKz2ms3DjPw6zKkhGx+o/DrMqSEbH6j9Aju46RRfuPzoy2KckJus/3ZQM25q46z9VagsM37vCvw6zKkhGx+o/f/LqWBuC7j8OsypIRsfqPwzWEXdHbu8/3eVDBfh5dD/fj6Nd75vuP0gQD/VjaNe/hMIqAYAR7z/GLVz7jkjrP/ymLiVZNu8/BAKjE8pY0T+iSF2S/mPrPwdX1Dgx5Ow/cgzq4Q6+7z+9ArkyWYXrP/7w24gHQ+s/zZJAOvHa7j8OsypIRsfqPykT2PEOte4/vbLOFCXD7j8qp10DoKjrP9UxKcr3oOs/DOKuRX6D6z+KI4xWq1DrP0F70HPV6es//CGmHLAC7z+bUY8KTXHuPw6zKkhGx+o/op6Hapzr6j/qmREHdoLuP9GS1mbX++0/77FWJS0O7T8fAnBq2EjuP6Dep6LBV+s/dniFU2M57D/+Lx9pT3TqP4grsJvgz+4/tk/WQBC/7T815SX+yP3rP1pVT+jnJ+g/Sjrrc6G+7j8OsypIRsfqP0laED9NE+U/FEILhn6G7z8EMLGI5CwhwL3/1tidM+4/3Bl0TXU46z9EQR6tYmDtP1fkbfJ/6+o/fsDUhNw8IMA6IFtH9zjuP2eUZnpzLOs/DrMqSEbH6j//bLZdwOPuPy6cZ55eQO8/4I1sQeWP6j9bvJdmCj3rP8967pBlpta//+AEmLKu7z91gpAkcH3uP15f6xM7Xe8/Xl/rEztd7z9bPGrPzzPvP5dYTA6Yfu8/DW72cyEv4D8OsypIRsfqP4+pedbk9Oo/xCfDbXS17T/y+9LqSdnnP8jNm3qDH+o/4dTl4Hxa5z+2xsUsqZ3tPzcQJHFSie8/R09wL2b07z/aU2YU727oP+0ceIf1Ku8//Q5vWpLF7T/eEOKVfbvvP0Qp9GdEyeo/LnsTUFH66j9Ez6coTknvPxx0Su+S++s/nYgVZvBM6z+F1S81punvP9o0H6Sx7O8/keNhXp037j+bq88WaZHvP00QkL5ueOg/+NXBzaB/6z+IMs9yuYDvP3VNzHlGhes/kXNls+b37D/eV2aYkGfvP+Gwj5qisu8/A2M0DgyC7z/yiGmC/nTuP0Oc2cVJIO8/Nqrzp6Mo7j/dsKu7A7LWPz3LwpCjke4/hvmQOXSe6z/EYA7uSfzTP1gN8gdye+4/Bw9TH3th6z+Z3itGdvjuP1Np9Cknfu8/m8kycQ+Z7j9GtGGlik7uPzbDZySWMes/aaTILT0u7z/2lfdMLo3tPw6zKkhGx+o/DrMqSEbH6j8xCsZnI1fsP/BDPzyBtew/f/7NRhLB6z/B9zYz4j7vP7IRlj59ee0/pogeszgc7j9LkTkH51HuP6S32gTT8O4/k1O6Dhsc7z8N321jY0XsP37spEU8Qe8/qL4msbAP6z+PhuXQoZbtP91k0xTLYeg/RILN/bu/7z+Tzm9YOaDvP+4wUztQnu4/uZO2vgpA7z9yT1U8L3rrPwCp8N+Yqu4/PoC3/Gfh7z8ox/Jf0LvrPxE4dHhYWu8/0Z9P3qu37j9CSjqh2ervP1PejQT+auU/BuS4XkLn7z/6CYq/hWfvP7X2PWgTse8/papAUfiE7z9jY4hsX1fvP5X+VhWBNO8/SP/LhlPn7j/M7InsP4zvP4kJayOuDO8/8lRj2wp57z8FGTk5/L3vPy3BKMP6L+4/nZyXZrTx7z98RdkL2y7vP1Q7tRRek+8/iBbmeWar7z+WxjscBE/vP09M9CbO+eo/C1hzUDzp7z/efohH9d7vP5cAxaFAzO4/oMbcffjf7z9ruOaBlg3uPxX2vOMEv+8/HBrf6Oyv7z8Gsn1yA7XvPyltwtIk3e8/x9KFa0ni7j9mff6atljuP3XAwOLVkO8/MDzn8L1+7z/tc26ktLLvP8IhvgEake8/dVynYseY7z9fqc/QH8juP30yR3TyCe8/eAaTdepa7z8sdnFWsMTvP45yMqvng+8//Ql1vIEb7z9/fhiz0sjtP59bGE1lu+8/zfthw3kr7z8fyYt7LcPvP95whSEO5+4/M9GwFGDf7z+wS59X8OTvP2z8Mo0OEO0/fDpGIXzI7z9PWZ3nCufuPzAbxjV5+e8/ysB6YH+67z8GcATdGJXvP869ePNTne8/OxI+9wk07z+AGtErxODvP1IcS7jNdO4/jW51Uo3+7z8gPvHAFd7vP4CbryODie0/YjXMX5P37z/zrfqd1JjvPzeOcd9elu8/dE5MHjNC7j8g76juBoztP56PqKC0VO8/9qTKBwDE7z/2wW/sR8jvP/zmi0vsqu8/iwLUwSbK7z+vOIhofNjvP5wG0X00zO8/ejYUMhGr7z9oyCq1XozvP2g+bS8g9+8//hPoC//v7z8mNUZgzqfvP6LB71A5oO0/M9GwFGDf7z8Vocqbg+HvP4Sid+VZ3e8/iavii8ZOJMCJq+KLxk4kwImr4ovGTiTAunj1rE5KyT8WdhT4GFPJP9MD5FFqVMk/ffjr2sXS6z/U+X1SLtTrPwdFmNv40us/uwL/+LXH7T8vpvKSVcjtPy+RwaA1xu0/NE6m9prn7j+jp0n9PubuP/q5lxPy5e4/Tb2AoTn47z9Q2V/PqPnvP5l1GCTj+u8/PPGWFv7o7z+6kysGYevvP9PeIVT55+8/K0iPCGnj7z+Sz5Up2uLvP0yblTaW5O8/Oh6OZqDe7z/1vf2eSuDvP4kskp2w3+8/nfF/qjbf7z8YhV1o3d3vP5/nVMOx3e8/BVbInyDe7z+/Lud5Wd/vP9ygF4vd3e8/h5TZlv7c7z86Ah2prt/vP4nxx9af3u8/Zti0n83e7z+EKTRz79/vP5rcY20R4O8/kJjx9nnc7z/j/YDkFd7vPxcJw4Ns3u8/Zl4Gupze7z8v3xRjSuHvP1XG6pZz3e8/L+b4uSnf7z8CvnI7DeDvPyhADauO3+8/A7n8Q23d7z+ANwlv/93vP9vLb+Id3u8/SW8jm4Tg7z+QfMB0uN7vP7PxeNKD4e8/0MlrFKje7z/3/diJOt/vP1lzXgJv3+8/NctBLsff7z/K7jLM293vP9wO0+aO3e8/",
          "dtype": "f8"
         }
        },
        {
         "mode": "lines",
         "name": "Node: 17",
         "type": "scatter",
         "x": {
          "bdata": "AAABAAIAAwAEAAUABgAHAAgACQAKAAsADAANAA4ADwAQABEAEgATABQAFQAWABcAGAAZABoAGwAcAB0AHgAfACAAIQAiACMAJAAlACYAJwAoACkAKgArACwALQAuAC8AMAAxADIAMwA0ADUANgA3ADgAOQA6ADsAPAA9AD4APwBAAEEAQgBDAEQARQBGAEcASABJAEoASwBMAE0ATgBPAFAAUQBSAFMAVABVAFYAVwBYAFkAWgBbAFwAXQBeAF8AYABhAGIAYwBkAGUAZgBnAGgAaQBqAGsAbABtAG4AbwBwAHEAcgBzAHQAdQB2AHcAeAB5AHoAewB8AH0AfgB/AIAAgQCCAIMAhACFAIYAhwCIAIkAigCLAIwAjQCOAI8AkACRAJIAkwCUAJUAlgCXAJgAmQCaAJsAnACdAJ4AnwCgAKEAogCjAKQApQCmAKcAqACpAKoAqwCsAK0ArgCvALAAsQCyALMAtAC1ALYAtwC4ALkAugC7ALwAvQC+AL8AwADBAMIAwwDEAMUAxgDHAMgAyQDKAMsAzADNAM4AzwDQANEA0gDTANQA1QDWANcA2ADZANoA2wDcAN0A3gDfAOAA4QDiAOMA5ADlAOYA5wDoAOkA6gDrAOwA7QDuAO8A8ADxAPIA8wD0APUA9gD3APgA+QD6APsA/AD9AP4A/wAAAQEBAgEDAQQBBQEGAQcBCAEJAQoBCwEMAQ0BDgEPARABEQESARMBFAEVARYBFwEYARkBGgEbARwBHQEeAR8BIAEhASIBIwEkASUBJgEnASgBKQEqASsBLAEtAS4BLwEwATEBMgEzATQBNQE2ATcBOAE5AToBOwE8AT0BPgE/AUABQQFCAUMBRAFFAUYBRwFIAUkBSgFLAUwBTQFOAU8BUAFRAVIBUwFUAVUBVgFXAVgBWQFaAVsBXAFdAV4BXwFgAWEBYgFjAWQBZQFmAWcBaAFpAWoBawFsAW0BbgFvAXABcQFyAXMBdAF1AXYBdwF4AXkBegF7AXwBfQF+AX8BgAGBAYIBgwGEAYUBhgGHAYgBiQGKAYsBjAGNAY4BjwGQAZEBkgGTAZQBlQGWAZcBmAGZAZoBmwGcAZ0BngGfAaABoQGiAaMBpAGlAaYBpwGoAakBqgGrAawBrQGuAa8BsAGxAbIBswG0AbUBtgG3AbgBuQG6AbsBvAG9Ab4BvwHAAcEBwgHDAcQBxQHGAccByAHJAcoBywHMAc0BzgHPAdAB0QHSAdMB1AHVAdYB1wHYAdkB2gHbAdwB3QHeAd8B4AHhAeIB4wHkAeUB5gHnAegB6QHqAesB7AHtAe4B7wHwAfEB8gHzAfQB9QH2AfcB+AH5AfoB+wH8Af0B/gH/AQAC",
          "dtype": "i2"
         },
         "y": {
          "bdata": "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",
          "dtype": "f8"
         }
        },
        {
         "mode": "lines",
         "name": "Node: 19",
         "type": "scatter",
         "x": {
          "bdata": "AAABAAIAAwAEAAUABgAHAAgACQAKAAsADAANAA4ADwAQABEAEgATABQAFQAWABcAGAAZABoAGwAcAB0AHgAfACAAIQAiACMAJAAlACYAJwAoACkAKgArACwALQAuAC8AMAAxADIAMwA0ADUANgA3ADgAOQA6ADsAPAA9AD4APwBAAEEAQgBDAEQARQBGAEcASABJAEoASwBMAE0ATgBPAFAAUQBSAFMAVABVAFYAVwBYAFkAWgBbAFwAXQBeAF8AYABhAGIAYwBkAGUAZgBnAGgAaQBqAGsAbABtAG4AbwBwAHEAcgBzAHQAdQB2AHcAeAB5AHoAewB8AH0AfgB/AIAAgQCCAIMAhACFAIYAhwCIAIkAigCLAIwAjQCOAI8AkACRAJIAkwCUAJUAlgCXAJgAmQCaAJsAnACdAJ4AnwCgAKEAogCjAKQApQCmAKcAqACpAKoAqwCsAK0ArgCvALAAsQCyALMAtAC1ALYAtwC4ALkAugC7ALwAvQC+AL8AwADBAMIAwwDEAMUAxgDHAMgAyQDKAMsAzADNAM4AzwDQANEA0gDTANQA1QDWANcA2ADZANoA2wDcAN0A3gDfAOAA4QDiAOMA5ADlAOYA5wDoAOkA6gDrAOwA7QDuAO8A8ADxAPIA8wD0APUA9gD3APgA+QD6APsA/AD9AP4A/wAAAQEBAgEDAQQBBQEGAQcBCAEJAQoBCwEMAQ0BDgEPARABEQESARMBFAEVARYBFwEYARkBGgEbARwBHQEeAR8BIAEhASIBIwEkASUBJgEnASgBKQEqASsBLAEtAS4BLwEwATEBMgEzATQBNQE2ATcBOAE5AToBOwE8AT0BPgE/AUABQQFCAUMBRAFFAUYBRwFIAUkBSgFLAUwBTQFOAU8BUAFRAVIBUwFUAVUBVgFXAVgBWQFaAVsBXAFdAV4BXwFgAWEBYgFjAWQBZQFmAWcBaAFpAWoBawFsAW0BbgFvAXABcQFyAXMBdAF1AXYBdwF4AXkBegF7AXwBfQF+AX8BgAGBAYIBgwGEAYUBhgGHAYgBiQGKAYsBjAGNAY4BjwGQAZEBkgGTAZQBlQGWAZcBmAGZAZoBmwGcAZ0BngGfAaABoQGiAaMBpAGlAaYBpwGoAakBqgGrAawBrQGuAa8BsAGxAbIBswG0AbUBtgG3AbgBuQG6AbsBvAG9Ab4BvwHAAcEBwgHDAcQBxQHGAccByAHJAcoBywHMAc0BzgHPAdAB0QHSAdMB1AHVAdYB1wHYAdkB2gHbAdwB3QHeAd8B4AHhAeIB4wHkAeUB5gHnAegB6QHqAesB7AHtAe4B7wHwAfEB8gHzAfQB9QH2AfcB+AH5AfoB+wH8Af0B/gH/AQAC",
          "dtype": "i2"
         },
         "y": {
          "bdata": "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",
          "dtype": "f8"
         }
        },
        {
         "mode": "lines",
         "name": "Node: 20",
         "type": "scatter",
         "x": {
          "bdata": "AAABAAIAAwAEAAUABgAHAAgACQAKAAsADAANAA4ADwAQABEAEgATABQAFQAWABcAGAAZABoAGwAcAB0AHgAfACAAIQAiACMAJAAlACYAJwAoACkAKgArACwALQAuAC8AMAAxADIAMwA0ADUANgA3ADgAOQA6ADsAPAA9AD4APwBAAEEAQgBDAEQARQBGAEcASABJAEoASwBMAE0ATgBPAFAAUQBSAFMAVABVAFYAVwBYAFkAWgBbAFwAXQBeAF8AYABhAGIAYwBkAGUAZgBnAGgAaQBqAGsAbABtAG4AbwBwAHEAcgBzAHQAdQB2AHcAeAB5AHoAewB8AH0AfgB/AIAAgQCCAIMAhACFAIYAhwCIAIkAigCLAIwAjQCOAI8AkACRAJIAkwCUAJUAlgCXAJgAmQCaAJsAnACdAJ4AnwCgAKEAogCjAKQApQCmAKcAqACpAKoAqwCsAK0ArgCvALAAsQCyALMAtAC1ALYAtwC4ALkAugC7ALwAvQC+AL8AwADBAMIAwwDEAMUAxgDHAMgAyQDKAMsAzADNAM4AzwDQANEA0gDTANQA1QDWANcA2ADZANoA2wDcAN0A3gDfAOAA4QDiAOMA5ADlAOYA5wDoAOkA6gDrAOwA7QDuAO8A8ADxAPIA8wD0APUA9gD3APgA+QD6APsA/AD9AP4A/wAAAQEBAgEDAQQBBQEGAQcBCAEJAQoBCwEMAQ0BDgEPARABEQESARMBFAEVARYBFwEYARkBGgEbARwBHQEeAR8BIAEhASIBIwEkASUBJgEnASgBKQEqASsBLAEtAS4BLwEwATEBMgEzATQBNQE2ATcBOAE5AToBOwE8AT0BPgE/AUABQQFCAUMBRAFFAUYBRwFIAUkBSgFLAUwBTQFOAU8BUAFRAVIBUwFUAVUBVgFXAVgBWQFaAVsBXAFdAV4BXwFgAWEBYgFjAWQBZQFmAWcBaAFpAWoBawFsAW0BbgFvAXABcQFyAXMBdAF1AXYBdwF4AXkBegF7AXwBfQF+AX8BgAGBAYIBgwGEAYUBhgGHAYgBiQGKAYsBjAGNAY4BjwGQAZEBkgGTAZQBlQGWAZcBmAGZAZoBmwGcAZ0BngGfAaABoQGiAaMBpAGlAaYBpwGoAakBqgGrAawBrQGuAa8BsAGxAbIBswG0AbUBtgG3AbgBuQG6AbsBvAG9Ab4BvwHAAcEBwgHDAcQBxQHGAccByAHJAcoBywHMAc0BzgHPAdAB0QHSAdMB1AHVAdYB1wHYAdkB2gHbAdwB3QHeAd8B4AHhAeIB4wHkAeUB5gHnAegB6QHqAesB7AHtAe4B7wHwAfEB8gHzAfQB9QH2AfcB+AH5AfoB+wH8Af0B/gH/AQAC",
          "dtype": "i2"
         },
         "y": {
          "bdata": "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",
          "dtype": "f8"
         }
        },
        {
         "mode": "lines",
         "name": "Node: 21",
         "type": "scatter",
         "x": {
          "bdata": "AAABAAIAAwAEAAUABgAHAAgACQAKAAsADAANAA4ADwAQABEAEgATABQAFQAWABcAGAAZABoAGwAcAB0AHgAfACAAIQAiACMAJAAlACYAJwAoACkAKgArACwALQAuAC8AMAAxADIAMwA0ADUANgA3ADgAOQA6ADsAPAA9AD4APwBAAEEAQgBDAEQARQBGAEcASABJAEoASwBMAE0ATgBPAFAAUQBSAFMAVABVAFYAVwBYAFkAWgBbAFwAXQBeAF8AYABhAGIAYwBkAGUAZgBnAGgAaQBqAGsAbABtAG4AbwBwAHEAcgBzAHQAdQB2AHcAeAB5AHoAewB8AH0AfgB/AIAAgQCCAIMAhACFAIYAhwCIAIkAigCLAIwAjQCOAI8AkACRAJIAkwCUAJUAlgCXAJgAmQCaAJsAnACdAJ4AnwCgAKEAogCjAKQApQCmAKcAqACpAKoAqwCsAK0ArgCvALAAsQCyALMAtAC1ALYAtwC4ALkAugC7ALwAvQC+AL8AwADBAMIAwwDEAMUAxgDHAMgAyQDKAMsAzADNAM4AzwDQANEA0gDTANQA1QDWANcA2ADZANoA2wDcAN0A3gDfAOAA4QDiAOMA5ADlAOYA5wDoAOkA6gDrAOwA7QDuAO8A8ADxAPIA8wD0APUA9gD3APgA+QD6APsA/AD9AP4A/wAAAQEBAgEDAQQBBQEGAQcBCAEJAQoBCwEMAQ0BDgEPARABEQESARMBFAEVARYBFwEYARkBGgEbARwBHQEeAR8BIAEhASIBIwEkASUBJgEnASgBKQEqASsBLAEtAS4BLwEwATEBMgEzATQBNQE2ATcBOAE5AToBOwE8AT0BPgE/AUABQQFCAUMBRAFFAUYBRwFIAUkBSgFLAUwBTQFOAU8BUAFRAVIBUwFUAVUBVgFXAVgBWQFaAVsBXAFdAV4BXwFgAWEBYgFjAWQBZQFmAWcBaAFpAWoBawFsAW0BbgFvAXABcQFyAXMBdAF1AXYBdwF4AXkBegF7AXwBfQF+AX8BgAGBAYIBgwGEAYUBhgGHAYgBiQGKAYsBjAGNAY4BjwGQAZEBkgGTAZQBlQGWAZcBmAGZAZoBmwGcAZ0BngGfAaABoQGiAaMBpAGlAaYBpwGoAakBqgGrAawBrQGuAa8BsAGxAbIBswG0AbUBtgG3AbgBuQG6AbsBvAG9Ab4BvwHAAcEBwgHDAcQBxQHGAccByAHJAcoBywHMAc0BzgHPAdAB0QHSAdMB1AHVAdYB1wHYAdkB2gHbAdwB3QHeAd8B4AHhAeIB4wHkAeUB5gHnAegB6QHqAesB7AHtAe4B7wHwAfEB8gHzAfQB9QH2AfcB+AH5AfoB+wH8Af0B/gH/AQAC",
          "dtype": "i2"
         },
         "y": {
          "bdata": "BTWJrrUP7D/wOlfCQtHuPwU1ia61D+w/BTWJrrUP7D+0m/ay7b3iP3YHwFfby7U/BTWJrrUP7D9AZzaVxSvsPwU1ia61D+w/Gj1mv/097z8FNYmutQ/sPwU1ia61D+w/BTWJrrUP7D8bOAeak5ftPwU1ia61D+w/BTWJrrUP7D9g2Q6th2LuPwU1ia61D+w/zc/bjERVFMCklyzQA6/pP8Ne0o45BO8/RQMPsTHd6z9f3IhF+MHtPxZ2C2X18uw/BTWJrrUP7D8FNYmutQ/sPwU1ia61D+w/BTWJrrUP7D+wfL5bgVPkPzIpdojD0ew/BTWJrrUP7D82z1wucyvvPwwQW5nA9+k/BTWJrrUP7D/VKDj8TMruP99z7tLqX+w/4HHooIAV7D83JfIazF/uPwU1ia61D+w/AN8f8Jkh6j9R/xWq/R/QPwU1ia61D+w/BTWJrrUP7D8FNYmutQ/sPwl24P8ggO4/BTWJrrUP7D+ivCdFZErtP15mfFiNIe4/zcBUm7BJ7T8FNYmutQ/sPxx3X5ztpuw/LLLvpH5A+L8FNYmutQ/sPwU1ia61D+w/BTWJrrUP7D+P2kjzL8XsP5gUHBgpzu4/4IFI0Pbe7j/0SudnWMrnPwU1ia61D+w/AKWYMMuuC8AFNYmutQ/sP/w/mh8Qbuw/BTWJrrUP7D9T29q5hbXHPwU1ia61D+w/BTWJrrUP7D9T4+3q+vHtPwU1ia61D+w/BTWJrrUP7D8FNYmutQ/sP9C+Gv8mhOw/BTWJrrUP7D8FNYmutQ/sPwU1ia61D+w/ufFdxg537D9pzNcL7sLCP6DQraX4IOk/BTWJrrUP7D8FNYmutQ/sP7NsLQOHBu4/g3iEIR4b7z8FNYmutQ/sPwU1ia61D+w/vcS9OaIr7j/baRyNuy3hPw+UG1tZh+0/FKPmtHrd6j9JpOa7hJ7uP5n9zcOwbO0/BTWJrrUP7D8FNYmutQ/sPwU1ia61D+w/BTWJrrUP7D9uSPfcSyzvPzwxg/CAru0/o8U+1Z8r7T97KDoDpBvcPwU1ia61D+w/+KGS7s097z+cMU045fTtP8NDDh8i9hDABTWJrrUP7D8FNYmutQ/sPwU1ia61D+w/3TlB4TQu6z8FNYmutQ/sP2cJLpLlN+8/IzJPi6bl5D8FNYmutQ/sP6CO7Ko4H+8/BTWJrrUP7D86OiGoRxbsPwU1ia61D+w/LQQuxiDC7T9gFIKR+e7sP7QFMgU5M+w/BTWJrrUP7D8ha+pj5BrsPwU1ia61D+w/ldzpunig7T8FNYmutQ/sP6YGPhEcW+4/nIPXZq+67D8FNYmutQ/sPwU1ia61D+w/YOoHKb973z82KCOV8yPuP6VBgDsRie0/BTWJrrUP7D9TBy2GB6TnPxm1Nl3sHe0/0fBqT+xE7T+HujrMQHvvPzC+nNUdQuw/39Xps+737T8bVARSYgHvPwU1ia61D+w/BTWJrrUP7D8FNYmutQ/sPxBhF6ZzfeY/AYNxUR+c7T8FMZeZZlXsPwU1ia61D+w/iEtFAJBH7j8vU01MlCzvP2DEF4/jK+4/p3+2NaAK7j/MEhVQJY/tPyS6hC6P0+4/GsloJZUS7z8FNYmutQ/sPyfLdHjKa+4/BTWJrrUP7D+twNUXXKrsPwCG3Hgpmu4/BTWJrrUP7D+y2HpdnPbtP927uhqM3+4/I8tr8/tI7z/HkpbgWNbuP0Q5deTLZus/BTWJrrUP7D9AdBZwe2buP2U9n8X1/O4/4nrVNPj87j9VWadUux7rPwU1ia61D+w/d61Cj5V17T/dsNOXxBruPy3o0maSJOw/Q5od6ysZ7z8RMWX9wXPvP/rf5F2LAO0/7aYH7bww4D+Tj9UFUEbuPxmmhfDS/+w/Kck9eVSG7z/n8HKLFZvuP4IQKyDNhO0/BTWJrrUP7D+d9GvL4bPuP7B+O55auO8/YKIRwjP67T8FNYmutQ/sPwU1ia61D+w/P7kziNv/zL8u3yW4N7PtP5n6NOz1lO4/BTWJrrUP7D8FNYmutQ/sP7Vv+757Ne8/BTWJrrUP7D9OMcGCOoDoPwWlHoAGD+0/BTWJrrUP7D8BeGxf4VHvPwyxRjK7mOw/BTWJrrUP7D/DEttkGJztP/C3msQJ0e0/BHT2F5X77D8FNYmutQ/sPwU1ia61D+w/qAw8PTG19L8a2ZZOs7jvP9DNy4MiFO0/b7Y/uTlV7D82g+/VLrHuP3f/Av1rFe4/nRs2MtP+7D8FNYmutQ/sP3qVIAwKF+8/4YUUXrLU7j9WGEbL0mjsPwU1ia61D+w/KGMbJyue7D8Ixdalon7vPwU1ia61D+w/5y04JL8S7T9paqyWLSPuP0J/eHIOeu4/BTWJrrUP7D8FNYmutQ/sPyVEN/rYye0/qnPAqvEo7z8nu5aDLdHrPwU1ia61D+w/BTWJrrUP7D9XSNSwV0LvP+K4SnZVCe0/fDLw6w997j89MTj7Vh7WPwU1ia61D+w/N44SoX9l7z8FNYmutQ/sP87yH4AeY+8/4q+F8sHd3z+PrRBElu7uP22PGWXpb9I/G7GO5yxk7z858qsXBmXtP3ngTS7d3O8/gzUrcM6h4j9n/By/8KvtP17+FZY2Le8/3MiN7D4/7z9E/3wynwLuPz1EqeitU+0/eWqJyd6Q7z8FNYmutQ/sP9YM++ss5e0/tbXdlJZJ7j+2q87ZUFnuP64vAzhCSe4/Pque+23e6z8PJDjIIHvtPzaw5P58NO4/mlAp5Nk97z++nd6eKATvPwU1ia61D+w/QkYaAbRz7D9T9TDXwYDvP9c/dyWiku8/UBziIKYa7z+zuLSLllXvP/KAv8D1i+0/mz1idgDW7j9R5nv1xtztP9CHj/+zrO8/vqXyOqB67z9MXJc8OBXvP7O3vt7cROs/Yj/C8GKP7z8FNYmutQ/sP6sMywvrDuo/wDyrv2W+7z8c+tUZu34UwMtcaQsI2O4/DnOwQbM37T9CO468vl7vP7zPoqGocOw/CyR+8fRNEsBoNzBVzUnvP4/dcv+XHO0/BTWJrrUP7D81l9NEkJHvP/ZtmMJIw+0/5ubL7eVp7j8pYlUVjkftP+i+K7ZrVdM/pKT2PFUQ7T8vlyTdkXzvP/wwpHMIEe4//DCkcwgR7j8cZxX8pH/vPz6W9L4S6O8/639IPqGw5z8FNYmutQ/sP/mmV7vTf+w/+NSFEf7E7j+YbVxDuvTpP4IPLjnm4Ow/B1VPbkcU6z/IFYDdb8LtP6GwrsJf3u4/wIhWdBt07z9jsZs2yqTsP3eEL5Y5t+4/vFLm/wT37j8rDhlyL6/vPwMzB1CWF+w/qI4zKwaW7D+QcWGRzgLvP8QpCstfEO8/A8i0UEgg7T8/ITrCic3uP9mgL7OrEO8/OnIG+LVK7z/Le9CiC9jvP38/NAC5RO0/ZKduXi3t7T8AuPNL6oPvP1/+JpdR+e0/VnZ3R6Zl7j9QR67iDnrvP8wpI0yNmu8/noCc+nhZ7z9oJeWShdruP6O/duZZse8/8n8INbhJ7j86PFfpg1XmP8L2AD3Aq+4/x/EN2hc67j8miVWn3FDZP5ZRS8X9uu8/63Jnckuk7T+gJ4nDG8nvPzXWqZNpN+8/35VjRqpy7z8UGQ1vekvuP1DTJo7EJu0/4yS4AnTZ7z828ZVBCN/uPwU1ia61D+w/BTWJrrUP7D/SK/AmYD3uP8lQvZeCbe8/FrhGcieW7j+vuIPQkILvP5yOBm0/wO4/bYJnGNrj7j/c/4rT92nvPyyEpBtnxu4/SwCVNz7J7z9EXsbikKLtPzRHUYe8p+8/M6hCp1DN7D9qF1qZ31juP5icRA2u3+s/QgqsXAJD7z9vvIsZ6DPvP+kc5adjhu4/CTXcb0fQ7z9cP5Je/eftP3gWjS7udO4/imWS2zLD7z9BiaIFb3ztP2Ls+VQMa+8/HzQrp/OL7z/+6+BPEWHvP6nhhLxHl+k/r2xkU5va7z+IQflgLNTvPyDbf3tjc+8/gma0/Dqd7z/tbFb6z+TvPzANSSJ93e8//shaQx0J7z9gUECsRHTvP6tViahgxe8/BUgMsxOM7z/XNkPMqsXvP/6GI6qTcO4/dYnoY+V77z9GuCOlJmvvP0Iswamc7u8/FFh9Xui87z/kGrDpc0LvP/A9SC5Sg+0/Y5c62HAE7z9HuKUotcvvP/fu3mtege8/HuHKSL3Z7z8bAbZhQhnvPyiJDnoqt+8/KXvT3oHY7z+IDFrnheXvPx9mUkqvqe8/dDo/ybtO7z8PqsyZ3ULvP/B3PMrm5+8/r/axWEa47z+2EroMHWLvP3QyjdC+y+8/R0Gqn3KZ7z+4gp6L4yPvP+iLzjIhzu4/sMGsnWLU7z9In73RbdvvPzW953I+y+8//K5qBry67z9xtHz+oqTuP+6oSLCtyu8/enY/WVqb7z9ra4nT3u3vP6LOyCvGTu8/JRwmC1ry7z9BEETsldHvP92rjF8e++0/o8g7QGyQ7z9R3foMULPvPwmFONnStO8/6BeU9iC+7z8qhvXF/sHvPzMPt3EoaO8/ur8Wg4i07z8AGKlSCNbvP2QdqMGES+8/wE9r9BHj7z8Nav3vaaTvP2zQyrB0jO4/59h6Vet47z8zAzaFnMvvP/Tu6vt33+8/vzTUMjP87j/TZSqYXqbuP00dBLFo4O8/WcA1xXnw7z/fCTJd2rHvP49lYZ6Rl+8/1T6RKlfi7z/Jo6Wx3LfvP0oj6L8squ8/EIi2dRrw7z9jzy9wRLvvP25bC6Msuu8/n465dIeM7z/fSDkD38HvP2v1FWqXQe4/JRwmC1ry7z+zKNFGovLvP/axGF9o8u8/dtv6VZFLHMB22/pVkUscwHbb+lWRSxzAUo3MJB2i4D/DSebnFaLgP4DR+oaFo+A/8zTvdkp97T/ozYeRY4DtP2BXhEcTf+0/D3pinKqf7j9mhreyKqHuP/kF04m6oO4/SRmD/TlK7z+/6uuaakrvP4h4F8okTO8/czF5TCn77z+cawLQyfvvP7wXZgbJ++8/ZRMcwOX57z855RgBsvnvPxDbMQDe+u8/FphKy7D27z/Sb7qRs/fvP9/Qq9mH9u8/8yyaSBv07z9cnQG1g/PvP9Wmuomz8+8/mi/LuH3y7z94uCiQFfPvP/bqX2Fq8+8/OgyBNjDz7z/A3rZK4/LvP0VATtt58+8/DKWeHh7z7z+7ZDPhWvLvP2Pl1Ygp8+8/oxQl12X07z8pP/qUOvTvPxxBCjU88u8/xNe+ZePy7z/KIlBsa/PvP013JPnH8e8/uth41UTz7z8P48bbm/PvP3rZxO+88+8/w3zjMkTy7z9nTM7lX/LvPzLNngkr8+8/VDyBwdrz7z9cNwbrt/LvP5ehcL3X8e8/dBl+mizz7z+gMTaAq/HvP5zgdO5+8+8/mMcTUkL07z8GKncp/fHvP4ZluwOF8+8/tp3GbWDy7z/F5x/RA/PvP3mkxCqT8+8/",
          "dtype": "f8"
         }
        },
        {
         "mode": "lines",
         "name": "Node: 22",
         "type": "scatter",
         "x": {
          "bdata": "AAABAAIAAwAEAAUABgAHAAgACQAKAAsADAANAA4ADwAQABEAEgATABQAFQAWABcAGAAZABoAGwAcAB0AHgAfACAAIQAiACMAJAAlACYAJwAoACkAKgArACwALQAuAC8AMAAxADIAMwA0ADUANgA3ADgAOQA6ADsAPAA9AD4APwBAAEEAQgBDAEQARQBGAEcASABJAEoASwBMAE0ATgBPAFAAUQBSAFMAVABVAFYAVwBYAFkAWgBbAFwAXQBeAF8AYABhAGIAYwBkAGUAZgBnAGgAaQBqAGsAbABtAG4AbwBwAHEAcgBzAHQAdQB2AHcAeAB5AHoAewB8AH0AfgB/AIAAgQCCAIMAhACFAIYAhwCIAIkAigCLAIwAjQCOAI8AkACRAJIAkwCUAJUAlgCXAJgAmQCaAJsAnACdAJ4AnwCgAKEAogCjAKQApQCmAKcAqACpAKoAqwCsAK0ArgCvALAAsQCyALMAtAC1ALYAtwC4ALkAugC7ALwAvQC+AL8AwADBAMIAwwDEAMUAxgDHAMgAyQDKAMsAzADNAM4AzwDQANEA0gDTANQA1QDWANcA2ADZANoA2wDcAN0A3gDfAOAA4QDiAOMA5ADlAOYA5wDoAOkA6gDrAOwA7QDuAO8A8ADxAPIA8wD0APUA9gD3APgA+QD6APsA/AD9AP4A/wAAAQEBAgEDAQQBBQEGAQcBCAEJAQoBCwEMAQ0BDgEPARABEQESARMBFAEVARYBFwEYARkBGgEbARwBHQEeAR8BIAEhASIBIwEkASUBJgEnASgBKQEqASsBLAEtAS4BLwEwATEBMgEzATQBNQE2ATcBOAE5AToBOwE8AT0BPgE/AUABQQFCAUMBRAFFAUYBRwFIAUkBSgFLAUwBTQFOAU8BUAFRAVIBUwFUAVUBVgFXAVgBWQFaAVsBXAFdAV4BXwFgAWEBYgFjAWQBZQFmAWcBaAFpAWoBawFsAW0BbgFvAXABcQFyAXMBdAF1AXYBdwF4AXkBegF7AXwBfQF+AX8BgAGBAYIBgwGEAYUBhgGHAYgBiQGKAYsBjAGNAY4BjwGQAZEBkgGTAZQBlQGWAZcBmAGZAZoBmwGcAZ0BngGfAaABoQGiAaMBpAGlAaYBpwGoAakBqgGrAawBrQGuAa8BsAGxAbIBswG0AbUBtgG3AbgBuQG6AbsBvAG9Ab4BvwHAAcEBwgHDAcQBxQHGAccByAHJAcoBywHMAc0BzgHPAdAB0QHSAdMB1AHVAdYB1wHYAdkB2gHbAdwB3QHeAd8B4AHhAeIB4wHkAeUB5gHnAegB6QHqAesB7AHtAe4B7wHwAfEB8gHzAfQB9QH2AfcB+AH5AfoB+wH8Af0B/gH/AQAC",
          "dtype": "i2"
         },
         "y": {
          "bdata": "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",
          "dtype": "f8"
         }
        },
        {
         "mode": "lines",
         "name": "Node: 23",
         "type": "scatter",
         "x": {
          "bdata": "AAABAAIAAwAEAAUABgAHAAgACQAKAAsADAANAA4ADwAQABEAEgATABQAFQAWABcAGAAZABoAGwAcAB0AHgAfACAAIQAiACMAJAAlACYAJwAoACkAKgArACwALQAuAC8AMAAxADIAMwA0ADUANgA3ADgAOQA6ADsAPAA9AD4APwBAAEEAQgBDAEQARQBGAEcASABJAEoASwBMAE0ATgBPAFAAUQBSAFMAVABVAFYAVwBYAFkAWgBbAFwAXQBeAF8AYABhAGIAYwBkAGUAZgBnAGgAaQBqAGsAbABtAG4AbwBwAHEAcgBzAHQAdQB2AHcAeAB5AHoAewB8AH0AfgB/AIAAgQCCAIMAhACFAIYAhwCIAIkAigCLAIwAjQCOAI8AkACRAJIAkwCUAJUAlgCXAJgAmQCaAJsAnACdAJ4AnwCgAKEAogCjAKQApQCmAKcAqACpAKoAqwCsAK0ArgCvALAAsQCyALMAtAC1ALYAtwC4ALkAugC7ALwAvQC+AL8AwADBAMIAwwDEAMUAxgDHAMgAyQDKAMsAzADNAM4AzwDQANEA0gDTANQA1QDWANcA2ADZANoA2wDcAN0A3gDfAOAA4QDiAOMA5ADlAOYA5wDoAOkA6gDrAOwA7QDuAO8A8ADxAPIA8wD0APUA9gD3APgA+QD6APsA/AD9AP4A/wAAAQEBAgEDAQQBBQEGAQcBCAEJAQoBCwEMAQ0BDgEPARABEQESARMBFAEVARYBFwEYARkBGgEbARwBHQEeAR8BIAEhASIBIwEkASUBJgEnASgBKQEqASsBLAEtAS4BLwEwATEBMgEzATQBNQE2ATcBOAE5AToBOwE8AT0BPgE/AUABQQFCAUMBRAFFAUYBRwFIAUkBSgFLAUwBTQFOAU8BUAFRAVIBUwFUAVUBVgFXAVgBWQFaAVsBXAFdAV4BXwFgAWEBYgFjAWQBZQFmAWcBaAFpAWoBawFsAW0BbgFvAXABcQFyAXMBdAF1AXYBdwF4AXkBegF7AXwBfQF+AX8BgAGBAYIBgwGEAYUBhgGHAYgBiQGKAYsBjAGNAY4BjwGQAZEBkgGTAZQBlQGWAZcBmAGZAZoBmwGcAZ0BngGfAaABoQGiAaMBpAGlAaYBpwGoAakBqgGrAawBrQGuAa8BsAGxAbIBswG0AbUBtgG3AbgBuQG6AbsBvAG9Ab4BvwHAAcEBwgHDAcQBxQHGAccByAHJAcoBywHMAc0BzgHPAdAB0QHSAdMB1AHVAdYB1wHYAdkB2gHbAdwB3QHeAd8B4AHhAeIB4wHkAeUB5gHnAegB6QHqAesB7AHtAe4B7wHwAfEB8gHzAfQB9QH2AfcB+AH5AfoB+wH8Af0B/gH/AQAC",
          "dtype": "i2"
         },
         "y": {
          "bdata": "FRjM7zde6D+OTIOg1wjqPxUYzO83Xug/FRjM7zde6D+37l12k3vVv57svBHtDdg/FRjM7zde6D9uxKnBOLnoPxUYzO83Xug//I6DZxNH5D8VGMzvN17oPxUYzO83Xug/FRjM7zde6D/xxkwChMHsPxUYzO83Xug/FRjM7zde6D8I9bhVre/sPxUYzO83Xug/6pTHbvPRDcCH2bVITS3Kv258Gsn8Y98/mJwEnrFM6b8eTAsv45fvP2hDRENzzOs/FRjM7zde6D8VGMzvN17oPxUYzO83Xug/FRjM7zde6D+7LevdxkUGwE+NJa8+k9O/FRjM7zde6D98Lm5rOt7hP4qiQPIsds8/FRjM7zde6D+ozBe0GU7aP6Z2kYJfc+k/p4KNNGdw6D/oSLWERgDtPxUYzO83Xug/uO8UXsRO7D/MOvc5hZ3UvxUYzO83Xug/FRjM7zde6D8VGMzvN17oPyaZg3ocOOw/FRjM7zde6D+aTpy4eFTtPxdU9r0Fau4/QLVihzlR7T8VGMzvN17oP66mLS+Ui+o/kDm9gssp/r8VGMzvN17oPxUYzO83Xug/FRjM7zde6D9Dw0Eq/AjrP4iKSz5XIOo/eRTulTu+7D/g2JB1/xnzvxUYzO83Xug/DYN3f01UBsAVGMzvN17oP3h7KMktqek/FRjM7zde6D9FRMMI7qXEvxUYzO83Xug/FRjM7zde6D96kJhu423vPxUYzO83Xug/FRjM7zde6D8VGMzvN17oP02oz+vYU94/FRjM7zde6D8VGMzvN17oPxUYzO83Xug/5m+UCwTM6T+HEPw8gADGv12On2qa5eI/FRjM7zde6D8VGMzvN17oP0MLwUE8/+4/WqrakJvU7T8VGMzvN17oPxUYzO83Xug/p5AdsjvX6T9wF/tV6RTnP/og+K7R5+w/gpp2Uz9o2D+g/poI9nHrP2FDM/Mp9e0/FRjM7zde6D8VGMzvN17oPxUYzO83Xug/FRjM7zde6D+RMGUki3zmP2mP7uOKNe8/76wGG3ETxL+Go5WbCSPlPxUYzO83Xug/McqN5FIM5D9szj53k2rtPxez4U8dUP2/FRjM7zde6D8VGMzvN17oPxUYzO83Xug/mCjRNo38xz8VGMzvN17oP0j3anC47+I/u87gFCjs4T8VGMzvN17oP+5qab1GGOE/FRjM7zde6D+fURVZ3HLoPxUYzO83Xug/IQHiq6+Y7z/DGr7Yh/3sPxycrxWF0ug/FRjM7zde6D/Xq98smYHoPxUYzO83Xug/AK2iVLjv7j8VGMzvN17oP/1pu5yjAu8/jQjBGRrd6j8VGMzvN17oPxUYzO83Xug/cq8LsCrcmz+5b9cukVzuP72yFD43fe4/FRjM7zde6D9UAKGBbuHnPwQdp1kJ0OM/RNDflQT36j+0Fb2/EJzqP982JRFlCbe/Lpz6vvNN7z9QK3QilBzfPxUYzO83Xug/FRjM7zde6D8VGMzvN17oP9WpJIK4tek/AunDO0La7j/b4z0ZNEzpPxUYzO83Xug/3fzeWW6Q7T99lrnG8nfmP8/DvYsNyO8/B8Vu4tro7j9MoZGtvJruP505QlkTFNs/CpdGu9LH5z8VGMzvN17oP47q9mMtt+w/FRjM7zde6D8b7Xico5nqP9VAyh0Pj+s/FRjM7zde6D80efq7DlXvP1yjf+JTmek/5JcWeOk07D/X0g+Qx+HpPwxIK2qQauE/FRjM7zde6D8YJVFAtNfsPzzQYC9Tnug/nAvN+jye6D9eSgkU8m7mPxUYzO83Xug/qhPghX4f7j+sLYlNRdzvP3kx/WwC+eM/n3HJCmZi7j9V+nEuey7oPwiZXChYCNM/qs1y6Rb35T8pIayRvJftP3hc4nGOBOw/fuY6Db7h6D/CxP+CyQzsP/miyAeUaO4/FRjM7zde6D863CBvW9/qP1A346L06+4/GXCfC2co7j8VGMzvN17oPxUYzO83Xug/9gasv4BTw7+IX4+eMk3vP7NGndSuIus/FRjM7zde6D8VGMzvN17oP/qURUhmzuU/FRjM7zde6D/RO41CSYTuP89zWuiSR+w/FRjM7zde6D8b885gINfsPxJlSvDcUeo/FRjM7zde6D8HK/HUH9ruPy4eZWYq5e8/pGKtNf/x6z8VGMzvN17oPxUYzO83Xug/zCTzuNw1AMBZFt8kVSDtP8QzFLREXuw/zMpn9k2R5T8c/VZIRPLqPzoDpX1fD+o/n5dVxC0A7D8VGMzvN17oP2tcuKP6Aew/ivWpGQHZ5T++TEyvPFjuPxUYzO83Xug/9IbFZMGj2D/2dB/l+srqPxUYzO83Xug/oXKMFhhY7D9UBB1Y6GDuP3jaZfVQGe8/FRjM7zde6D8VGMzvN17oP5QzSUYlwO8/Rkf4g9hD7z+RdmriVePtPxUYzO83Xug/FRjM7zde6D9SYu5SokznPwOPzXlkLuw/N4veyohL7D/gLRCtSfDYPxUYzO83Xug/9pc7uez07z8VGMzvN17oP/DxCS75aus/nqbpestd6T9DpEhB6SbtPwn2LwvYYeI/2qNYwDCQ6z9L1RhI5dDtP6qpqz8xy+4/6o1fcbVq2T/YnU6TwijvPyWGUZgmH+w/wyskCe9i7D8/6v5FbxTvPzWosw0tgO0/73q1xwdV6z8VGMzvN17oP9R7Shd1YOY/AGkSDb7X6D9l3QEfTSftP8Mzso12hu0/b+XHX0ud4D+fv6ffBTruP6oeszcaZu8/FHsMDOVu6T/Q01h15VTmPxUYzO83Xug/whY3v/u+6T+RqPNT8ETvPx2FSmKOB+0/JC+IFyR47T/h461UqPXvP6XgV5w/i+4/crNJ3EHt6z+Hgg2C6z3uP3jtLYpTnuw/g8KU8epu6D+qRLYu5arnP28qKszHR+U/VLplB+v56j8VGMzvN17oP0BGnQV5SeY/khwy2xDD7T8ycLafLNsOwJdu9chGfe0/EQBo/o/+7D/fc02X327sP7+d3g0ys+k/uxW1mtnKA8CtgoZXltrvPx3ZDcIEhOw/FRjM7zde6D/+0hXb1W7rP9SwCMgV2eM/7MyUviK47T+U9ofAW0ftP4hV30ofoOM/SHb3+bH41D99ADnhulTvP66LT84Ov+U/rotPzg6/5T86UrOEEP7uP5qe7tDjRu8/xo9/aoMy4T8VGMzvN17oP1C+sG5l7uk/A0WY7doh7j8w0ZkyQWvYP107k9/l7Og/JnJXtaul5j8gz0Ui4EvoP4DbpH6UmOo/tK+NKloO7T86a7eEnE7tP6ZAi4LmNes/6pyi2IRx7z+LDp1BUsTtPwGlyPIDd+g/Hsga2fBG6j+ixxrw/AzsP5FDYVl+3+c/jeMABRcu7D+eAU0kBAPpP6wpan16muo/1AMae7jS7z+Z4CVkemDuP1sq9i3lTe8/KHqls32H7z/NmzYTJXfuPwK6D7F9Ru8/s4B1PtyU7T9Aw2U1tuPrP2foZwvNkO4/iZibvZSo7T+8k6OmGgPtP/WKQvU8Ge0/65aGAmxa6j+qdaomnhfrP7MUYDqWses/GYP06Kbe7T8ba7sD0ScWwKb7HpV0XO0/6/SJ1KkC7z81ZzbJBiTtPzLXkJ/LjOo/vjUX+pPR7z87KOO5EwnqP6bLvaO7sew/CjGJgGXT7j97psuWb27vPxUYzO83Xug/FRjM7zde6D+gQPKlH07vP8xrvpLe/us/3Ml57pap6z/P5qfD9/zuP35SNTVveu4/oPWJhV477j/TSWTjs1nvP6F3EGHMe+s/OfTNB3kg7z8SsZgFRx/sP0u4talqx+8/JvmcADMr6z8UBhO15JPsP/pVgPabrug/562s6/dW6z9ZjU4MuGjsP/sU55wVYes/L1r2z4FI7z+DcB+H9KLvPx0bLM70MOo/bzwxfTuG7j9UKODSofDqP5E+1MJDQO4/lR5HLjiZ7z9GlFTZSr3sPw6GpC2YMuI/bAXIwpEL7z9urOxY2gDuP1fkxhnZWuw/du9imhL77j+xnME9TqfuP20xMIciru4/3ar9i6cV7T8U/dptHwPuPyiTc4LMEe8/HR27dse17j8Ibhg9iEDuP/VLeQvrKOs/h076y/lC7T8kVLctTJbuP5rIh+51OO8/a6ERLqDu7T8JjZ/HsG/tP6Lt/UjL1uw/7Cd+EqiL6j9s6wqxcq/uP4If3fOy/+8/cS10FEx57z/ucgXS6HbvPy38tMsmDO8//IIR59eZ7j8tOKVFZ+rvP04gprOr7O0/W0s2oR2p7j/KnIpTk7jvP012Tilizu4/Ngr+C1SK7z/EIarpvEftP//AC+E+5O8/PElhbx6z7j/q21wDbejtP9VLdCgkZ+s//QtMxB5w7z848OTFW77vPwXtV4F3+O8/xImcAvRE7T9Y5CEvlUXtP307AEsaeO8/b9Nzk0qv7z9WiVkk2DjvP/9FMj3Koe4/DCFb5hX87z/wzKUGBtjuP0ixvSKK4es/XhRFiQ9r7T80EEygRRXvP7GmhZJAhe4/pn/7a6Mx7z/Pu1mTup7vP3vG3h515+s/m7JYabnV7z/0tEnAyVzvP9iJ++2aje8/zJkborJo7z+81rHUNG3uP3CHIcuzt+0/JOEkDjJg7T8N9NHfUMPvP7DucsWe0u8/9h4YbF4w7j8hpskJZzHuP+37PqR9De8/j52HaFdH7z8+6OUeGuvtPzdDEYSXF+0/2RrgKur/7j8vd3v9kTPuP/8luVTHze0/EGmdqN097z/N4y7yLIfvPxvpqWUVhu4/h+wL51ex7T/7+SPk/wfuP6S5Lk47Eew/DCFb5hX87z8MIVvmFfzvP7MKW+YV/O8/V0ny+YSzM8BXSfL5hLMzwFdJ8vmEszPAIXbEz8BTzz8hdsTPwFPPPyF2xM/AU88/0VERplXL6j/RURGmVcvqP9FREaZVy+o/UZm6/dMu7T9Rmbr90y7tP6RHvP3TLu0/EDwzuLiJ7j8QPDO4uInuPxA8M7i4ie4/wQqNu4Hj7z/BCo27gePvPzshjbuB4+8/WL1iaXn27z9YvWJpefbvPyLqYml59u8/3dH28hb97z/d0fbyFv3vP93R9vIW/e8/s0jSSgf97z+zSNJKB/3vP0lZokoH/e8/fg81Zp/87z9+DzVmn/zvP75rZGCf/O8/6sFeSCf87z/qwV5IJ/zvP+rBXkgn/O8/1I/lgxz87z/w3OSDHPzvP4mD5IMc/O8/iuyTqxn87z+K7JOrGfzvPy/Wk6sZ/O8/b0695Rb87z8o6LvlFvzvPyjou+UW/O8/UJhPgRb87z9QmE+BFvzvP0syToEW/O8/tYfmKhb87z+1h+YqFvzvP9rU5SoW/O8/VBJR7xX87z9UElHvFfzvP1QSUe8V/O8/Y5Nd5hX87z9jk13mFfzvP2OTXeYV/O8/WC1c5hX87z91elvmFfzvP3V6W+YV/O8/Y5Nd5hX87z9jk13mFfzvP3V6W+YV/O8/",
          "dtype": "f8"
         }
        },
        {
         "mode": "lines",
         "name": "Node: 24",
         "type": "scatter",
         "x": {
          "bdata": "AAABAAIAAwAEAAUABgAHAAgACQAKAAsADAANAA4ADwAQABEAEgATABQAFQAWABcAGAAZABoAGwAcAB0AHgAfACAAIQAiACMAJAAlACYAJwAoACkAKgArACwALQAuAC8AMAAxADIAMwA0ADUANgA3ADgAOQA6ADsAPAA9AD4APwBAAEEAQgBDAEQARQBGAEcASABJAEoASwBMAE0ATgBPAFAAUQBSAFMAVABVAFYAVwBYAFkAWgBbAFwAXQBeAF8AYABhAGIAYwBkAGUAZgBnAGgAaQBqAGsAbABtAG4AbwBwAHEAcgBzAHQAdQB2AHcAeAB5AHoAewB8AH0AfgB/AIAAgQCCAIMAhACFAIYAhwCIAIkAigCLAIwAjQCOAI8AkACRAJIAkwCUAJUAlgCXAJgAmQCaAJsAnACdAJ4AnwCgAKEAogCjAKQApQCmAKcAqACpAKoAqwCsAK0ArgCvALAAsQCyALMAtAC1ALYAtwC4ALkAugC7ALwAvQC+AL8AwADBAMIAwwDEAMUAxgDHAMgAyQDKAMsAzADNAM4AzwDQANEA0gDTANQA1QDWANcA2ADZANoA2wDcAN0A3gDfAOAA4QDiAOMA5ADlAOYA5wDoAOkA6gDrAOwA7QDuAO8A8ADxAPIA8wD0APUA9gD3APgA+QD6APsA/AD9AP4A/wAAAQEBAgEDAQQBBQEGAQcBCAEJAQoBCwEMAQ0BDgEPARABEQESARMBFAEVARYBFwEYARkBGgEbARwBHQEeAR8BIAEhASIBIwEkASUBJgEnASgBKQEqASsBLAEtAS4BLwEwATEBMgEzATQBNQE2ATcBOAE5AToBOwE8AT0BPgE/AUABQQFCAUMBRAFFAUYBRwFIAUkBSgFLAUwBTQFOAU8BUAFRAVIBUwFUAVUBVgFXAVgBWQFaAVsBXAFdAV4BXwFgAWEBYgFjAWQBZQFmAWcBaAFpAWoBawFsAW0BbgFvAXABcQFyAXMBdAF1AXYBdwF4AXkBegF7AXwBfQF+AX8BgAGBAYIBgwGEAYUBhgGHAYgBiQGKAYsBjAGNAY4BjwGQAZEBkgGTAZQBlQGWAZcBmAGZAZoBmwGcAZ0BngGfAaABoQGiAaMBpAGlAaYBpwGoAakBqgGrAawBrQGuAa8BsAGxAbIBswG0AbUBtgG3AbgBuQG6AbsBvAG9Ab4BvwHAAcEBwgHDAcQBxQHGAccByAHJAcoBywHMAc0BzgHPAdAB0QHSAdMB1AHVAdYB1wHYAdkB2gHbAdwB3QHeAd8B4AHhAeIB4wHkAeUB5gHnAegB6QHqAesB7AHtAe4B7wHwAfEB8gHzAfQB9QH2AfcB+AH5AfoB+wH8Af0B/gH/AQAC",
          "dtype": "i2"
         },
         "y": {
          "bdata": "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",
          "dtype": "f8"
         }
        },
        {
         "mode": "lines",
         "name": "Node: 18",
         "type": "scatter",
         "x": {
          "bdata": "AAABAAIAAwAEAAUABgAHAAgACQAKAAsADAANAA4ADwAQABEAEgATABQAFQAWABcAGAAZABoAGwAcAB0AHgAfACAAIQAiACMAJAAlACYAJwAoACkAKgArACwALQAuAC8AMAAxADIAMwA0ADUANgA3ADgAOQA6ADsAPAA9AD4APwBAAEEAQgBDAEQARQBGAEcASABJAEoASwBMAE0ATgBPAFAAUQBSAFMAVABVAFYAVwBYAFkAWgBbAFwAXQBeAF8AYABhAGIAYwBkAGUAZgBnAGgAaQBqAGsAbABtAG4AbwBwAHEAcgBzAHQAdQB2AHcAeAB5AHoAewB8AH0AfgB/AIAAgQCCAIMAhACFAIYAhwCIAIkAigCLAIwAjQCOAI8AkACRAJIAkwCUAJUAlgCXAJgAmQCaAJsAnACdAJ4AnwCgAKEAogCjAKQApQCmAKcAqACpAKoAqwCsAK0ArgCvALAAsQCyALMAtAC1ALYAtwC4ALkAugC7ALwAvQC+AL8AwADBAMIAwwDEAMUAxgDHAMgAyQDKAMsAzADNAM4AzwDQANEA0gDTANQA1QDWANcA2ADZANoA2wDcAN0A3gDfAOAA4QDiAOMA5ADlAOYA5wDoAOkA6gDrAOwA7QDuAO8A8ADxAPIA8wD0APUA9gD3APgA+QD6APsA/AD9AP4A/wAAAQEBAgEDAQQBBQEGAQcBCAEJAQoBCwEMAQ0BDgEPARABEQESARMBFAEVARYBFwEYARkBGgEbARwBHQEeAR8BIAEhASIBIwEkASUBJgEnASgBKQEqASsBLAEtAS4BLwEwATEBMgEzATQBNQE2ATcBOAE5AToBOwE8AT0BPgE/AUABQQFCAUMBRAFFAUYBRwFIAUkBSgFLAUwBTQFOAU8BUAFRAVIBUwFUAVUBVgFXAVgBWQFaAVsBXAFdAV4BXwFgAWEBYgFjAWQBZQFmAWcBaAFpAWoBawFsAW0BbgFvAXABcQFyAXMBdAF1AXYBdwF4AXkBegF7AXwBfQF+AX8BgAGBAYIBgwGEAYUBhgGHAYgBiQGKAYsBjAGNAY4BjwGQAZEBkgGTAZQBlQGWAZcBmAGZAZoBmwGcAZ0BngGfAaABoQGiAaMBpAGlAaYBpwGoAakBqgGrAawBrQGuAa8BsAGxAbIBswG0AbUBtgG3AbgBuQG6AbsBvAG9Ab4BvwHAAcEBwgHDAcQBxQHGAccByAHJAcoBywHMAc0BzgHPAdAB0QHSAdMB1AHVAdYB1wHYAdkB2gHbAdwB3QHeAd8B4AHhAeIB4wHkAeUB5gHnAegB6QHqAesB7AHtAe4B7wHwAfEB8gHzAfQB9QH2AfcB+AH5AfoB+wH8Af0B/gH/AQAC",
          "dtype": "i2"
         },
         "y": {
          "bdata": "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",
          "dtype": "f8"
         }
        },
        {
         "line": {
          "color": "black",
          "dash": "dash",
          "width": 2
         },
         "mode": "lines",
         "name": "Mean Score",
         "type": "scatter",
         "x": {
          "bdata": "AAABAAIAAwAEAAUABgAHAAgACQAKAAsADAANAA4ADwAQABEAEgATABQAFQAWABcAGAAZABoAGwAcAB0AHgAfACAAIQAiACMAJAAlACYAJwAoACkAKgArACwALQAuAC8AMAAxADIAMwA0ADUANgA3ADgAOQA6ADsAPAA9AD4APwBAAEEAQgBDAEQARQBGAEcASABJAEoASwBMAE0ATgBPAFAAUQBSAFMAVABVAFYAVwBYAFkAWgBbAFwAXQBeAF8AYABhAGIAYwBkAGUAZgBnAGgAaQBqAGsAbABtAG4AbwBwAHEAcgBzAHQAdQB2AHcAeAB5AHoAewB8AH0AfgB/AIAAgQCCAIMAhACFAIYAhwCIAIkAigCLAIwAjQCOAI8AkACRAJIAkwCUAJUAlgCXAJgAmQCaAJsAnACdAJ4AnwCgAKEAogCjAKQApQCmAKcAqACpAKoAqwCsAK0ArgCvALAAsQCyALMAtAC1ALYAtwC4ALkAugC7ALwAvQC+AL8AwADBAMIAwwDEAMUAxgDHAMgAyQDKAMsAzADNAM4AzwDQANEA0gDTANQA1QDWANcA2ADZANoA2wDcAN0A3gDfAOAA4QDiAOMA5ADlAOYA5wDoAOkA6gDrAOwA7QDuAO8A8ADxAPIA8wD0APUA9gD3APgA+QD6APsA/AD9AP4A/wAAAQEBAgEDAQQBBQEGAQcBCAEJAQoBCwEMAQ0BDgEPARABEQESARMBFAEVARYBFwEYARkBGgEbARwBHQEeAR8BIAEhASIBIwEkASUBJgEnASgBKQEqASsBLAEtAS4BLwEwATEBMgEzATQBNQE2ATcBOAE5AToBOwE8AT0BPgE/AUABQQFCAUMBRAFFAUYBRwFIAUkBSgFLAUwBTQFOAU8BUAFRAVIBUwFUAVUBVgFXAVgBWQFaAVsBXAFdAV4BXwFgAWEBYgFjAWQBZQFmAWcBaAFpAWoBawFsAW0BbgFvAXABcQFyAXMBdAF1AXYBdwF4AXkBegF7AXwBfQF+AX8BgAGBAYIBgwGEAYUBhgGHAYgBiQGKAYsBjAGNAY4BjwGQAZEBkgGTAZQBlQGWAZcBmAGZAZoBmwGcAZ0BngGfAaABoQGiAaMBpAGlAaYBpwGoAakBqgGrAawBrQGuAa8BsAGxAbIBswG0AbUBtgG3AbgBuQG6AbsBvAG9Ab4BvwHAAcEBwgHDAcQBxQHGAccByAHJAcoBywHMAc0BzgHPAdAB0QHSAdMB1AHVAdYB1wHYAdkB2gHbAdwB3QHeAd8B4AHhAeIB4wHkAeUB5gHnAegB6QHqAesB7AHtAe4B7wHwAfEB8gHzAfQB9QH2AfcB+AH5AfoB+wH8Af0B/gH/AQAC",
          "dtype": "i2"
         },
         "y": {
          "bdata": "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",
          "dtype": "f8"
         }
        }
       ],
       "layout": {
        "legend": {
         "title": {
          "text": "Node"
         }
        },
        "template": {
         "data": {
          "bar": [
           {
            "error_x": {
             "color": "#2a3f5f"
            },
            "error_y": {
             "color": "#2a3f5f"
            },
            "marker": {
             "line": {
              "color": "#E5ECF6",
              "width": 0.5
             },
             "pattern": {
              "fillmode": "overlay",
              "size": 10,
              "solidity": 0.2
             }
            },
            "type": "bar"
           }
          ],
          "barpolar": [
           {
            "marker": {
             "line": {
              "color": "#E5ECF6",
              "width": 0.5
             },
             "pattern": {
              "fillmode": "overlay",
              "size": 10,
              "solidity": 0.2
             }
            },
            "type": "barpolar"
           }
          ],
          "carpet": [
           {
            "aaxis": {
             "endlinecolor": "#2a3f5f",
             "gridcolor": "white",
             "linecolor": "white",
             "minorgridcolor": "white",
             "startlinecolor": "#2a3f5f"
            },
            "baxis": {
             "endlinecolor": "#2a3f5f",
             "gridcolor": "white",
             "linecolor": "white",
             "minorgridcolor": "white",
             "startlinecolor": "#2a3f5f"
            },
            "type": "carpet"
           }
          ],
          "choropleth": [
           {
            "colorbar": {
             "outlinewidth": 0,
             "ticks": ""
            },
            "type": "choropleth"
           }
          ],
          "contour": [
           {
            "colorbar": {
             "outlinewidth": 0,
             "ticks": ""
            },
            "colorscale": [
             [
              0,
              "#0d0887"
             ],
             [
              0.1111111111111111,
              "#46039f"
             ],
             [
              0.2222222222222222,
              "#7201a8"
             ],
             [
              0.3333333333333333,
              "#9c179e"
             ],
             [
              0.4444444444444444,
              "#bd3786"
             ],
             [
              0.5555555555555556,
              "#d8576b"
             ],
             [
              0.6666666666666666,
              "#ed7953"
             ],
             [
              0.7777777777777778,
              "#fb9f3a"
             ],
             [
              0.8888888888888888,
              "#fdca26"
             ],
             [
              1,
              "#f0f921"
             ]
            ],
            "type": "contour"
           }
          ],
          "contourcarpet": [
           {
            "colorbar": {
             "outlinewidth": 0,
             "ticks": ""
            },
            "type": "contourcarpet"
           }
          ],
          "heatmap": [
           {
            "colorbar": {
             "outlinewidth": 0,
             "ticks": ""
            },
            "colorscale": [
             [
              0,
              "#0d0887"
             ],
             [
              0.1111111111111111,
              "#46039f"
             ],
             [
              0.2222222222222222,
              "#7201a8"
             ],
             [
              0.3333333333333333,
              "#9c179e"
             ],
             [
              0.4444444444444444,
              "#bd3786"
             ],
             [
              0.5555555555555556,
              "#d8576b"
             ],
             [
              0.6666666666666666,
              "#ed7953"
             ],
             [
              0.7777777777777778,
              "#fb9f3a"
             ],
             [
              0.8888888888888888,
              "#fdca26"
             ],
             [
              1,
              "#f0f921"
             ]
            ],
            "type": "heatmap"
           }
          ],
          "histogram": [
           {
            "marker": {
             "pattern": {
              "fillmode": "overlay",
              "size": 10,
              "solidity": 0.2
             }
            },
            "type": "histogram"
           }
          ],
          "histogram2d": [
           {
            "colorbar": {
             "outlinewidth": 0,
             "ticks": ""
            },
            "colorscale": [
             [
              0,
              "#0d0887"
             ],
             [
              0.1111111111111111,
              "#46039f"
             ],
             [
              0.2222222222222222,
              "#7201a8"
             ],
             [
              0.3333333333333333,
              "#9c179e"
             ],
             [
              0.4444444444444444,
              "#bd3786"
             ],
             [
              0.5555555555555556,
              "#d8576b"
             ],
             [
              0.6666666666666666,
              "#ed7953"
             ],
             [
              0.7777777777777778,
              "#fb9f3a"
             ],
             [
              0.8888888888888888,
              "#fdca26"
             ],
             [
              1,
              "#f0f921"
             ]
            ],
            "type": "histogram2d"
           }
          ],
          "histogram2dcontour": [
           {
            "colorbar": {
             "outlinewidth": 0,
             "ticks": ""
            },
            "colorscale": [
             [
              0,
              "#0d0887"
             ],
             [
              0.1111111111111111,
              "#46039f"
             ],
             [
              0.2222222222222222,
              "#7201a8"
             ],
             [
              0.3333333333333333,
              "#9c179e"
             ],
             [
              0.4444444444444444,
              "#bd3786"
             ],
             [
              0.5555555555555556,
              "#d8576b"
             ],
             [
              0.6666666666666666,
              "#ed7953"
             ],
             [
              0.7777777777777778,
              "#fb9f3a"
             ],
             [
              0.8888888888888888,
              "#fdca26"
             ],
             [
              1,
              "#f0f921"
             ]
            ],
            "type": "histogram2dcontour"
           }
          ],
          "mesh3d": [
           {
            "colorbar": {
             "outlinewidth": 0,
             "ticks": ""
            },
            "type": "mesh3d"
           }
          ],
          "parcoords": [
           {
            "line": {
             "colorbar": {
              "outlinewidth": 0,
              "ticks": ""
             }
            },
            "type": "parcoords"
           }
          ],
          "pie": [
           {
            "automargin": true,
            "type": "pie"
           }
          ],
          "scatter": [
           {
            "fillpattern": {
             "fillmode": "overlay",
             "size": 10,
             "solidity": 0.2
            },
            "type": "scatter"
           }
          ],
          "scatter3d": [
           {
            "line": {
             "colorbar": {
              "outlinewidth": 0,
              "ticks": ""
             }
            },
            "marker": {
             "colorbar": {
              "outlinewidth": 0,
              "ticks": ""
             }
            },
            "type": "scatter3d"
           }
          ],
          "scattercarpet": [
           {
            "marker": {
             "colorbar": {
              "outlinewidth": 0,
              "ticks": ""
             }
            },
            "type": "scattercarpet"
           }
          ],
          "scattergeo": [
           {
            "marker": {
             "colorbar": {
              "outlinewidth": 0,
              "ticks": ""
             }
            },
            "type": "scattergeo"
           }
          ],
          "scattergl": [
           {
            "marker": {
             "colorbar": {
              "outlinewidth": 0,
              "ticks": ""
             }
            },
            "type": "scattergl"
           }
          ],
          "scattermap": [
           {
            "marker": {
             "colorbar": {
              "outlinewidth": 0,
              "ticks": ""
             }
            },
            "type": "scattermap"
           }
          ],
          "scattermapbox": [
           {
            "marker": {
             "colorbar": {
              "outlinewidth": 0,
              "ticks": ""
             }
            },
            "type": "scattermapbox"
           }
          ],
          "scatterpolar": [
           {
            "marker": {
             "colorbar": {
              "outlinewidth": 0,
              "ticks": ""
             }
            },
            "type": "scatterpolar"
           }
          ],
          "scatterpolargl": [
           {
            "marker": {
             "colorbar": {
              "outlinewidth": 0,
              "ticks": ""
             }
            },
            "type": "scatterpolargl"
           }
          ],
          "scatterternary": [
           {
            "marker": {
             "colorbar": {
              "outlinewidth": 0,
              "ticks": ""
             }
            },
            "type": "scatterternary"
           }
          ],
          "surface": [
           {
            "colorbar": {
             "outlinewidth": 0,
             "ticks": ""
            },
            "colorscale": [
             [
              0,
              "#0d0887"
             ],
             [
              0.1111111111111111,
              "#46039f"
             ],
             [
              0.2222222222222222,
              "#7201a8"
             ],
             [
              0.3333333333333333,
              "#9c179e"
             ],
             [
              0.4444444444444444,
              "#bd3786"
             ],
             [
              0.5555555555555556,
              "#d8576b"
             ],
             [
              0.6666666666666666,
              "#ed7953"
             ],
             [
              0.7777777777777778,
              "#fb9f3a"
             ],
             [
              0.8888888888888888,
              "#fdca26"
             ],
             [
              1,
              "#f0f921"
             ]
            ],
            "type": "surface"
           }
          ],
          "table": [
           {
            "cells": {
             "fill": {
              "color": "#EBF0F8"
             },
             "line": {
              "color": "white"
             }
            },
            "header": {
             "fill": {
              "color": "#C8D4E3"
             },
             "line": {
              "color": "white"
             }
            },
            "type": "table"
           }
          ]
         },
         "layout": {
          "annotationdefaults": {
           "arrowcolor": "#2a3f5f",
           "arrowhead": 0,
           "arrowwidth": 1
          },
          "autotypenumbers": "strict",
          "coloraxis": {
           "colorbar": {
            "outlinewidth": 0,
            "ticks": ""
           }
          },
          "colorscale": {
           "diverging": [
            [
             0,
             "#8e0152"
            ],
            [
             0.1,
             "#c51b7d"
            ],
            [
             0.2,
             "#de77ae"
            ],
            [
             0.3,
             "#f1b6da"
            ],
            [
             0.4,
             "#fde0ef"
            ],
            [
             0.5,
             "#f7f7f7"
            ],
            [
             0.6,
             "#e6f5d0"
            ],
            [
             0.7,
             "#b8e186"
            ],
            [
             0.8,
             "#7fbc41"
            ],
            [
             0.9,
             "#4d9221"
            ],
            [
             1,
             "#276419"
            ]
           ],
           "sequential": [
            [
             0,
             "#0d0887"
            ],
            [
             0.1111111111111111,
             "#46039f"
            ],
            [
             0.2222222222222222,
             "#7201a8"
            ],
            [
             0.3333333333333333,
             "#9c179e"
            ],
            [
             0.4444444444444444,
             "#bd3786"
            ],
            [
             0.5555555555555556,
             "#d8576b"
            ],
            [
             0.6666666666666666,
             "#ed7953"
            ],
            [
             0.7777777777777778,
             "#fb9f3a"
            ],
            [
             0.8888888888888888,
             "#fdca26"
            ],
            [
             1,
             "#f0f921"
            ]
           ],
           "sequentialminus": [
            [
             0,
             "#0d0887"
            ],
            [
             0.1111111111111111,
             "#46039f"
            ],
            [
             0.2222222222222222,
             "#7201a8"
            ],
            [
             0.3333333333333333,
             "#9c179e"
            ],
            [
             0.4444444444444444,
             "#bd3786"
            ],
            [
             0.5555555555555556,
             "#d8576b"
            ],
            [
             0.6666666666666666,
             "#ed7953"
            ],
            [
             0.7777777777777778,
             "#fb9f3a"
            ],
            [
             0.8888888888888888,
             "#fdca26"
            ],
            [
             1,
             "#f0f921"
            ]
           ]
          },
          "colorway": [
           "#636efa",
           "#EF553B",
           "#00cc96",
           "#ab63fa",
           "#FFA15A",
           "#19d3f3",
           "#FF6692",
           "#B6E880",
           "#FF97FF",
           "#FECB52"
          ],
          "font": {
           "color": "#2a3f5f"
          },
          "geo": {
           "bgcolor": "white",
           "lakecolor": "white",
           "landcolor": "#E5ECF6",
           "showlakes": true,
           "showland": true,
           "subunitcolor": "white"
          },
          "hoverlabel": {
           "align": "left"
          },
          "hovermode": "closest",
          "mapbox": {
           "style": "light"
          },
          "paper_bgcolor": "white",
          "plot_bgcolor": "#E5ECF6",
          "polar": {
           "angularaxis": {
            "gridcolor": "white",
            "linecolor": "white",
            "ticks": ""
           },
           "bgcolor": "#E5ECF6",
           "radialaxis": {
            "gridcolor": "white",
            "linecolor": "white",
            "ticks": ""
           }
          },
          "scene": {
           "xaxis": {
            "backgroundcolor": "#E5ECF6",
            "gridcolor": "white",
            "gridwidth": 2,
            "linecolor": "white",
            "showbackground": true,
            "ticks": "",
            "zerolinecolor": "white"
           },
           "yaxis": {
            "backgroundcolor": "#E5ECF6",
            "gridcolor": "white",
            "gridwidth": 2,
            "linecolor": "white",
            "showbackground": true,
            "ticks": "",
            "zerolinecolor": "white"
           },
           "zaxis": {
            "backgroundcolor": "#E5ECF6",
            "gridcolor": "white",
            "gridwidth": 2,
            "linecolor": "white",
            "showbackground": true,
            "ticks": "",
            "zerolinecolor": "white"
           }
          },
          "shapedefaults": {
           "line": {
            "color": "#2a3f5f"
           }
          },
          "ternary": {
           "aaxis": {
            "gridcolor": "white",
            "linecolor": "white",
            "ticks": ""
           },
           "baxis": {
            "gridcolor": "white",
            "linecolor": "white",
            "ticks": ""
           },
           "bgcolor": "#E5ECF6",
           "caxis": {
            "gridcolor": "white",
            "linecolor": "white",
            "ticks": ""
           }
          },
          "title": {
           "x": 0.05
          },
          "xaxis": {
           "automargin": true,
           "gridcolor": "white",
           "linecolor": "white",
           "ticks": "",
           "title": {
            "standoff": 15
           },
           "zerolinecolor": "white",
           "zerolinewidth": 2
          },
          "yaxis": {
           "automargin": true,
           "gridcolor": "white",
           "linecolor": "white",
           "ticks": "",
           "title": {
            "standoff": 15
           },
           "zerolinecolor": "white",
           "zerolinewidth": 2
          }
         }
        },
        "title": {
         "text": "Run Scores"
        },
        "xaxis": {
         "title": {
          "text": "Iteration"
         }
        },
        "yaxis": {
         "range": [
          0,
          1
         ],
         "title": {
          "text": "Score"
         }
        }
       }
      }
     },
     "metadata": {},
     "output_type": "display_data"
    }
   ],
   "source": [
    "r = OptRun(ors[-1].dir)\n",
    "r.plot_scores()"
   ]
  },
  {
   "cell_type": "code",
   "execution_count": 5,
   "id": "13c6dd37",
   "metadata": {},
   "outputs": [
    {
     "data": {
      "application/vnd.plotly.v1+json": {
       "config": {
        "plotlyServerURL": "https://plot.ly"
       },
       "data": [
        {
         "hovertemplate": "Parameter=nan<br>iter=%{x}<br>cal_val=%{y}<extra></extra>",
         "legendgroup": "nan",
         "line": {
          "color": "#636efa",
          "dash": "solid"
         },
         "marker": {
          "symbol": "circle"
         },
         "mode": "lines",
         "name": "nan",
         "showlegend": true,
         "type": "scattergl",
         "x": {
          "bdata": "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",
          "dtype": "f8"
         },
         "xaxis": "x",
         "y": [
          " np.float64(8.964950795435271))",
          null,
          " np.float64(1.231732699935733))",
          null,
          " np.float64(9.344225893822333))",
          null,
          " np.float64(2.0345125099481116))",
          null,
          " np.float64(0.12787025806256125))",
          null,
          " np.float64(-0.7970349385586157))",
          null,
          " np.float64(7.136764799390755))",
          null,
          " np.float64(4.769496437781427))",
          null,
          " np.float64(7.6734704322944065))",
          null,
          " np.float64(5.92546536662638))",
          null,
          " np.float64(8.227510273987887))",
          null,
          " np.float64(3.868943165781328))",
          null,
          " np.float64(3.3651573887787447))",
          null,
          " np.float64(-0.23539584236379696))",
          null,
          " np.float64(6.7919751690803185))",
          null,
          " np.float64(6.197178033985338))",
          null,
          " np.float64(4.951885661695746))",
          null,
          " np.float64(9.910539842416533))",
          null,
          " np.float64(-0.43869718471078034))",
          null,
          " np.float64(0.8095116281969599))",
          null,
          " np.float64(4.424923600812462))",
          null,
          " np.float64(2.7209778039800385))",
          null,
          " np.float64(1.7210876832843902))",
          null,
          " np.float64(5.310399415750705))",
          null,
          " np.float64(3.482874474359307))",
          null,
          " np.float64(8.0016316725675))",
          null,
          " np.float64(8.65107454926081))",
          null,
          " np.float64(6.37098896969712))",
          null,
          " np.float64(1.0989972694766759))",
          null,
          " np.float64(2.468591156030882))",
          null,
          " np.float64(1.4365802126847034))",
          null,
          " np.float64(4.955405333175049))",
          null,
          " np.float64(0.27733850337984123))",
          null,
          " np.float64(2.441891579580492))",
          null,
          " np.float64(1.7473281176230437))",
          null,
          " np.float64(9.166277428078235))",
          null,
          " np.float64(5.239165689536832))",
          null,
          " np.float64(4.896326899961913))",
          null,
          " np.float64(7.6734704322944065))",
          null,
          " np.float64(-0.6713552785465682))",
          null,
          " np.float64(-0.20160248212903475))",
          null,
          " np.float64(3.868943165781328))",
          null,
          " np.float64(6.380906314185336))",
          null,
          " np.float64(6.689226113058724))",
          null,
          " np.float64(4.260695368237335))",
          null,
          " np.float64(3.3139420653244764))",
          null,
          " np.float64(6.074566726501247))",
          null,
          " np.float64(3.123598824805795))",
          null,
          " np.float64(1.327530482244872))",
          null,
          " np.float64(4.80271495865867))",
          null,
          " np.float64(2.824530594212773))",
          null,
          " np.float64(-0.31508075650676926))",
          null,
          " np.float64(4.161677950344086))",
          null,
          " np.float64(2.9104359367917243))",
          null,
          " np.float64(1.813089816863021))",
          null,
          " np.float64(2.422900262080544))",
          null,
          " np.float64(3.6132039942766982))",
          null,
          " np.float64(0.04849613255698326))",
          null,
          " np.float64(1.1699344348662422))",
          null,
          " np.float64(6.850798450484116))",
          null,
          " np.float64(-0.3755959136150153))",
          null,
          " np.float64(3.9431211290205064))",
          null,
          " np.float64(0.8141298993695645))",
          null,
          " np.float64(5.623636182734506))",
          null,
          " np.float64(-0.34377614667496115))",
          null,
          " np.float64(9.166277428078235))",
          null,
          " np.float64(5.777006216727453))",
          null,
          " np.float64(1.2447449107712028))",
          null,
          " np.float64(7.6734704322944065))",
          null,
          " np.float64(6.028773412034663))",
          null,
          " np.float64(6.444661766040818))",
          null,
          " np.float64(0.48463668325896414))",
          null,
          " np.float64(6.380906314185336))",
          null,
          " np.float64(9.363050376824017))",
          null,
          " np.float64(5.470297429544284))",
          null,
          " np.float64(0.6513394727393016))",
          null,
          " np.float64(-0.3672944055023297))",
          null,
          " np.float64(-0.24197556828473044))",
          null,
          " np.float64(4.670070970909526))",
          null,
          " np.float64(5.354578806719463))",
          null,
          " np.float64(3.9398135687359357))",
          null,
          " np.float64(0.002897802615971834))",
          null,
          " np.float64(5.070991839872901))",
          null,
          " np.float64(3.5591180057274414))",
          null,
          " np.float64(-0.2922901385075649))",
          null,
          " np.float64(-0.8083342941376204))",
          null,
          " np.float64(0.2593092618719526))",
          null,
          " np.float64(0.30313990786872047))",
          null,
          " np.float64(3.335088953546002))",
          null,
          " np.float64(4.775612994107666))",
          null,
          " np.float64(3.0046207713405257))",
          null,
          " np.float64(6.4941354078703775))",
          null,
          " np.float64(2.890924878841286))",
          null,
          " np.float64(7.307913172835322))",
          null,
          " np.float64(1.5993466125490308))",
          null,
          " np.float64(1.3792037123377536))",
          null,
          " np.float64(3.115719497219441))",
          null,
          " np.float64(-0.8294341915564551))",
          null,
          " np.float64(5.721707231651747))",
          null,
          " np.float64(2.711426629804264))",
          null,
          " np.float64(-0.7148335224360585))",
          null,
          " np.float64(-0.7472798358103256))",
          null,
          " np.float64(9.74352997542511))",
          null,
          " np.float64(3.296233840844872))",
          null,
          " np.float64(5.097847185522365))",
          null,
          " np.float64(0.6513394727393016))",
          null,
          " np.float64(6.208755294588695))",
          null,
          " np.float64(3.123598824805795))",
          null,
          " np.float64(-0.4751091181881746))",
          null,
          " np.float64(5.354578806719463))",
          null,
          " np.float64(2.45634941318139))",
          null,
          " np.float64(7.035186274885167))",
          null,
          " np.float64(3.1804740915218854))",
          null,
          " np.float64(1.970660735422554))",
          null,
          " np.float64(0.48239642518347203))",
          null,
          " np.float64(-0.40637191504844683))",
          null,
          " np.float64(0.2593092618719526))",
          null,
          " np.float64(4.435304020412821))",
          null,
          " np.float64(3.261669882646918))",
          null,
          " np.float64(3.8293446264162476))",
          null,
          " np.float64(0.621194775910078))",
          null,
          " np.float64(3.492256718758801))",
          null,
          " np.float64(-0.5192206921438505))",
          null,
          " np.float64(2.082635179148591))",
          null,
          " np.float64(2.435714850771622))",
          null,
          " np.float64(4.666567833045861))",
          null,
          " np.float64(-0.1889293618455392))",
          null,
          " np.float64(1.0465329543033346))",
          null,
          " np.float64(4.6151674200927415))",
          null,
          " np.float64(5.92546536662638))",
          null,
          " np.float64(-0.5979317213178135))",
          null,
          " np.float64(0.33510323443925305))",
          null,
          " np.float64(-0.2214924200578059))",
          null,
          " np.float64(0.38993596188758506))",
          null,
          " np.float64(1.2079296664586185))",
          null,
          " np.float64(1.2412938569345036))",
          null,
          " np.float64(2.928523613750769))",
          null,
          " np.float64(3.123598824805795))",
          null,
          " np.float64(9.559467586657153))",
          null,
          " np.float64(6.574908359533099))",
          null,
          " np.float64(-0.7291957824648687))",
          null,
          " np.float64(0.7355890192261194))",
          null,
          " np.float64(3.1804740915218854))",
          null,
          " np.float64(9.614081966320981))",
          null,
          " np.float64(1.5455009987927402))",
          null,
          " np.float64(3.042311850174795))",
          null,
          " np.float64(-0.4465444807419585))",
          null,
          " np.float64(1.7366152273700939))",
          null,
          " np.float64(4.421325028570431))",
          null,
          " np.float64(1.8521417070226613))",
          null,
          " np.float64(4.506332944507901))",
          null,
          " np.float64(3.2812334078017846))",
          null,
          " np.float64(1.7392282052712678))",
          null,
          " np.float64(9.793828837179216))",
          null,
          " np.float64(4.375315240888361))",
          null,
          " np.float64(1.0543443277896412))",
          null,
          " np.float64(5.239165689536832))",
          null,
          " np.float64(1.2447449107712028))",
          null,
          " np.float64(3.2235687694294777))",
          null,
          " np.float64(0.49373825451220377))",
          null,
          " np.float64(1.8955899681404142))",
          null,
          " np.float64(0.06619744697083885))",
          null,
          " np.float64(9.74352997542511))",
          null,
          " np.float64(1.5458340325786164))",
          null,
          " np.float64(2.663259407458051))",
          null,
          " np.float64(1.6017858964218825))",
          null,
          " np.float64(-0.184434754871039))",
          null,
          " np.float64(3.166044560448581))",
          null,
          " np.float64(5.217194863232157))",
          null,
          " np.float64(0.4538679638986043))",
          null,
          " np.float64(0.11897517345873343))",
          null,
          " np.float64(0.04849613255698326))",
          null,
          " np.float64(0.6941232061489666))",
          null,
          " np.float64(0.8794434674627682))",
          null,
          " np.float64(-0.7946392997143361))",
          null,
          " np.float64(3.88867675388516))",
          null,
          " np.float64(3.1520572553138))",
          null,
          " np.float64(0.6171338469486796))",
          null,
          " np.float64(0.6586937073664854))",
          null,
          " np.float64(0.7624972975691553))",
          null,
          " np.float64(2.5956842387771077))",
          null,
          " np.float64(1.844547795329384))",
          null,
          " np.float64(0.04278431897748458))",
          null,
          " np.float64(-0.2778593225348889))",
          null,
          " np.float64(7.838526201221134))",
          null,
          " np.float64(1.9984739765797164))",
          null,
          " np.float64(-0.574096618433872))",
          null,
          " np.float64(2.6743925540873175))",
          null,
          " np.float64(-0.21857245245623513))",
          null,
          " np.float64(7.174166140396627))",
          null,
          " np.float64(1.8955899681404142))",
          null,
          " np.float64(3.5365957684988416))",
          null,
          " np.float64(9.74352997542511))",
          null,
          " np.float64(-0.8947402599462464))",
          null,
          " np.float64(3.9270529317111764))",
          null,
          " np.float64(7.161337743988165))",
          null,
          " np.float64(-0.48171658604267265))",
          null,
          " np.float64(2.706322384479267))",
          null,
          " np.float64(5.217194863232157))",
          null,
          " np.float64(1.1162975666594042))",
          null,
          " np.float64(3.9398135687359357))",
          null,
          " np.float64(0.6135287516853909))",
          null,
          " np.float64(7.640439465587396))",
          null,
          " np.float64(7.87068490965159))",
          null,
          " np.float64(-0.2517242461094087))",
          null,
          " np.float64(-0.3368823034879602))",
          null,
          " np.float64(2.673435892566313))",
          null,
          " np.float64(0.05404029921567144))",
          null,
          " np.float64(1.1275091695935742))",
          null,
          " np.float64(0.09834634790737429))",
          null,
          " np.float64(4.015924953813718))",
          null,
          " np.float64(2.867933966390871))",
          null,
          " np.float64(-0.23244993073661835))",
          null,
          " np.float64(0.595664640794483))",
          null,
          " np.float64(-0.8101198632531004))",
          null,
          " np.float64(1.3792037123377536))",
          null,
          " np.float64(0.6565477483806763))",
          null,
          " np.float64(-0.6381308940286257))",
          null,
          " np.float64(0.6862851686471592))",
          null,
          " np.float64(2.004912715357594))",
          null,
          " np.float64(1.8955899681404142))",
          null,
          " np.float64(-0.4352713630883871))",
          null,
          " np.float64(9.74352997542511))",
          null,
          " np.float64(9.556985612461007))",
          null,
          " np.float64(1.0240629645269097))",
          null,
          " np.float64(0.26910993508677095))",
          null,
          " np.float64(-0.9324940912785165))",
          null,
          " np.float64(8.780956377217532))",
          null,
          " np.float64(7.2164749042361755))",
          null,
          " np.float64(0.6069250970566618))",
          null,
          " np.float64(0.6342866343315854))",
          null,
          " np.float64(3.3622641007875615))",
          null,
          " np.float64(-0.620700087654865))",
          null,
          " np.float64(5.310399415750705))",
          null,
          " np.float64(-0.1335618156234153))",
          null,
          " np.float64(4.759189888664908))",
          null,
          " np.float64(0.29228266931200775))",
          null,
          " np.float64(-0.951389747086802))",
          null,
          " np.float64(0.026120380766861295))",
          null,
          " np.float64(-0.8897684610436789))",
          null,
          " np.float64(-0.37633583037287544))",
          null,
          " np.float64(3.1911570499326007))",
          null,
          " np.float64(-0.1445491161701309))",
          null,
          " np.float64(-0.3891618715433731))",
          null,
          " np.float64(1.5993466125490308))",
          null,
          " np.float64(0.5275471935941889))",
          null,
          " np.float64(0.1678563148573753))",
          null,
          " np.float64(5.134648377050934))",
          null,
          " np.float64(1.0241807014220186))",
          null,
          " np.float64(0.35337623651104355))",
          null,
          " np.float64(8.92221446811253))",
          null,
          " np.float64(0.3329306398796339))",
          null,
          " np.float64(0.2390215354806129))",
          null,
          " np.float64(0.800580314646151))",
          null,
          " np.float64(1.0240629645269097))",
          null,
          " np.float64(0.26910993508677095))",
          null,
          " np.float64(1.0155483936532912))",
          null,
          " np.float64(0.47473050949834317))",
          null,
          " np.float64(0.424088818024555))",
          null,
          " np.float64(0.6069250970566618))",
          null,
          " np.float64(3.9398135687359357))",
          null,
          " np.float64(1.3496205138704123))",
          null,
          " np.float64(0.1877304860943747))",
          null,
          " np.float64(0.3628182987748261))",
          null,
          " np.float64(0.44088943590933827))",
          null,
          " np.float64(-0.15706107379990364))",
          null,
          " np.float64(2.8749221212981135))",
          null,
          " np.float64(0.6171338469486796))",
          null,
          " np.float64(-0.36967666804145427))",
          null,
          " np.float64(-0.3233873081973213))",
          null,
          " np.float64(0.5975660298600647))",
          null,
          " np.float64(0.8983291347089462))",
          null,
          " np.float64(-0.1445491161701309))",
          null,
          " np.float64(0.38191494102213497))",
          null,
          " np.float64(5.176632871831651))",
          null,
          " np.float64(-0.3155832068774087))",
          null,
          " np.float64(0.1678563148573753))",
          null,
          " np.float64(-0.4968593163933921))",
          null,
          " np.float64(-0.025923031685068487))",
          null,
          " np.float64(2.987721301111675))",
          null,
          " np.float64(0.4579707293629225))",
          null,
          " np.float64(0.3329306398796339))",
          null,
          " np.float64(-0.5832192143352968))",
          null,
          " np.float64(0.18464179329860286))",
          null,
          " np.float64(1.7307758765391865))",
          null,
          " np.float64(9.33554933723991))",
          null,
          " np.float64(0.34532571477210183))",
          null,
          " np.float64(0.47473050949834317))",
          null,
          " np.float64(-0.6240789478928255))",
          null,
          " np.float64(0.6069250970566618))",
          null,
          " np.float64(-0.9239136971781647))",
          null,
          " np.float64(0.8468850271927364))",
          null,
          " np.float64(0.1877304860943747))",
          null,
          " np.float64(0.4164128449797051))",
          null,
          " np.float64(0.4164128449797051))",
          null,
          " np.float64(-0.016725707043947047))",
          null,
          " np.float64(-0.08983245533924933))",
          null,
          " np.float64(-0.3286367929450531))",
          null,
          " np.float64(9.51029031240514))",
          null,
          " np.float64(1.0094823351331343))",
          null,
          " np.float64(-0.10113603333462873))",
          null,
          " np.float64(0.11323518446378777))",
          null,
          " np.float64(-0.1445491161701309))",
          null,
          " np.float64(-0.2326110553429741))",
          null,
          " np.float64(0.16237871954263117))",
          null,
          " np.float64(0.23282958502893347))",
          null,
          " np.float64(0.15663668251493146))",
          null,
          " np.float64(-0.46216231915698636))",
          null,
          " np.float64(-0.23865456826788556))",
          null,
          " np.float64(0.19235022992978923))",
          null,
          " np.float64(0.14737662665345663))",
          null,
          " np.float64(0.3329306398796339))",
          null,
          " np.float64(0.2390215354806129))",
          null,
          " np.float64(0.14207793001547842))",
          null,
          " np.float64(1.0240629645269097))",
          null,
          " np.float64(0.26910993508677095))",
          null,
          " np.float64(0.34532571477210183))",
          null,
          " np.float64(0.2783039881737315))",
          null,
          " np.float64(0.1865876362142762))",
          null,
          " np.float64(0.13201328792199973))",
          null,
          " np.float64(-0.6390088987263853))",
          null,
          " np.float64(2.014633050958623))",
          null,
          " np.float64(0.03871085427775167))",
          null,
          " np.float64(1.4064558172448538))",
          null,
          " np.float64(-0.1335618156234153))",
          null,
          " np.float64(0.2732114034180233))",
          null,
          " np.float64(-0.05650929206050925))",
          null,
          " np.float64(-0.09755916363197414))",
          null,
          " np.float64(0.020262956651453834))",
          null,
          " np.float64(-0.26155353280352056))",
          null,
          " np.float64(0.12040125898669007))",
          null,
          " np.float64(-0.8020715710468718))",
          null,
          " np.float64(0.09409704240093131))",
          null,
          " np.float64(6.440152509011189))",
          null,
          " np.float64(0.8613970707379552))",
          null,
          " np.float64(0.29224829692264453))",
          null,
          " np.float64(0.8712088133943343))",
          null,
          " np.float64(0.2543960618009402))",
          null,
          " np.float64(0.325698667640129))",
          null,
          " np.float64(0.14828866624691361))",
          null,
          " np.float64(0.14737662665345663))",
          null,
          " np.float64(2.801386569689581))",
          null,
          " np.float64(0.14462911606929119))",
          null,
          " np.float64(0.21379771354385202))",
          null,
          " np.float64(1.0240629645269097))",
          null,
          " np.float64(8.151548827773269))",
          null,
          " np.float64(0.34532571477210183))",
          null,
          " np.float64(-0.5437099673583718))",
          null,
          " np.float64(3.9892752963545326))",
          null,
          " np.float64(-0.013115528639020546))",
          null,
          " np.float64(-0.13854983105380025))",
          null,
          " np.float64(0.08134389824393651))",
          null,
          " np.float64(0.20310014320729763))",
          null,
          " np.float64(0.13748459088642928))",
          null,
          " np.float64(-0.1335618156234153))",
          null,
          " np.float64(0.14304068053063101))",
          null,
          " np.float64(-0.05650929206050925))",
          null,
          " np.float64(2.778929018745403))",
          null,
          " np.float64(0.026120380766861295))",
          null,
          " np.float64(-0.26155353280352056))",
          null,
          " np.float64(0.26440037538450145))",
          null,
          " np.float64(0.15573906682702177))",
          null,
          " np.float64(-0.16973958157534774))",
          null,
          " np.float64(-0.11191904212097281))",
          null,
          " np.float64(0.5628039074259634))",
          null,
          " np.float64(0.17161129913026496))",
          null,
          " np.float64(0.09331152125533215))",
          null,
          " np.float64(-0.10328842777726166))",
          null,
          " np.float64(0.0361121133983664))",
          null,
          " np.float64(0.14828866624691361))",
          null,
          " np.float64(0.1675958004077973))",
          null,
          " np.float64(-0.16545374103902688))",
          null,
          " np.float64(0.0630805056832271))",
          null,
          " np.float64(0.1672892943501596))",
          null,
          " np.float64(0.22221546500019862))",
          null,
          " np.float64(0.012258560730391999))",
          null,
          " np.float64(0.1377064494506106))",
          null,
          " np.float64(0.14998781254376414))",
          null,
          " np.float64(0.056517708688295976))",
          null,
          " np.float64(0.06659912854154815))",
          null,
          " np.float64(-0.14251420145584515))",
          null,
          " np.float64(0.022247229861083184))",
          null,
          " np.float64(0.1220969440587325))",
          null,
          " np.float64(0.08653523386928974))",
          null,
          " np.float64(0.14480283402287153))",
          null,
          " np.float64(0.004378123185730942))",
          null,
          " np.float64(0.08471972445593945))",
          null,
          " np.float64(0.1451009067794482))",
          null,
          " np.float64(0.07499699841247853))",
          null,
          " np.float64(-0.26155353280352056))",
          null,
          " np.float64(0.2726990117757895))",
          null,
          " np.float64(0.08458470500597581))",
          null,
          " np.float64(0.11658632554393478))",
          null,
          " np.float64(0.017651730777568098))",
          null,
          " np.float64(0.16237871954263117))",
          null,
          " np.float64(0.02905392719254163))",
          null,
          " np.float64(0.10729965797855723))",
          null,
          " np.float64(0.03247098384492464))",
          null,
          " np.float64(0.12623446504911318))",
          null,
          " np.float64(-0.027865628343234583))",
          null,
          " np.float64(0.14737662665345663))",
          null,
          " np.float64(0.10875299166751873))",
          null,
          " np.float64(0.022474672915587135))",
          null,
          " np.float64(0.1192809510888484))",
          null,
          " np.float64(-0.03461767247257974))",
          null,
          " np.float64(0.03476636541176248))",
          null,
          " np.float64(0.003390835354040611))",
          null,
          " np.float64(0.14998781254376414))",
          null,
          " np.float64(0.09374282600345474))",
          null,
          " np.float64(-0.0070699619902097055))",
          null,
          " np.float64(-0.04366641325318721))",
          null,
          " np.float64(-0.25184553253842523))",
          null,
          " np.float64(-0.0501888779239934))",
          null,
          " np.float64(0.005218178746121183))",
          null,
          " np.float64(-0.058675602213435596))",
          null,
          " np.float64(0.06683247020845062))",
          null,
          " np.float64(-0.024695954632058204))",
          null,
          " np.float64(0.011278793414844834))",
          null,
          " np.float64(0.07499699841247853))",
          null,
          " np.float64(0.032976002699951934))",
          null,
          " np.float64(-0.1810030014799482))",
          null,
          " np.float64(0.15837191800209105))",
          null,
          " np.float64(-0.08685303916698484))",
          null,
          " np.float64(-0.021446849194600937))",
          null,
          " np.float64(-0.018119189183398277))",
          null,
          " np.float64(0.2517419796123974))",
          null,
          " np.float64(-0.08350141906153485))",
          null,
          " np.float64(-0.025971398838466442))",
          null,
          " np.float64(0.12623446504911318))",
          null,
          " np.float64(-0.03453034178294878))",
          null,
          " np.float64(-0.08239492590295683))",
          null,
          " np.float64(0.10875299166751873))",
          null,
          " np.float64(-0.16198630334106578))",
          null,
          " np.float64(0.02436228600319268))",
          null,
          " np.float64(0.049976897670205744))",
          null,
          " np.float64(-0.05796418983695695))",
          null,
          " np.float64(0.1377064494506106))",
          null,
          " np.float64(-0.11786552389230298))",
          null,
          " np.float64(0.06348432204425869))",
          null,
          " np.float64(0.1348816633724077))",
          null,
          " np.float64(0.18832123068891526))",
          null,
          " np.float64(0.07589150781151943))",
          null,
          " np.float64(0.11300064891347805))",
          null,
          " np.float64(0.1383168519953415))",
          null,
          " np.float64(-0.0757417818640862))",
          null,
          " np.float64(-0.014997953761364258))",
          null,
          " np.float64(0.08471972445593945))",
          null,
          " np.float64(0.12111997881889103))",
          null,
          " np.float64(0.1406031478415546))",
          null,
          " np.float64(-0.013757260206960886))",
          null,
          " np.float64(0.011278793414844834))",
          null,
          " np.float64(0.011278793414844834))",
          null,
          " np.float64(0.011278803414844834))",
          null,
          " np.float64(-0.99))",
          " np.float64(-0.99))",
          null,
          " np.float64(-0.9899999899999999))",
          null,
          " np.float64(-0.32241455443902206))",
          null,
          " np.float64(-0.32241455443902206))",
          null,
          " np.float64(-0.32241454443902207))",
          null,
          " np.float64(-0.08962566474993816))",
          null,
          " np.float64(-0.08962566474993816))",
          null,
          " np.float64(-0.08962565474993817))",
          null,
          " np.float64(-0.04649522971613065))",
          null,
          " np.float64(-0.04649522971613065))",
          null,
          " np.float64(-0.046495219716130645))",
          null,
          " np.float64(-0.019851446275469798))",
          null,
          " np.float64(-0.019851446275469798))",
          null,
          " np.float64(-0.019851436275469796))",
          null,
          " np.float64(0.008518561320773969))",
          null,
          " np.float64(0.008518561320773969))",
          null,
          " np.float64(0.008518571320773969))",
          null,
          " np.float64(0.010131848742081988))",
          null,
          " np.float64(0.010131848742081988))",
          null,
          " np.float64(0.010131858742081988))",
          null,
          " np.float64(0.010695976499690167))",
          null,
          " np.float64(0.010695976499690167))",
          null,
          " np.float64(0.010695986499690167))",
          null,
          " np.float64(0.011198235829372218))",
          null,
          " np.float64(0.011198235829372218))",
          null,
          " np.float64(0.011198245829372218))",
          null,
          " np.float64(0.011232920856231099))",
          null,
          " np.float64(0.011232920856231099))",
          null,
          " np.float64(0.011232930856231099))",
          null,
          " np.float64(0.011272981627717569))",
          null,
          " np.float64(0.011272981627717569))",
          null,
          " np.float64(0.011272991627717568))",
          null,
          " np.float64(0.011276606536597818))",
          null,
          " np.float64(0.011276606536597818))",
          null,
          " np.float64(0.011276616536597818))",
          null,
          " np.float64(0.011277553148220572))",
          null,
          " np.float64(0.011277553148220572))",
          null,
          " np.float64(0.011277563148220572))",
          null,
          " np.float64(0.011278468968842765))",
          null,
          " np.float64(0.011278468968842765))",
          null,
          " np.float64(0.011278478968842764))",
          null,
          " np.float64(0.011278609459148957))",
          null,
          " np.float64(0.011278609459148957))",
          null,
          " np.float64(0.011278619459148957))",
          null,
          " np.float64(0.011278692353768412))",
          null,
          " np.float64(0.011278692353768412))",
          null,
          " np.float64(0.011278702353768412))",
          null,
          " np.float64(0.011278764193032547))",
          null,
          " np.float64(0.011278764193032547))",
          null,
          " np.float64(0.011278774193032547))",
          null,
          " np.float64(0.011278790443929005))",
          null,
          " np.float64(0.011278790443929005))",
          null,
          " np.float64(0.011278800443929005))",
          null,
          " np.float64(0.011278792011200538))",
          null,
          " np.float64(0.011278792011200538))",
          null,
          " np.float64(0.011278802011200538))",
          null,
          " np.float64(0.011278791420308357))",
          null,
          " np.float64(0.011278791420308357))",
          null,
          " np.float64(0.011278801420308357))",
          null
         ],
         "yaxis": "y"
        }
       ],
       "layout": {
        "legend": {
         "title": {
          "text": "Parameter"
         },
         "tracegroupgap": 0
        },
        "template": {
         "data": {
          "bar": [
           {
            "error_x": {
             "color": "#2a3f5f"
            },
            "error_y": {
             "color": "#2a3f5f"
            },
            "marker": {
             "line": {
              "color": "#E5ECF6",
              "width": 0.5
             },
             "pattern": {
              "fillmode": "overlay",
              "size": 10,
              "solidity": 0.2
             }
            },
            "type": "bar"
           }
          ],
          "barpolar": [
           {
            "marker": {
             "line": {
              "color": "#E5ECF6",
              "width": 0.5
             },
             "pattern": {
              "fillmode": "overlay",
              "size": 10,
              "solidity": 0.2
             }
            },
            "type": "barpolar"
           }
          ],
          "carpet": [
           {
            "aaxis": {
             "endlinecolor": "#2a3f5f",
             "gridcolor": "white",
             "linecolor": "white",
             "minorgridcolor": "white",
             "startlinecolor": "#2a3f5f"
            },
            "baxis": {
             "endlinecolor": "#2a3f5f",
             "gridcolor": "white",
             "linecolor": "white",
             "minorgridcolor": "white",
             "startlinecolor": "#2a3f5f"
            },
            "type": "carpet"
           }
          ],
          "choropleth": [
           {
            "colorbar": {
             "outlinewidth": 0,
             "ticks": ""
            },
            "type": "choropleth"
           }
          ],
          "contour": [
           {
            "colorbar": {
             "outlinewidth": 0,
             "ticks": ""
            },
            "colorscale": [
             [
              0,
              "#0d0887"
             ],
             [
              0.1111111111111111,
              "#46039f"
             ],
             [
              0.2222222222222222,
              "#7201a8"
             ],
             [
              0.3333333333333333,
              "#9c179e"
             ],
             [
              0.4444444444444444,
              "#bd3786"
             ],
             [
              0.5555555555555556,
              "#d8576b"
             ],
             [
              0.6666666666666666,
              "#ed7953"
             ],
             [
              0.7777777777777778,
              "#fb9f3a"
             ],
             [
              0.8888888888888888,
              "#fdca26"
             ],
             [
              1,
              "#f0f921"
             ]
            ],
            "type": "contour"
           }
          ],
          "contourcarpet": [
           {
            "colorbar": {
             "outlinewidth": 0,
             "ticks": ""
            },
            "type": "contourcarpet"
           }
          ],
          "heatmap": [
           {
            "colorbar": {
             "outlinewidth": 0,
             "ticks": ""
            },
            "colorscale": [
             [
              0,
              "#0d0887"
             ],
             [
              0.1111111111111111,
              "#46039f"
             ],
             [
              0.2222222222222222,
              "#7201a8"
             ],
             [
              0.3333333333333333,
              "#9c179e"
             ],
             [
              0.4444444444444444,
              "#bd3786"
             ],
             [
              0.5555555555555556,
              "#d8576b"
             ],
             [
              0.6666666666666666,
              "#ed7953"
             ],
             [
              0.7777777777777778,
              "#fb9f3a"
             ],
             [
              0.8888888888888888,
              "#fdca26"
             ],
             [
              1,
              "#f0f921"
             ]
            ],
            "type": "heatmap"
           }
          ],
          "histogram": [
           {
            "marker": {
             "pattern": {
              "fillmode": "overlay",
              "size": 10,
              "solidity": 0.2
             }
            },
            "type": "histogram"
           }
          ],
          "histogram2d": [
           {
            "colorbar": {
             "outlinewidth": 0,
             "ticks": ""
            },
            "colorscale": [
             [
              0,
              "#0d0887"
             ],
             [
              0.1111111111111111,
              "#46039f"
             ],
             [
              0.2222222222222222,
              "#7201a8"
             ],
             [
              0.3333333333333333,
              "#9c179e"
             ],
             [
              0.4444444444444444,
              "#bd3786"
             ],
             [
              0.5555555555555556,
              "#d8576b"
             ],
             [
              0.6666666666666666,
              "#ed7953"
             ],
             [
              0.7777777777777778,
              "#fb9f3a"
             ],
             [
              0.8888888888888888,
              "#fdca26"
             ],
             [
              1,
              "#f0f921"
             ]
            ],
            "type": "histogram2d"
           }
          ],
          "histogram2dcontour": [
           {
            "colorbar": {
             "outlinewidth": 0,
             "ticks": ""
            },
            "colorscale": [
             [
              0,
              "#0d0887"
             ],
             [
              0.1111111111111111,
              "#46039f"
             ],
             [
              0.2222222222222222,
              "#7201a8"
             ],
             [
              0.3333333333333333,
              "#9c179e"
             ],
             [
              0.4444444444444444,
              "#bd3786"
             ],
             [
              0.5555555555555556,
              "#d8576b"
             ],
             [
              0.6666666666666666,
              "#ed7953"
             ],
             [
              0.7777777777777778,
              "#fb9f3a"
             ],
             [
              0.8888888888888888,
              "#fdca26"
             ],
             [
              1,
              "#f0f921"
             ]
            ],
            "type": "histogram2dcontour"
           }
          ],
          "mesh3d": [
           {
            "colorbar": {
             "outlinewidth": 0,
             "ticks": ""
            },
            "type": "mesh3d"
           }
          ],
          "parcoords": [
           {
            "line": {
             "colorbar": {
              "outlinewidth": 0,
              "ticks": ""
             }
            },
            "type": "parcoords"
           }
          ],
          "pie": [
           {
            "automargin": true,
            "type": "pie"
           }
          ],
          "scatter": [
           {
            "fillpattern": {
             "fillmode": "overlay",
             "size": 10,
             "solidity": 0.2
            },
            "type": "scatter"
           }
          ],
          "scatter3d": [
           {
            "line": {
             "colorbar": {
              "outlinewidth": 0,
              "ticks": ""
             }
            },
            "marker": {
             "colorbar": {
              "outlinewidth": 0,
              "ticks": ""
             }
            },
            "type": "scatter3d"
           }
          ],
          "scattercarpet": [
           {
            "marker": {
             "colorbar": {
              "outlinewidth": 0,
              "ticks": ""
             }
            },
            "type": "scattercarpet"
           }
          ],
          "scattergeo": [
           {
            "marker": {
             "colorbar": {
              "outlinewidth": 0,
              "ticks": ""
             }
            },
            "type": "scattergeo"
           }
          ],
          "scattergl": [
           {
            "marker": {
             "colorbar": {
              "outlinewidth": 0,
              "ticks": ""
             }
            },
            "type": "scattergl"
           }
          ],
          "scattermap": [
           {
            "marker": {
             "colorbar": {
              "outlinewidth": 0,
              "ticks": ""
             }
            },
            "type": "scattermap"
           }
          ],
          "scattermapbox": [
           {
            "marker": {
             "colorbar": {
              "outlinewidth": 0,
              "ticks": ""
             }
            },
            "type": "scattermapbox"
           }
          ],
          "scatterpolar": [
           {
            "marker": {
             "colorbar": {
              "outlinewidth": 0,
              "ticks": ""
             }
            },
            "type": "scatterpolar"
           }
          ],
          "scatterpolargl": [
           {
            "marker": {
             "colorbar": {
              "outlinewidth": 0,
              "ticks": ""
             }
            },
            "type": "scatterpolargl"
           }
          ],
          "scatterternary": [
           {
            "marker": {
             "colorbar": {
              "outlinewidth": 0,
              "ticks": ""
             }
            },
            "type": "scatterternary"
           }
          ],
          "surface": [
           {
            "colorbar": {
             "outlinewidth": 0,
             "ticks": ""
            },
            "colorscale": [
             [
              0,
              "#0d0887"
             ],
             [
              0.1111111111111111,
              "#46039f"
             ],
             [
              0.2222222222222222,
              "#7201a8"
             ],
             [
              0.3333333333333333,
              "#9c179e"
             ],
             [
              0.4444444444444444,
              "#bd3786"
             ],
             [
              0.5555555555555556,
              "#d8576b"
             ],
             [
              0.6666666666666666,
              "#ed7953"
             ],
             [
              0.7777777777777778,
              "#fb9f3a"
             ],
             [
              0.8888888888888888,
              "#fdca26"
             ],
             [
              1,
              "#f0f921"
             ]
            ],
            "type": "surface"
           }
          ],
          "table": [
           {
            "cells": {
             "fill": {
              "color": "#EBF0F8"
             },
             "line": {
              "color": "white"
             }
            },
            "header": {
             "fill": {
              "color": "#C8D4E3"
             },
             "line": {
              "color": "white"
             }
            },
            "type": "table"
           }
          ]
         },
         "layout": {
          "annotationdefaults": {
           "arrowcolor": "#2a3f5f",
           "arrowhead": 0,
           "arrowwidth": 1
          },
          "autotypenumbers": "strict",
          "coloraxis": {
           "colorbar": {
            "outlinewidth": 0,
            "ticks": ""
           }
          },
          "colorscale": {
           "diverging": [
            [
             0,
             "#8e0152"
            ],
            [
             0.1,
             "#c51b7d"
            ],
            [
             0.2,
             "#de77ae"
            ],
            [
             0.3,
             "#f1b6da"
            ],
            [
             0.4,
             "#fde0ef"
            ],
            [
             0.5,
             "#f7f7f7"
            ],
            [
             0.6,
             "#e6f5d0"
            ],
            [
             0.7,
             "#b8e186"
            ],
            [
             0.8,
             "#7fbc41"
            ],
            [
             0.9,
             "#4d9221"
            ],
            [
             1,
             "#276419"
            ]
           ],
           "sequential": [
            [
             0,
             "#0d0887"
            ],
            [
             0.1111111111111111,
             "#46039f"
            ],
            [
             0.2222222222222222,
             "#7201a8"
            ],
            [
             0.3333333333333333,
             "#9c179e"
            ],
            [
             0.4444444444444444,
             "#bd3786"
            ],
            [
             0.5555555555555556,
             "#d8576b"
            ],
            [
             0.6666666666666666,
             "#ed7953"
            ],
            [
             0.7777777777777778,
             "#fb9f3a"
            ],
            [
             0.8888888888888888,
             "#fdca26"
            ],
            [
             1,
             "#f0f921"
            ]
           ],
           "sequentialminus": [
            [
             0,
             "#0d0887"
            ],
            [
             0.1111111111111111,
             "#46039f"
            ],
            [
             0.2222222222222222,
             "#7201a8"
            ],
            [
             0.3333333333333333,
             "#9c179e"
            ],
            [
             0.4444444444444444,
             "#bd3786"
            ],
            [
             0.5555555555555556,
             "#d8576b"
            ],
            [
             0.6666666666666666,
             "#ed7953"
            ],
            [
             0.7777777777777778,
             "#fb9f3a"
            ],
            [
             0.8888888888888888,
             "#fdca26"
            ],
            [
             1,
             "#f0f921"
            ]
           ]
          },
          "colorway": [
           "#636efa",
           "#EF553B",
           "#00cc96",
           "#ab63fa",
           "#FFA15A",
           "#19d3f3",
           "#FF6692",
           "#B6E880",
           "#FF97FF",
           "#FECB52"
          ],
          "font": {
           "color": "#2a3f5f"
          },
          "geo": {
           "bgcolor": "white",
           "lakecolor": "white",
           "landcolor": "#E5ECF6",
           "showlakes": true,
           "showland": true,
           "subunitcolor": "white"
          },
          "hoverlabel": {
           "align": "left"
          },
          "hovermode": "closest",
          "mapbox": {
           "style": "light"
          },
          "paper_bgcolor": "white",
          "plot_bgcolor": "#E5ECF6",
          "polar": {
           "angularaxis": {
            "gridcolor": "white",
            "linecolor": "white",
            "ticks": ""
           },
           "bgcolor": "#E5ECF6",
           "radialaxis": {
            "gridcolor": "white",
            "linecolor": "white",
            "ticks": ""
           }
          },
          "scene": {
           "xaxis": {
            "backgroundcolor": "#E5ECF6",
            "gridcolor": "white",
            "gridwidth": 2,
            "linecolor": "white",
            "showbackground": true,
            "ticks": "",
            "zerolinecolor": "white"
           },
           "yaxis": {
            "backgroundcolor": "#E5ECF6",
            "gridcolor": "white",
            "gridwidth": 2,
            "linecolor": "white",
            "showbackground": true,
            "ticks": "",
            "zerolinecolor": "white"
           },
           "zaxis": {
            "backgroundcolor": "#E5ECF6",
            "gridcolor": "white",
            "gridwidth": 2,
            "linecolor": "white",
            "showbackground": true,
            "ticks": "",
            "zerolinecolor": "white"
           }
          },
          "shapedefaults": {
           "line": {
            "color": "#2a3f5f"
           }
          },
          "ternary": {
           "aaxis": {
            "gridcolor": "white",
            "linecolor": "white",
            "ticks": ""
           },
           "baxis": {
            "gridcolor": "white",
            "linecolor": "white",
            "ticks": ""
           },
           "bgcolor": "#E5ECF6",
           "caxis": {
            "gridcolor": "white",
            "linecolor": "white",
            "ticks": ""
           }
          },
          "title": {
           "x": 0.05
          },
          "xaxis": {
           "automargin": true,
           "gridcolor": "white",
           "linecolor": "white",
           "ticks": "",
           "title": {
            "standoff": 15
           },
           "zerolinecolor": "white",
           "zerolinewidth": 2
          },
          "yaxis": {
           "automargin": true,
           "gridcolor": "white",
           "linecolor": "white",
           "ticks": "",
           "title": {
            "standoff": 15
           },
           "zerolinecolor": "white",
           "zerolinewidth": 2
          }
         }
        },
        "title": {
         "text": "Parameter Physical Values Over Time"
        },
        "xaxis": {
         "anchor": "y",
         "domain": [
          0,
          1
         ],
         "title": {
          "text": "iter"
         }
        },
        "yaxis": {
         "anchor": "x",
         "domain": [
          0,
          1
         ],
         "title": {
          "text": "cal_val"
         }
        }
       }
      }
     },
     "metadata": {},
     "output_type": "display_data"
    }
   ],
   "source": [
    "r.plot_param_changes()"
   ]
  },
  {
   "cell_type": "code",
   "execution_count": 6,
   "id": "2f62f819",
   "metadata": {},
   "outputs": [
    {
     "name": "stderr",
     "output_type": "stream",
     "text": [
      "c:\\Users\\everett\\Documents\\GitHub\\optswmm\\optswmm\\utils\\runutils.py:320: UserWarning:\n",
      "\n",
      "Iteration 1000 not found, using nearest available iteration 512.\n",
      "\n"
     ]
    },
    {
     "data": {
      "text/plain": [
       "<matplotlib.legend.Legend at 0x24bf6fffb90>"
      ]
     },
     "execution_count": 6,
     "metadata": {},
     "output_type": "execute_result"
    },
    {
     "data": {
      "image/png": "[encoded data removed]",
      "text/plain": [
       "<Figure size 640x480 with 1 Axes>"
      ]
     },
     "metadata": {},
     "output_type": "display_data"
    }
   ],
   "source": [
    "from matplotlib import pyplot as plt\n",
    "\n",
    "sim, obs = r.get_timeseries(ii=1000)\n",
    "\n",
    "plt.plot(sim.index, sim.values[:, 8], label='Simulated')\n",
    "plt.plot(obs.index, obs.values[:, 8], label='Observed')\n",
    "plt.legend()"
   ]
  }
 ],
 "metadata": {
  "kernelspec": {
   "display_name": ".venv",
   "language": "python",
   "name": "python3"
  },
  "language_info": {
   "codemirror_mode": {
    "name": "ipython",
    "version": 3
   },
   "file_extension": ".py",
   "mimetype": "text/x-python",
   "name": "python",
   "nbconvert_exporter": "python",
   "pygments_lexer": "ipython3",
   "version": "3.11.9"
  }
 },
 "nbformat": 4,
 "nbformat_minor": 5
}
