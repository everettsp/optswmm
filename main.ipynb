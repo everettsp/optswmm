{
 "cells": [
  {
   "cell_type": "code",
   "execution_count": null,
   "metadata": {},
   "outputs": [],
   "source": [
    "import sys\n",
    "import xarray as xr\n",
    "sys.path.append(r'C:\\Users\\everett\\Documents\\GitHub\\camus_to')\n",
    "\n",
    "\n",
    "data_file = r\"C:\\Users\\everett\\Documents\\GitHub\\camus_to\\data\\clean\\camus_to.nc\"\n",
    "\n",
    "station_id = \"HY006\""
   ]
  },
  {
   "cell_type": "code",
   "execution_count": null,
   "metadata": {},
   "outputs": [],
   "source": []
  },
  {
   "cell_type": "code",
   "execution_count": 32,
   "metadata": {},
   "outputs": [],
   "source": [
    "from pyswmm import Simulation, Nodes\n",
    "nodes = [\"node1\",\"node2\"]\n",
    "res = {node:[] for node in nodes}\n",
    "dti = []\n",
    "\n",
    "PARAM_MAPPING = {\"discharge\":\"total_inflow\",\"stage\":\"depth\"}\n",
    "\n",
    "model_file = r\"models/HY006/HY006.inp\"\n",
    "with Simulation(model_file) as sim:\n",
    "    for step in sim:\n",
    "        dti.append(sim.current_time)\n",
    "        for node in nodes:\n",
    "            res[node].append(getattr(Nodes(sim)[node],PARAM_MAPPING[\"discharge\"]))\n",
    "\n"
   ]
  },
  {
   "cell_type": "code",
   "execution_count": 36,
   "metadata": {},
   "outputs": [
    {
     "data": {
      "text/plain": [
       "<Axes: >"
      ]
     },
     "execution_count": 36,
     "metadata": {},
     "output_type": "execute_result"
    },
    {
     "data": {
      "image/png": "[encoded data removed]",
      "text/plain": [
       "<Figure size 640x480 with 1 Axes>"
      ]
     },
     "metadata": {},
     "output_type": "display_data"
    }
   ],
   "source": [
    "df = pd.DataFrame(index=dti, data=res)\n",
    "df.plot()"
   ]
  },
  {
   "cell_type": "code",
   "execution_count": 23,
   "metadata": {},
   "outputs": [
    {
     "data": {
      "text/plain": [
       "['node0',\n",
       " 'node1',\n",
       " 'node2',\n",
       " 'node3',\n",
       " 'node4',\n",
       " 'node5',\n",
       " 'node6',\n",
       " 'node7',\n",
       " 'node8',\n",
       " 'node9',\n",
       " 'node10',\n",
       " 'node11',\n",
       " 'node12',\n",
       " 'node13',\n",
       " 'node14',\n",
       " 'node15',\n",
       " 'node16',\n",
       " 'node17',\n",
       " 'node18',\n",
       " 'node19',\n",
       " 'node20',\n",
       " 'node21',\n",
       " 'node22',\n",
       " 'node23',\n",
       " 'node24',\n",
       " 'node25',\n",
       " 'node26',\n",
       " 'node27',\n",
       " 'node28',\n",
       " 'node29',\n",
       " 'node30',\n",
       " 'node31',\n",
       " 'node32',\n",
       " 'node33',\n",
       " 'node34',\n",
       " 'node35',\n",
       " 'node36',\n",
       " 'node37',\n",
       " 'node38',\n",
       " 'node39',\n",
       " 'node40',\n",
       " 'node41',\n",
       " 'node42',\n",
       " 'node43',\n",
       " 'node44',\n",
       " 'node45',\n",
       " 'node46',\n",
       " 'node47',\n",
       " 'node48',\n",
       " 'node49',\n",
       " 'node50',\n",
       " 'node51',\n",
       " 'node52',\n",
       " 'node53',\n",
       " 'node54',\n",
       " 'node55',\n",
       " 'node56',\n",
       " 'node57',\n",
       " 'node58',\n",
       " 'node59',\n",
       " 'node60',\n",
       " 'node61',\n",
       " 'node62',\n",
       " 'node63',\n",
       " 'node64',\n",
       " 'node65',\n",
       " 'node66',\n",
       " 'node67',\n",
       " 'node68',\n",
       " 'node69',\n",
       " 'node70',\n",
       " 'node71',\n",
       " 'node72',\n",
       " 'node73',\n",
       " 'node74',\n",
       " 'node75',\n",
       " 'node76',\n",
       " 'node77',\n",
       " 'node78',\n",
       " 'node79',\n",
       " 'node80',\n",
       " 'node81',\n",
       " 'node82',\n",
       " 'node83',\n",
       " 'node84',\n",
       " 'node85',\n",
       " 'node86',\n",
       " 'node87',\n",
       " 'node88',\n",
       " 'node89',\n",
       " 'node90',\n",
       " 'node91',\n",
       " 'node92',\n",
       " 'node93',\n",
       " 'node94',\n",
       " 'node95',\n",
       " 'node96',\n",
       " 'node97',\n",
       " 'node98',\n",
       " 'node99',\n",
       " 'node100',\n",
       " 'node101',\n",
       " 'node102',\n",
       " 'node103',\n",
       " 'node104',\n",
       " 'node105',\n",
       " 'node106',\n",
       " 'node107',\n",
       " 'node108',\n",
       " 'node109',\n",
       " 'node110',\n",
       " 'node111',\n",
       " 'node112']"
      ]
     },
     "execution_count": 23,
     "metadata": {},
     "output_type": "execute_result"
    }
   ],
   "source": [
    "from swmmio import Model\n",
    "\n",
    "Model(model_file).nodes().index.tolist()"
   ]
  },
  {
   "cell_type": "code",
   "execution_count": 18,
   "metadata": {},
   "outputs": [
    {
     "data": {
      "text/plain": [
       "'01/01/2012'"
      ]
     },
     "execution_count": 18,
     "metadata": {},
     "output_type": "execute_result"
    }
   ],
   "source": [
    "from swmmio import Model\n",
    "mdl = Model(\"models/HY006/HY006.inp\")\n",
    "\n",
    "from utils.swmmutils import \n",
    "mdl.inp.options.loc[\"START_DATE\"].Value"
   ]
  },
  {
   "cell_type": "code",
   "execution_count": 19,
   "metadata": {},
   "outputs": [
    {
     "data": {
      "text/plain": [
       "['HY006']"
      ]
     },
     "execution_count": 19,
     "metadata": {},
     "output_type": "execute_result"
    }
   ],
   "source": [
    "import pandas as pd\n",
    "tgt = pd.read_pickle(\"models/HY006/targets.pkl\")\n",
    "tgt_stations = tgt.columns.get_level_values('station').unique().to_list()\n",
    "tgt_stations\n",
    "\n",
    "\n",
    "def _validate_target_data(tgt:pd.DataFrame, model:Model) -> bool:\n",
    "    model_nodes = model.nodes().index.tolist()\n",
    "    tgt_stations = tgt.columns.get_level_values('station').unique().to_list()\n",
    "    \n",
    "    missing_stations = [station for station in tgt_stations if station not in model_nodes]\n",
    "    if missing_stations:\n",
    "        raise ValueError(f\"Missing stations in model: {missing_stations}\")\n",
    "\n",
    "    tgt_start_date, tgt_end_date = tgt.index.min(), tgt.index.max()\n",
    "    mdl_start_date, mdl_end_date = model.start_date, model.end_date\n",
    "\n",
    "\n"
   ]
  },
  {
   "cell_type": "code",
   "execution_count": 70,
   "metadata": {},
   "outputs": [
    {
     "data": {
      "text/plain": [
       "[<matplotlib.lines.Line2D at 0x2ab98ddb910>]"
      ]
     },
     "execution_count": 70,
     "metadata": {},
     "output_type": "execute_result"
    },
    {
     "data": {
      "image/png": "[encoded data removed]",
      "text/plain": [
       "<Figure size 640x480 with 1 Axes>"
      ]
     },
     "metadata": {},
     "output_type": "display_data"
    }
   ],
   "source": [
    "plt.plot(df.isna())\n",
    "plt.plot(df[\"precipitation\"])"
   ]
  },
  {
   "cell_type": "code",
   "execution_count": 56,
   "metadata": {},
   "outputs": [
    {
     "data": {
      "text/html": [
       "<div>\n",
       "<style scoped>\n",
       "    .dataframe tbody tr th:only-of-type {\n",
       "        vertical-align: middle;\n",
       "    }\n",
       "\n",
       "    .dataframe tbody tr th {\n",
       "        vertical-align: top;\n",
       "    }\n",
       "\n",
       "    .dataframe thead tr th {\n",
       "        text-align: left;\n",
       "    }\n",
       "\n",
       "    .dataframe thead tr:last-of-type th {\n",
       "        text-align: right;\n",
       "    }\n",
       "</style>\n",
       "<table border=\"1\" class=\"dataframe\">\n",
       "  <thead>\n",
       "    <tr>\n",
       "      <th></th>\n",
       "      <th>stage</th>\n",
       "      <th>discharge</th>\n",
       "      <th>temperature</th>\n",
       "      <th>precipitation</th>\n",
       "    </tr>\n",
       "    <tr>\n",
       "      <th>station</th>\n",
       "      <th>HY006</th>\n",
       "      <th>HY006</th>\n",
       "      <th>HY006</th>\n",
       "      <th>HY006</th>\n",
       "    </tr>\n",
       "    <tr>\n",
       "      <th>time</th>\n",
       "      <th></th>\n",
       "      <th></th>\n",
       "      <th></th>\n",
       "      <th></th>\n",
       "    </tr>\n",
       "  </thead>\n",
       "  <tbody>\n",
       "    <tr>\n",
       "      <th>2015-01-01 00:15:00</th>\n",
       "      <td>0.252772</td>\n",
       "      <td>0.010861</td>\n",
       "      <td>-7.433333</td>\n",
       "      <td>0.000000</td>\n",
       "    </tr>\n",
       "    <tr>\n",
       "      <th>2015-01-01 00:30:00</th>\n",
       "      <td>0.254771</td>\n",
       "      <td>0.010996</td>\n",
       "      <td>-7.408333</td>\n",
       "      <td>0.000000</td>\n",
       "    </tr>\n",
       "    <tr>\n",
       "      <th>2015-01-01 00:45:00</th>\n",
       "      <td>0.256771</td>\n",
       "      <td>0.011030</td>\n",
       "      <td>-7.383333</td>\n",
       "      <td>0.000000</td>\n",
       "    </tr>\n",
       "    <tr>\n",
       "      <th>2015-01-01 01:00:00</th>\n",
       "      <td>0.259771</td>\n",
       "      <td>0.011064</td>\n",
       "      <td>-7.358333</td>\n",
       "      <td>0.000000</td>\n",
       "    </tr>\n",
       "    <tr>\n",
       "      <th>2015-01-01 01:15:00</th>\n",
       "      <td>0.261771</td>\n",
       "      <td>0.010928</td>\n",
       "      <td>-7.416667</td>\n",
       "      <td>0.095586</td>\n",
       "    </tr>\n",
       "    <tr>\n",
       "      <th>...</th>\n",
       "      <td>...</td>\n",
       "      <td>...</td>\n",
       "      <td>...</td>\n",
       "      <td>...</td>\n",
       "    </tr>\n",
       "    <tr>\n",
       "      <th>2021-02-05 18:00:00</th>\n",
       "      <td>0.275583</td>\n",
       "      <td>0.009178</td>\n",
       "      <td>-7.220000</td>\n",
       "      <td>0.000000</td>\n",
       "    </tr>\n",
       "    <tr>\n",
       "      <th>2021-02-05 18:15:00</th>\n",
       "      <td>0.275583</td>\n",
       "      <td>0.009114</td>\n",
       "      <td>-7.295000</td>\n",
       "      <td>0.000000</td>\n",
       "    </tr>\n",
       "    <tr>\n",
       "      <th>2021-02-05 18:30:00</th>\n",
       "      <td>0.275583</td>\n",
       "      <td>0.009178</td>\n",
       "      <td>-7.370000</td>\n",
       "      <td>0.000000</td>\n",
       "    </tr>\n",
       "    <tr>\n",
       "      <th>2021-02-05 18:45:00</th>\n",
       "      <td>0.275583</td>\n",
       "      <td>0.009146</td>\n",
       "      <td>-7.445000</td>\n",
       "      <td>0.000000</td>\n",
       "    </tr>\n",
       "    <tr>\n",
       "      <th>2021-02-05 19:00:00</th>\n",
       "      <td>0.275583</td>\n",
       "      <td>0.009146</td>\n",
       "      <td>-7.520000</td>\n",
       "      <td>0.000000</td>\n",
       "    </tr>\n",
       "  </tbody>\n",
       "</table>\n",
       "<p>213868 rows × 4 columns</p>\n",
       "</div>"
      ],
      "text/plain": [
       "                        stage discharge temperature precipitation\n",
       "station                 HY006     HY006       HY006         HY006\n",
       "time                                                             \n",
       "2015-01-01 00:15:00  0.252772  0.010861   -7.433333      0.000000\n",
       "2015-01-01 00:30:00  0.254771  0.010996   -7.408333      0.000000\n",
       "2015-01-01 00:45:00  0.256771  0.011030   -7.383333      0.000000\n",
       "2015-01-01 01:00:00  0.259771  0.011064   -7.358333      0.000000\n",
       "2015-01-01 01:15:00  0.261771  0.010928   -7.416667      0.095586\n",
       "...                       ...       ...         ...           ...\n",
       "2021-02-05 18:00:00  0.275583  0.009178   -7.220000      0.000000\n",
       "2021-02-05 18:15:00  0.275583  0.009114   -7.295000      0.000000\n",
       "2021-02-05 18:30:00  0.275583  0.009178   -7.370000      0.000000\n",
       "2021-02-05 18:45:00  0.275583  0.009146   -7.445000      0.000000\n",
       "2021-02-05 19:00:00  0.275583  0.009146   -7.520000      0.000000\n",
       "\n",
       "[213868 rows x 4 columns]"
      ]
     },
     "execution_count": 56,
     "metadata": {},
     "output_type": "execute_result"
    }
   ],
   "source": [
    "import pandas as pd\n",
    "df"
   ]
  }
 ],
 "metadata": {
  "kernelspec": {
   "display_name": ".venv",
   "language": "python",
   "name": "python3"
  },
  "language_info": {
   "codemirror_mode": {
    "name": "ipython",
    "version": 3
   },
   "file_extension": ".py",
   "mimetype": "text/x-python",
   "name": "python",
   "nbconvert_exporter": "python",
   "pygments_lexer": "ipython3",
   "version": "3.12.3"
  }
 },
 "nbformat": 4,
 "nbformat_minor": 2
}
