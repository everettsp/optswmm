{
 "cells": [
  {
   "cell_type": "code",
   "execution_count": null,
   "metadata": {},
   "outputs": [
    {
     "ename": "NameError",
     "evalue": "name 'Path' is not defined",
     "output_type": "error",
     "traceback": [
      "\u001b[31m---------------------------------------------------------------------------\u001b[39m",
      "\u001b[31mNameError\u001b[39m                                 Traceback (most recent call last)",
      "\u001b[36mCell\u001b[39m\u001b[36m \u001b[39m\u001b[32mIn[1]\u001b[39m\u001b[32m, line 2\u001b[39m\n\u001b[32m      1\u001b[39m \u001b[38;5;28;01mfrom\u001b[39;00m\u001b[38;5;250m \u001b[39m\u001b[34;01mdefs\u001b[39;00m\u001b[38;5;250m \u001b[39m\u001b[38;5;28;01mimport\u001b[39;00m load_yaml\n\u001b[32m----> \u001b[39m\u001b[32m2\u001b[39m plotting_dict = load_yaml(\u001b[43mPath\u001b[49m(\u001b[33m\"\u001b[39m\u001b[33mdefs\u001b[39m\u001b[33m\"\u001b[39m) / \u001b[33m'\u001b[39m\u001b[33mdefault_plot_args.yml\u001b[39m\u001b[33m'\u001b[39m)\n\u001b[32m      4\u001b[39m node_types = _get_node_types(mdl)\n\u001b[32m      5\u001b[39m link_types = _get_link_types(mdl)\n",
      "\u001b[31mNameError\u001b[39m: name 'Path' is not defined"
     ]
    }
   ],
   "source": [
    "import matplotlib.pyplot as plt\n",
    "\n",
    "\n",
    "\n",
    "from defs import load_yaml\n",
    "import numpy as np\n",
    "from pathlib import Path\n",
    "from swmmio.defs import INP_OBJECTS, INFILTRATION_COLS, RPT_OBJECTS, COMPOSITE_OBJECTS\n",
    "\n",
    "\n",
    "\n",
    "node_args = {type:{} for type in COMPOSITE_OBJECTS['nodes'][\"inp_sections\"]}\n",
    "link_args = COMPOSITE_OBJECTS['links'][\"inp_sections\"]\n",
    "\n",
    "def _get_node_types(mdl) -> dict[str:str]:\n",
    "    node_types = {}\n",
    "    for sec in COMPOSITE_OBJECTS['nodes'][\"inp_sections\"]:\n",
    "        node_types.update({x:sec for x in getattr(mdl.inp, sec.lower()).index.tolist()})\n",
    "    return node_types\n",
    "\n",
    "def _get_link_types(mdl) -> dict[str:str]:\n",
    "    link_types = {}\n",
    "    for sec in COMPOSITE_OBJECTS['links'][\"inp_sections\"]:\n",
    "        link_types.update({x:sec for x in getattr(mdl.inp, sec.lower()).index.tolist()})\n",
    "    return link_types\n",
    "\n",
    "\n",
    "plotting_dict = load_yaml(Path(\"defs\") / 'default_plot_args.yml')\n",
    "\n",
    "node_types = _get_node_types(mdl)\n",
    "link_types = _get_link_types(mdl)\n",
    "\n",
    "fig, ax = plt.subplots()\n",
    "ok = {}\n",
    "for node_type in COMPOSITE_OBJECTS['nodes'][\"inp_sections\"]:\n",
    "    idx = [x.lower() == node_type.lower() for x in list(node_types.values())]\n",
    "    if np.any(idx):\n",
    "        ok[\"node_type\"] = mdl.nodes.geodataframe.loc[\n",
    "            idx].explore(\n",
    "                ax=ax,\n",
    "                label=node_type.lower(),\n",
    "                **plotting_dict[\"nodes\"][node_type.lower()])\n",
    "        \n",
    "for link_type in COMPOSITE_OBJECTS['links'][\"inp_sections\"]:\n",
    "    idx = [x.lower() == link_type.lower() for x in list(link_types.values())]\n",
    "    if np.any(idx):\n",
    "        mdl.links.geodataframe.loc[\n",
    "            idx].explore(\n",
    "                ax=ax,\n",
    "                label=link_type.lower(),\n",
    "                **plotting_dict[\"links\"][link_type.lower()])\n",
    "        \n",
    "mdl.subcatchments.geodataframe.explore(\n",
    "    ax=ax,\n",
    "    label=\"subcatchments\",\n",
    "    **plotting_dict[\"subcatchments\"]\n",
    ")\n",
    "\n",
    "\n",
    "mdl.subcatchments.geodataframe.explore(ax=ax, column=\"PercImperv\")"
   ]
  }
 ],
 "metadata": {
  "kernelspec": {
   "display_name": ".venv",
   "language": "python",
   "name": "python3"
  },
  "language_info": {
   "codemirror_mode": {
    "name": "ipython",
    "version": 3
   },
   "file_extension": ".py",
   "mimetype": "text/x-python",
   "name": "python",
   "nbconvert_exporter": "python",
   "pygments_lexer": "ipython3",
   "version": "3.11.9"
  }
 },
 "nbformat": 4,
 "nbformat_minor": 2
}
